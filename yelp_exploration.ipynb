{
 "cells": [
  {
   "cell_type": "markdown",
   "metadata": {},
   "source": [
    "# Yelp Exploration"
   ]
  },
  {
   "cell_type": "code",
   "execution_count": 12,
   "metadata": {},
   "outputs": [],
   "source": [
    "%matplotlib inline\n",
    "\n",
    "from collections import Counter\n",
    "import numpy as np\n",
    "import pandas as pd\n",
    "import matplotlib.pyplot as plt\n",
    "import seaborn as sns\n",
    "\n",
    "from sklearn.preprocessing import MultiLabelBinarizer\n",
    "from sklearn.model_selection import train_test_split\n",
    "from sklearn.linear_model import LogisticRegression\n",
    "from sklearn.svm import LinearSVC\n",
    "from sklearn.tree import DecisionTreeClassifier\n",
    "from sklearn.ensemble import RandomForestClassifier\n",
    "from sklearn.naive_bayes import MultinomialNB\n",
    "from sklearn.feature_extraction.text import *\n",
    "from sklearn import metrics\n",
    "from sklearn.grid_search import GridSearchCV"
   ]
  },
  {
   "cell_type": "markdown",
   "metadata": {},
   "source": [
    "## Data Import"
   ]
  },
  {
   "cell_type": "markdown",
   "metadata": {},
   "source": [
    "The datasets are large, so we will import each one in separate cells (just in case we only want to run parts of the notebook)."
   ]
  },
  {
   "cell_type": "code",
   "execution_count": 2,
   "metadata": {},
   "outputs": [
    {
     "name": "stdout",
     "output_type": "stream",
     "text": [
      "Wall time: 367 ms\n"
     ]
    }
   ],
   "source": [
    "%%time\n",
    "# reviews = pd.read_csv('input/yelp_review.csv') # will take over 2 minutes\n",
    "reviews = pd.read_csv('input/yelp_review.csv', nrows=10000) # essentially instant"
   ]
  },
  {
   "cell_type": "code",
   "execution_count": 3,
   "metadata": {},
   "outputs": [
    {
     "name": "stdout",
     "output_type": "stream",
     "text": [
      "Wall time: 910 ms\n"
     ]
    }
   ],
   "source": [
    "%%time\n",
    "businesses = pd.read_csv('input/yelp_business.csv')"
   ]
  },
  {
   "cell_type": "code",
   "execution_count": 4,
   "metadata": {
    "scrolled": false
   },
   "outputs": [
    {
     "name": "stdout",
     "output_type": "stream",
     "text": [
      "Wall time: 2.86 s\n"
     ]
    }
   ],
   "source": [
    "%%time\n",
    "attributes = pd.read_csv('input/yelp_business_attributes.csv', \n",
    "                             dtype='category', na_values='Na', true_values='True', false_values='False')\n",
    "attribute_names = attributes.drop('business_id', axis=1).columns\n",
    "attributes[attribute_names] = attributes[attribute_names].apply(lambda x: x.cat.codes)"
   ]
  },
  {
   "cell_type": "markdown",
   "metadata": {},
   "source": [
    "The raw attributes have a lot of Na's.  Also certain columns are not pure True/False.  For now we'll just use the category codes so that we can actually convert to integers."
   ]
  },
  {
   "cell_type": "markdown",
   "metadata": {},
   "source": [
    "## EDA"
   ]
  },
  {
   "cell_type": "code",
   "execution_count": 10,
   "metadata": {
    "scrolled": true
   },
   "outputs": [
    {
     "data": {
      "text/html": [
       "<div>\n",
       "<style scoped>\n",
       "    .dataframe tbody tr th:only-of-type {\n",
       "        vertical-align: middle;\n",
       "    }\n",
       "\n",
       "    .dataframe tbody tr th {\n",
       "        vertical-align: top;\n",
       "    }\n",
       "\n",
       "    .dataframe thead th {\n",
       "        text-align: right;\n",
       "    }\n",
       "</style>\n",
       "<table border=\"1\" class=\"dataframe\">\n",
       "  <thead>\n",
       "    <tr style=\"text-align: right;\">\n",
       "      <th></th>\n",
       "      <th>review_id</th>\n",
       "      <th>user_id</th>\n",
       "      <th>business_id</th>\n",
       "      <th>stars</th>\n",
       "      <th>date</th>\n",
       "      <th>text</th>\n",
       "      <th>useful</th>\n",
       "      <th>funny</th>\n",
       "      <th>cool</th>\n",
       "    </tr>\n",
       "  </thead>\n",
       "  <tbody>\n",
       "    <tr>\n",
       "      <th>0</th>\n",
       "      <td>vkVSCC7xljjrAI4UGfnKEQ</td>\n",
       "      <td>bv2nCi5Qv5vroFiqKGopiw</td>\n",
       "      <td>AEx2SYEUJmTxVVB18LlCwA</td>\n",
       "      <td>5</td>\n",
       "      <td>2016-05-28</td>\n",
       "      <td>Super simple place but amazing nonetheless. It...</td>\n",
       "      <td>0</td>\n",
       "      <td>0</td>\n",
       "      <td>0</td>\n",
       "    </tr>\n",
       "    <tr>\n",
       "      <th>1</th>\n",
       "      <td>n6QzIUObkYshz4dz2QRJTw</td>\n",
       "      <td>bv2nCi5Qv5vroFiqKGopiw</td>\n",
       "      <td>VR6GpWIda3SfvPC-lg9H3w</td>\n",
       "      <td>5</td>\n",
       "      <td>2016-05-28</td>\n",
       "      <td>Small unassuming place that changes their menu...</td>\n",
       "      <td>0</td>\n",
       "      <td>0</td>\n",
       "      <td>0</td>\n",
       "    </tr>\n",
       "    <tr>\n",
       "      <th>2</th>\n",
       "      <td>MV3CcKScW05u5LVfF6ok0g</td>\n",
       "      <td>bv2nCi5Qv5vroFiqKGopiw</td>\n",
       "      <td>CKC0-MOWMqoeWf6s-szl8g</td>\n",
       "      <td>5</td>\n",
       "      <td>2016-05-28</td>\n",
       "      <td>Lester's is located in a beautiful neighborhoo...</td>\n",
       "      <td>0</td>\n",
       "      <td>0</td>\n",
       "      <td>0</td>\n",
       "    </tr>\n",
       "    <tr>\n",
       "      <th>3</th>\n",
       "      <td>IXvOzsEMYtiJI0CARmj77Q</td>\n",
       "      <td>bv2nCi5Qv5vroFiqKGopiw</td>\n",
       "      <td>ACFtxLv8pGrrxMm6EgjreA</td>\n",
       "      <td>4</td>\n",
       "      <td>2016-05-28</td>\n",
       "      <td>Love coming here. Yes the place always needs t...</td>\n",
       "      <td>0</td>\n",
       "      <td>0</td>\n",
       "      <td>0</td>\n",
       "    </tr>\n",
       "    <tr>\n",
       "      <th>4</th>\n",
       "      <td>L_9BTb55X0GDtThi6GlZ6w</td>\n",
       "      <td>bv2nCi5Qv5vroFiqKGopiw</td>\n",
       "      <td>s2I_Ni76bjJNK9yG60iD-Q</td>\n",
       "      <td>4</td>\n",
       "      <td>2016-05-28</td>\n",
       "      <td>Had their chocolate almond croissant and it wa...</td>\n",
       "      <td>0</td>\n",
       "      <td>0</td>\n",
       "      <td>0</td>\n",
       "    </tr>\n",
       "  </tbody>\n",
       "</table>\n",
       "</div>"
      ],
      "text/plain": [
       "                review_id                 user_id             business_id  \\\n",
       "0  vkVSCC7xljjrAI4UGfnKEQ  bv2nCi5Qv5vroFiqKGopiw  AEx2SYEUJmTxVVB18LlCwA   \n",
       "1  n6QzIUObkYshz4dz2QRJTw  bv2nCi5Qv5vroFiqKGopiw  VR6GpWIda3SfvPC-lg9H3w   \n",
       "2  MV3CcKScW05u5LVfF6ok0g  bv2nCi5Qv5vroFiqKGopiw  CKC0-MOWMqoeWf6s-szl8g   \n",
       "3  IXvOzsEMYtiJI0CARmj77Q  bv2nCi5Qv5vroFiqKGopiw  ACFtxLv8pGrrxMm6EgjreA   \n",
       "4  L_9BTb55X0GDtThi6GlZ6w  bv2nCi5Qv5vroFiqKGopiw  s2I_Ni76bjJNK9yG60iD-Q   \n",
       "\n",
       "   stars        date                                               text  \\\n",
       "0      5  2016-05-28  Super simple place but amazing nonetheless. It...   \n",
       "1      5  2016-05-28  Small unassuming place that changes their menu...   \n",
       "2      5  2016-05-28  Lester's is located in a beautiful neighborhoo...   \n",
       "3      4  2016-05-28  Love coming here. Yes the place always needs t...   \n",
       "4      4  2016-05-28  Had their chocolate almond croissant and it wa...   \n",
       "\n",
       "   useful  funny  cool  \n",
       "0       0      0     0  \n",
       "1       0      0     0  \n",
       "2       0      0     0  \n",
       "3       0      0     0  \n",
       "4       0      0     0  "
      ]
     },
     "execution_count": 10,
     "metadata": {},
     "output_type": "execute_result"
    }
   ],
   "source": [
    "reviews.head()"
   ]
  },
  {
   "cell_type": "code",
   "execution_count": 5,
   "metadata": {
    "scrolled": false
   },
   "outputs": [
    {
     "data": {
      "image/png": "[encoded data removed]",
      "text/plain": [
       "<matplotlib.figure.Figure at 0xb42ffd0>"
      ]
     },
     "metadata": {},
     "output_type": "display_data"
    }
   ],
   "source": [
    "sns.countplot('stars', data=reviews)\n",
    "plt.grid()\n",
    "plt.show()"
   ]
  },
  {
   "cell_type": "markdown",
   "metadata": {},
   "source": [
    "For geographical separation.  We can run KMeans or put this on a maps API later."
   ]
  },
  {
   "cell_type": "code",
   "execution_count": 81,
   "metadata": {
    "scrolled": false
   },
   "outputs": [
    {
     "data": {
      "image/png": "[encoded data removed]",
      "text/plain": [
       "<matplotlib.figure.Figure at 0x11437e48>"
      ]
     },
     "metadata": {},
     "output_type": "display_data"
    }
   ],
   "source": [
    "plt.scatter(businesses.longitude, businesses.latitude)\n",
    "plt.xlabel('Longitude')\n",
    "plt.ylabel('Latitude')\n",
    "plt.title('Business Locations')\n",
    "plt.grid()\n",
    "plt.show()"
   ]
  },
  {
   "cell_type": "markdown",
   "metadata": {},
   "source": [
    "We're going to join businesses and attributes now.  Businesses without listed attributes and the converse will be excluded by the inner join."
   ]
  },
  {
   "cell_type": "code",
   "execution_count": 30,
   "metadata": {
    "scrolled": true
   },
   "outputs": [
    {
     "data": {
      "text/html": [
       "<div>\n",
       "<style scoped>\n",
       "    .dataframe tbody tr th:only-of-type {\n",
       "        vertical-align: middle;\n",
       "    }\n",
       "\n",
       "    .dataframe tbody tr th {\n",
       "        vertical-align: top;\n",
       "    }\n",
       "\n",
       "    .dataframe thead th {\n",
       "        text-align: right;\n",
       "    }\n",
       "</style>\n",
       "<table border=\"1\" class=\"dataframe\">\n",
       "  <thead>\n",
       "    <tr style=\"text-align: right;\">\n",
       "      <th></th>\n",
       "      <th>name</th>\n",
       "      <th>neighborhood</th>\n",
       "      <th>address</th>\n",
       "      <th>city</th>\n",
       "      <th>state</th>\n",
       "      <th>postal_code</th>\n",
       "      <th>latitude</th>\n",
       "      <th>longitude</th>\n",
       "      <th>stars</th>\n",
       "      <th>review_count</th>\n",
       "      <th>...</th>\n",
       "      <th>Corkage</th>\n",
       "      <th>DietaryRestrictions_dairy-free</th>\n",
       "      <th>DietaryRestrictions_gluten-free</th>\n",
       "      <th>DietaryRestrictions_vegan</th>\n",
       "      <th>DietaryRestrictions_kosher</th>\n",
       "      <th>DietaryRestrictions_halal</th>\n",
       "      <th>DietaryRestrictions_soy-free</th>\n",
       "      <th>DietaryRestrictions_vegetarian</th>\n",
       "      <th>AgesAllowed</th>\n",
       "      <th>RestaurantsCounterService</th>\n",
       "    </tr>\n",
       "    <tr>\n",
       "      <th>business_id</th>\n",
       "      <th></th>\n",
       "      <th></th>\n",
       "      <th></th>\n",
       "      <th></th>\n",
       "      <th></th>\n",
       "      <th></th>\n",
       "      <th></th>\n",
       "      <th></th>\n",
       "      <th></th>\n",
       "      <th></th>\n",
       "      <th></th>\n",
       "      <th></th>\n",
       "      <th></th>\n",
       "      <th></th>\n",
       "      <th></th>\n",
       "      <th></th>\n",
       "      <th></th>\n",
       "      <th></th>\n",
       "      <th></th>\n",
       "      <th></th>\n",
       "      <th></th>\n",
       "    </tr>\n",
       "  </thead>\n",
       "  <tbody>\n",
       "    <tr>\n",
       "      <th>FYWN1wneV18bWNgQjJ2GNg</th>\n",
       "      <td>\"Dental by Design\"</td>\n",
       "      <td>NaN</td>\n",
       "      <td>\"4855 E Warner Rd, Ste B9\"</td>\n",
       "      <td>Ahwatukee</td>\n",
       "      <td>AZ</td>\n",
       "      <td>85044</td>\n",
       "      <td>33.330690</td>\n",
       "      <td>-111.978599</td>\n",
       "      <td>4.0</td>\n",
       "      <td>22</td>\n",
       "      <td>...</td>\n",
       "      <td>-1</td>\n",
       "      <td>-1</td>\n",
       "      <td>-1</td>\n",
       "      <td>-1</td>\n",
       "      <td>-1</td>\n",
       "      <td>-1</td>\n",
       "      <td>-1</td>\n",
       "      <td>-1</td>\n",
       "      <td>-1</td>\n",
       "      <td>-1</td>\n",
       "    </tr>\n",
       "    <tr>\n",
       "      <th>He-G7vWjzVUysIKrfNbPUQ</th>\n",
       "      <td>\"Stephen Szabo Salon\"</td>\n",
       "      <td>NaN</td>\n",
       "      <td>\"3101 Washington Rd\"</td>\n",
       "      <td>McMurray</td>\n",
       "      <td>PA</td>\n",
       "      <td>15317</td>\n",
       "      <td>40.291685</td>\n",
       "      <td>-80.104900</td>\n",
       "      <td>3.0</td>\n",
       "      <td>11</td>\n",
       "      <td>...</td>\n",
       "      <td>-1</td>\n",
       "      <td>-1</td>\n",
       "      <td>-1</td>\n",
       "      <td>-1</td>\n",
       "      <td>-1</td>\n",
       "      <td>-1</td>\n",
       "      <td>-1</td>\n",
       "      <td>-1</td>\n",
       "      <td>-1</td>\n",
       "      <td>-1</td>\n",
       "    </tr>\n",
       "    <tr>\n",
       "      <th>8DShNS-LuFqpEWIp0HxijA</th>\n",
       "      <td>\"Sports Authority\"</td>\n",
       "      <td>NaN</td>\n",
       "      <td>\"5000 Arizona Mills Cr, Ste 435\"</td>\n",
       "      <td>Tempe</td>\n",
       "      <td>AZ</td>\n",
       "      <td>85282</td>\n",
       "      <td>33.383147</td>\n",
       "      <td>-111.964725</td>\n",
       "      <td>3.0</td>\n",
       "      <td>9</td>\n",
       "      <td>...</td>\n",
       "      <td>-1</td>\n",
       "      <td>-1</td>\n",
       "      <td>-1</td>\n",
       "      <td>-1</td>\n",
       "      <td>-1</td>\n",
       "      <td>-1</td>\n",
       "      <td>-1</td>\n",
       "      <td>-1</td>\n",
       "      <td>-1</td>\n",
       "      <td>-1</td>\n",
       "    </tr>\n",
       "    <tr>\n",
       "      <th>PfOCPjBrlQAnz__NXj9h_w</th>\n",
       "      <td>\"Brick House Tavern + Tap\"</td>\n",
       "      <td>NaN</td>\n",
       "      <td>\"581 Howe Ave\"</td>\n",
       "      <td>Cuyahoga Falls</td>\n",
       "      <td>OH</td>\n",
       "      <td>44221</td>\n",
       "      <td>41.119535</td>\n",
       "      <td>-81.475690</td>\n",
       "      <td>3.5</td>\n",
       "      <td>116</td>\n",
       "      <td>...</td>\n",
       "      <td>-1</td>\n",
       "      <td>-1</td>\n",
       "      <td>-1</td>\n",
       "      <td>-1</td>\n",
       "      <td>-1</td>\n",
       "      <td>-1</td>\n",
       "      <td>-1</td>\n",
       "      <td>-1</td>\n",
       "      <td>-1</td>\n",
       "      <td>-1</td>\n",
       "    </tr>\n",
       "    <tr>\n",
       "      <th>o9eMRCWt5PkpLDE0gOPtcQ</th>\n",
       "      <td>\"Messina\"</td>\n",
       "      <td>NaN</td>\n",
       "      <td>\"Richterstr. 11\"</td>\n",
       "      <td>Stuttgart</td>\n",
       "      <td>BW</td>\n",
       "      <td>70567</td>\n",
       "      <td>48.727200</td>\n",
       "      <td>9.147950</td>\n",
       "      <td>4.0</td>\n",
       "      <td>5</td>\n",
       "      <td>...</td>\n",
       "      <td>-1</td>\n",
       "      <td>-1</td>\n",
       "      <td>-1</td>\n",
       "      <td>-1</td>\n",
       "      <td>-1</td>\n",
       "      <td>-1</td>\n",
       "      <td>-1</td>\n",
       "      <td>-1</td>\n",
       "      <td>-1</td>\n",
       "      <td>-1</td>\n",
       "    </tr>\n",
       "  </tbody>\n",
       "</table>\n",
       "<p>5 rows × 93 columns</p>\n",
       "</div>"
      ],
      "text/plain": [
       "                                              name neighborhood  \\\n",
       "business_id                                                       \n",
       "FYWN1wneV18bWNgQjJ2GNg          \"Dental by Design\"          NaN   \n",
       "He-G7vWjzVUysIKrfNbPUQ       \"Stephen Szabo Salon\"          NaN   \n",
       "8DShNS-LuFqpEWIp0HxijA          \"Sports Authority\"          NaN   \n",
       "PfOCPjBrlQAnz__NXj9h_w  \"Brick House Tavern + Tap\"          NaN   \n",
       "o9eMRCWt5PkpLDE0gOPtcQ                   \"Messina\"          NaN   \n",
       "\n",
       "                                                 address            city  \\\n",
       "business_id                                                                \n",
       "FYWN1wneV18bWNgQjJ2GNg        \"4855 E Warner Rd, Ste B9\"       Ahwatukee   \n",
       "He-G7vWjzVUysIKrfNbPUQ              \"3101 Washington Rd\"        McMurray   \n",
       "8DShNS-LuFqpEWIp0HxijA  \"5000 Arizona Mills Cr, Ste 435\"           Tempe   \n",
       "PfOCPjBrlQAnz__NXj9h_w                    \"581 Howe Ave\"  Cuyahoga Falls   \n",
       "o9eMRCWt5PkpLDE0gOPtcQ                  \"Richterstr. 11\"       Stuttgart   \n",
       "\n",
       "                       state postal_code   latitude   longitude  stars  \\\n",
       "business_id                                                              \n",
       "FYWN1wneV18bWNgQjJ2GNg    AZ       85044  33.330690 -111.978599    4.0   \n",
       "He-G7vWjzVUysIKrfNbPUQ    PA       15317  40.291685  -80.104900    3.0   \n",
       "8DShNS-LuFqpEWIp0HxijA    AZ       85282  33.383147 -111.964725    3.0   \n",
       "PfOCPjBrlQAnz__NXj9h_w    OH       44221  41.119535  -81.475690    3.5   \n",
       "o9eMRCWt5PkpLDE0gOPtcQ    BW       70567  48.727200    9.147950    4.0   \n",
       "\n",
       "                        review_count            ...              Corkage  \\\n",
       "business_id                                     ...                        \n",
       "FYWN1wneV18bWNgQjJ2GNg            22            ...                   -1   \n",
       "He-G7vWjzVUysIKrfNbPUQ            11            ...                   -1   \n",
       "8DShNS-LuFqpEWIp0HxijA             9            ...                   -1   \n",
       "PfOCPjBrlQAnz__NXj9h_w           116            ...                   -1   \n",
       "o9eMRCWt5PkpLDE0gOPtcQ             5            ...                   -1   \n",
       "\n",
       "                       DietaryRestrictions_dairy-free  \\\n",
       "business_id                                             \n",
       "FYWN1wneV18bWNgQjJ2GNg                             -1   \n",
       "He-G7vWjzVUysIKrfNbPUQ                             -1   \n",
       "8DShNS-LuFqpEWIp0HxijA                             -1   \n",
       "PfOCPjBrlQAnz__NXj9h_w                             -1   \n",
       "o9eMRCWt5PkpLDE0gOPtcQ                             -1   \n",
       "\n",
       "                        DietaryRestrictions_gluten-free  \\\n",
       "business_id                                               \n",
       "FYWN1wneV18bWNgQjJ2GNg                               -1   \n",
       "He-G7vWjzVUysIKrfNbPUQ                               -1   \n",
       "8DShNS-LuFqpEWIp0HxijA                               -1   \n",
       "PfOCPjBrlQAnz__NXj9h_w                               -1   \n",
       "o9eMRCWt5PkpLDE0gOPtcQ                               -1   \n",
       "\n",
       "                        DietaryRestrictions_vegan  DietaryRestrictions_kosher  \\\n",
       "business_id                                                                     \n",
       "FYWN1wneV18bWNgQjJ2GNg                         -1                          -1   \n",
       "He-G7vWjzVUysIKrfNbPUQ                         -1                          -1   \n",
       "8DShNS-LuFqpEWIp0HxijA                         -1                          -1   \n",
       "PfOCPjBrlQAnz__NXj9h_w                         -1                          -1   \n",
       "o9eMRCWt5PkpLDE0gOPtcQ                         -1                          -1   \n",
       "\n",
       "                        DietaryRestrictions_halal  \\\n",
       "business_id                                         \n",
       "FYWN1wneV18bWNgQjJ2GNg                         -1   \n",
       "He-G7vWjzVUysIKrfNbPUQ                         -1   \n",
       "8DShNS-LuFqpEWIp0HxijA                         -1   \n",
       "PfOCPjBrlQAnz__NXj9h_w                         -1   \n",
       "o9eMRCWt5PkpLDE0gOPtcQ                         -1   \n",
       "\n",
       "                        DietaryRestrictions_soy-free  \\\n",
       "business_id                                            \n",
       "FYWN1wneV18bWNgQjJ2GNg                            -1   \n",
       "He-G7vWjzVUysIKrfNbPUQ                            -1   \n",
       "8DShNS-LuFqpEWIp0HxijA                            -1   \n",
       "PfOCPjBrlQAnz__NXj9h_w                            -1   \n",
       "o9eMRCWt5PkpLDE0gOPtcQ                            -1   \n",
       "\n",
       "                        DietaryRestrictions_vegetarian  AgesAllowed  \\\n",
       "business_id                                                           \n",
       "FYWN1wneV18bWNgQjJ2GNg                              -1           -1   \n",
       "He-G7vWjzVUysIKrfNbPUQ                              -1           -1   \n",
       "8DShNS-LuFqpEWIp0HxijA                              -1           -1   \n",
       "PfOCPjBrlQAnz__NXj9h_w                              -1           -1   \n",
       "o9eMRCWt5PkpLDE0gOPtcQ                              -1           -1   \n",
       "\n",
       "                        RestaurantsCounterService  \n",
       "business_id                                        \n",
       "FYWN1wneV18bWNgQjJ2GNg                         -1  \n",
       "He-G7vWjzVUysIKrfNbPUQ                         -1  \n",
       "8DShNS-LuFqpEWIp0HxijA                         -1  \n",
       "PfOCPjBrlQAnz__NXj9h_w                         -1  \n",
       "o9eMRCWt5PkpLDE0gOPtcQ                         -1  \n",
       "\n",
       "[5 rows x 93 columns]"
      ]
     },
     "execution_count": 30,
     "metadata": {},
     "output_type": "execute_result"
    }
   ],
   "source": [
    "joined = businesses.merge(attributes, on='business_id').set_index('business_id')\n",
    "joined.head()"
   ]
  },
  {
   "cell_type": "markdown",
   "metadata": {},
   "source": [
    "## Extracting Categories"
   ]
  },
  {
   "cell_type": "markdown",
   "metadata": {},
   "source": [
    "The categories in the `businesses` data frame is useful to us.  However, it is currently in the form of semicolon separated values.  In addition, the categories for each business do not seem to be ordered in any way.  Consider that restaurants are probably the most popular type of business on Yelp, but the \"restaurant\" label is not necessarily first (or even near the top) of the category list for any given applicable business.  Therefore, we will do some preprocessing to extract all the categories and sort them by popularity, i.e. frequency of appearance in businesses."
   ]
  },
  {
   "cell_type": "code",
   "execution_count": 39,
   "metadata": {},
   "outputs": [
    {
     "name": "stdout",
     "output_type": "stream",
     "text": [
      "Total number of business: 152041\n",
      "Total number of categories: 1269\n"
     ]
    }
   ],
   "source": [
    "c = Counter()\n",
    "joined.categories.str.split(';').apply(lambda x: c.update(x))\n",
    "\n",
    "print('Total number of business: %d' % joined.shape[0])\n",
    "\n",
    "n_categories = len(c.keys())\n",
    "print('Total number of categories: %d' % n_categories)"
   ]
  },
  {
   "cell_type": "code",
   "execution_count": 57,
   "metadata": {},
   "outputs": [
    {
     "data": {
      "image/png": "[encoded data removed]",
      "text/plain": [
       "<matplotlib.figure.Figure at 0x12cf9320>"
      ]
     },
     "metadata": {},
     "output_type": "display_data"
    }
   ],
   "source": [
    "categories = pd.DataFrame.from_dict(c, orient='index').reset_index()\n",
    "categories.columns = ['category', 'count']\n",
    "categories = categories.sort_values('count', ascending=False)\n",
    "\n",
    "plt.figure(figsize=[20,10])\n",
    "sns.barplot(x='category', y='count', data=categories.iloc[:10])\n",
    "plt.grid()\n",
    "plt.show()"
   ]
  },
  {
   "cell_type": "markdown",
   "metadata": {},
   "source": [
    "Now, we want to pull out the first few categories as \"main categories for each business.  To do this, we\n",
    "\n",
    "1. Split the categories\n",
    "2. Sort the categories by descending count\n",
    "3. Rejoin the categories\n",
    "4. Split the categories into separate columns\n",
    "5. Extract the first 3 columns\n",
    "\n",
    "Admitedly, there seems to be some inefficiency between steps 3 and 4.  I am currently unsure of how to do it better."
   ]
  },
  {
   "cell_type": "code",
   "execution_count": 67,
   "metadata": {},
   "outputs": [
    {
     "data": {
      "text/html": [
       "<div>\n",
       "<style scoped>\n",
       "    .dataframe tbody tr th:only-of-type {\n",
       "        vertical-align: middle;\n",
       "    }\n",
       "\n",
       "    .dataframe tbody tr th {\n",
       "        vertical-align: top;\n",
       "    }\n",
       "\n",
       "    .dataframe thead th {\n",
       "        text-align: right;\n",
       "    }\n",
       "</style>\n",
       "<table border=\"1\" class=\"dataframe\">\n",
       "  <thead>\n",
       "    <tr style=\"text-align: right;\">\n",
       "      <th></th>\n",
       "      <th>name</th>\n",
       "      <th>neighborhood</th>\n",
       "      <th>address</th>\n",
       "      <th>city</th>\n",
       "      <th>state</th>\n",
       "      <th>postal_code</th>\n",
       "      <th>latitude</th>\n",
       "      <th>longitude</th>\n",
       "      <th>stars</th>\n",
       "      <th>review_count</th>\n",
       "      <th>...</th>\n",
       "      <th>DietaryRestrictions_vegan</th>\n",
       "      <th>DietaryRestrictions_kosher</th>\n",
       "      <th>DietaryRestrictions_halal</th>\n",
       "      <th>DietaryRestrictions_soy-free</th>\n",
       "      <th>DietaryRestrictions_vegetarian</th>\n",
       "      <th>AgesAllowed</th>\n",
       "      <th>RestaurantsCounterService</th>\n",
       "      <th>category1</th>\n",
       "      <th>category2</th>\n",
       "      <th>category3</th>\n",
       "    </tr>\n",
       "    <tr>\n",
       "      <th>business_id</th>\n",
       "      <th></th>\n",
       "      <th></th>\n",
       "      <th></th>\n",
       "      <th></th>\n",
       "      <th></th>\n",
       "      <th></th>\n",
       "      <th></th>\n",
       "      <th></th>\n",
       "      <th></th>\n",
       "      <th></th>\n",
       "      <th></th>\n",
       "      <th></th>\n",
       "      <th></th>\n",
       "      <th></th>\n",
       "      <th></th>\n",
       "      <th></th>\n",
       "      <th></th>\n",
       "      <th></th>\n",
       "      <th></th>\n",
       "      <th></th>\n",
       "      <th></th>\n",
       "    </tr>\n",
       "  </thead>\n",
       "  <tbody>\n",
       "    <tr>\n",
       "      <th>FYWN1wneV18bWNgQjJ2GNg</th>\n",
       "      <td>\"Dental by Design\"</td>\n",
       "      <td>NaN</td>\n",
       "      <td>\"4855 E Warner Rd, Ste B9\"</td>\n",
       "      <td>Ahwatukee</td>\n",
       "      <td>AZ</td>\n",
       "      <td>85044</td>\n",
       "      <td>33.330690</td>\n",
       "      <td>-111.978599</td>\n",
       "      <td>4.0</td>\n",
       "      <td>22</td>\n",
       "      <td>...</td>\n",
       "      <td>-1</td>\n",
       "      <td>-1</td>\n",
       "      <td>-1</td>\n",
       "      <td>-1</td>\n",
       "      <td>-1</td>\n",
       "      <td>-1</td>\n",
       "      <td>-1</td>\n",
       "      <td>Health &amp; Medical</td>\n",
       "      <td>Dentists</td>\n",
       "      <td>General Dentistry</td>\n",
       "    </tr>\n",
       "    <tr>\n",
       "      <th>He-G7vWjzVUysIKrfNbPUQ</th>\n",
       "      <td>\"Stephen Szabo Salon\"</td>\n",
       "      <td>NaN</td>\n",
       "      <td>\"3101 Washington Rd\"</td>\n",
       "      <td>McMurray</td>\n",
       "      <td>PA</td>\n",
       "      <td>15317</td>\n",
       "      <td>40.291685</td>\n",
       "      <td>-80.104900</td>\n",
       "      <td>3.0</td>\n",
       "      <td>11</td>\n",
       "      <td>...</td>\n",
       "      <td>-1</td>\n",
       "      <td>-1</td>\n",
       "      <td>-1</td>\n",
       "      <td>-1</td>\n",
       "      <td>-1</td>\n",
       "      <td>-1</td>\n",
       "      <td>-1</td>\n",
       "      <td>Beauty &amp; Spas</td>\n",
       "      <td>Hair Salons</td>\n",
       "      <td>Hair Stylists</td>\n",
       "    </tr>\n",
       "    <tr>\n",
       "      <th>8DShNS-LuFqpEWIp0HxijA</th>\n",
       "      <td>\"Sports Authority\"</td>\n",
       "      <td>NaN</td>\n",
       "      <td>\"5000 Arizona Mills Cr, Ste 435\"</td>\n",
       "      <td>Tempe</td>\n",
       "      <td>AZ</td>\n",
       "      <td>85282</td>\n",
       "      <td>33.383147</td>\n",
       "      <td>-111.964725</td>\n",
       "      <td>3.0</td>\n",
       "      <td>9</td>\n",
       "      <td>...</td>\n",
       "      <td>-1</td>\n",
       "      <td>-1</td>\n",
       "      <td>-1</td>\n",
       "      <td>-1</td>\n",
       "      <td>-1</td>\n",
       "      <td>-1</td>\n",
       "      <td>-1</td>\n",
       "      <td>Shopping</td>\n",
       "      <td>Sporting Goods</td>\n",
       "      <td>None</td>\n",
       "    </tr>\n",
       "    <tr>\n",
       "      <th>PfOCPjBrlQAnz__NXj9h_w</th>\n",
       "      <td>\"Brick House Tavern + Tap\"</td>\n",
       "      <td>NaN</td>\n",
       "      <td>\"581 Howe Ave\"</td>\n",
       "      <td>Cuyahoga Falls</td>\n",
       "      <td>OH</td>\n",
       "      <td>44221</td>\n",
       "      <td>41.119535</td>\n",
       "      <td>-81.475690</td>\n",
       "      <td>3.5</td>\n",
       "      <td>116</td>\n",
       "      <td>...</td>\n",
       "      <td>-1</td>\n",
       "      <td>-1</td>\n",
       "      <td>-1</td>\n",
       "      <td>-1</td>\n",
       "      <td>-1</td>\n",
       "      <td>-1</td>\n",
       "      <td>-1</td>\n",
       "      <td>Restaurants</td>\n",
       "      <td>Nightlife</td>\n",
       "      <td>Bars</td>\n",
       "    </tr>\n",
       "    <tr>\n",
       "      <th>o9eMRCWt5PkpLDE0gOPtcQ</th>\n",
       "      <td>\"Messina\"</td>\n",
       "      <td>NaN</td>\n",
       "      <td>\"Richterstr. 11\"</td>\n",
       "      <td>Stuttgart</td>\n",
       "      <td>BW</td>\n",
       "      <td>70567</td>\n",
       "      <td>48.727200</td>\n",
       "      <td>9.147950</td>\n",
       "      <td>4.0</td>\n",
       "      <td>5</td>\n",
       "      <td>...</td>\n",
       "      <td>-1</td>\n",
       "      <td>-1</td>\n",
       "      <td>-1</td>\n",
       "      <td>-1</td>\n",
       "      <td>-1</td>\n",
       "      <td>-1</td>\n",
       "      <td>-1</td>\n",
       "      <td>Restaurants</td>\n",
       "      <td>Italian</td>\n",
       "      <td>None</td>\n",
       "    </tr>\n",
       "  </tbody>\n",
       "</table>\n",
       "<p>5 rows × 96 columns</p>\n",
       "</div>"
      ],
      "text/plain": [
       "                                              name neighborhood  \\\n",
       "business_id                                                       \n",
       "FYWN1wneV18bWNgQjJ2GNg          \"Dental by Design\"          NaN   \n",
       "He-G7vWjzVUysIKrfNbPUQ       \"Stephen Szabo Salon\"          NaN   \n",
       "8DShNS-LuFqpEWIp0HxijA          \"Sports Authority\"          NaN   \n",
       "PfOCPjBrlQAnz__NXj9h_w  \"Brick House Tavern + Tap\"          NaN   \n",
       "o9eMRCWt5PkpLDE0gOPtcQ                   \"Messina\"          NaN   \n",
       "\n",
       "                                                 address            city  \\\n",
       "business_id                                                                \n",
       "FYWN1wneV18bWNgQjJ2GNg        \"4855 E Warner Rd, Ste B9\"       Ahwatukee   \n",
       "He-G7vWjzVUysIKrfNbPUQ              \"3101 Washington Rd\"        McMurray   \n",
       "8DShNS-LuFqpEWIp0HxijA  \"5000 Arizona Mills Cr, Ste 435\"           Tempe   \n",
       "PfOCPjBrlQAnz__NXj9h_w                    \"581 Howe Ave\"  Cuyahoga Falls   \n",
       "o9eMRCWt5PkpLDE0gOPtcQ                  \"Richterstr. 11\"       Stuttgart   \n",
       "\n",
       "                       state postal_code   latitude   longitude  stars  \\\n",
       "business_id                                                              \n",
       "FYWN1wneV18bWNgQjJ2GNg    AZ       85044  33.330690 -111.978599    4.0   \n",
       "He-G7vWjzVUysIKrfNbPUQ    PA       15317  40.291685  -80.104900    3.0   \n",
       "8DShNS-LuFqpEWIp0HxijA    AZ       85282  33.383147 -111.964725    3.0   \n",
       "PfOCPjBrlQAnz__NXj9h_w    OH       44221  41.119535  -81.475690    3.5   \n",
       "o9eMRCWt5PkpLDE0gOPtcQ    BW       70567  48.727200    9.147950    4.0   \n",
       "\n",
       "                        review_count        ...          \\\n",
       "business_id                                 ...           \n",
       "FYWN1wneV18bWNgQjJ2GNg            22        ...           \n",
       "He-G7vWjzVUysIKrfNbPUQ            11        ...           \n",
       "8DShNS-LuFqpEWIp0HxijA             9        ...           \n",
       "PfOCPjBrlQAnz__NXj9h_w           116        ...           \n",
       "o9eMRCWt5PkpLDE0gOPtcQ             5        ...           \n",
       "\n",
       "                        DietaryRestrictions_vegan DietaryRestrictions_kosher  \\\n",
       "business_id                                                                    \n",
       "FYWN1wneV18bWNgQjJ2GNg                         -1                         -1   \n",
       "He-G7vWjzVUysIKrfNbPUQ                         -1                         -1   \n",
       "8DShNS-LuFqpEWIp0HxijA                         -1                         -1   \n",
       "PfOCPjBrlQAnz__NXj9h_w                         -1                         -1   \n",
       "o9eMRCWt5PkpLDE0gOPtcQ                         -1                         -1   \n",
       "\n",
       "                        DietaryRestrictions_halal  \\\n",
       "business_id                                         \n",
       "FYWN1wneV18bWNgQjJ2GNg                         -1   \n",
       "He-G7vWjzVUysIKrfNbPUQ                         -1   \n",
       "8DShNS-LuFqpEWIp0HxijA                         -1   \n",
       "PfOCPjBrlQAnz__NXj9h_w                         -1   \n",
       "o9eMRCWt5PkpLDE0gOPtcQ                         -1   \n",
       "\n",
       "                        DietaryRestrictions_soy-free  \\\n",
       "business_id                                            \n",
       "FYWN1wneV18bWNgQjJ2GNg                            -1   \n",
       "He-G7vWjzVUysIKrfNbPUQ                            -1   \n",
       "8DShNS-LuFqpEWIp0HxijA                            -1   \n",
       "PfOCPjBrlQAnz__NXj9h_w                            -1   \n",
       "o9eMRCWt5PkpLDE0gOPtcQ                            -1   \n",
       "\n",
       "                        DietaryRestrictions_vegetarian  AgesAllowed  \\\n",
       "business_id                                                           \n",
       "FYWN1wneV18bWNgQjJ2GNg                              -1           -1   \n",
       "He-G7vWjzVUysIKrfNbPUQ                              -1           -1   \n",
       "8DShNS-LuFqpEWIp0HxijA                              -1           -1   \n",
       "PfOCPjBrlQAnz__NXj9h_w                              -1           -1   \n",
       "o9eMRCWt5PkpLDE0gOPtcQ                              -1           -1   \n",
       "\n",
       "                        RestaurantsCounterService         category1  \\\n",
       "business_id                                                           \n",
       "FYWN1wneV18bWNgQjJ2GNg                         -1  Health & Medical   \n",
       "He-G7vWjzVUysIKrfNbPUQ                         -1     Beauty & Spas   \n",
       "8DShNS-LuFqpEWIp0HxijA                         -1          Shopping   \n",
       "PfOCPjBrlQAnz__NXj9h_w                         -1       Restaurants   \n",
       "o9eMRCWt5PkpLDE0gOPtcQ                         -1       Restaurants   \n",
       "\n",
       "                             category2          category3  \n",
       "business_id                                                \n",
       "FYWN1wneV18bWNgQjJ2GNg        Dentists  General Dentistry  \n",
       "He-G7vWjzVUysIKrfNbPUQ     Hair Salons      Hair Stylists  \n",
       "8DShNS-LuFqpEWIp0HxijA  Sporting Goods               None  \n",
       "PfOCPjBrlQAnz__NXj9h_w       Nightlife               Bars  \n",
       "o9eMRCWt5PkpLDE0gOPtcQ         Italian               None  \n",
       "\n",
       "[5 rows x 96 columns]"
      ]
     },
     "execution_count": 67,
     "metadata": {},
     "output_type": "execute_result"
    }
   ],
   "source": [
    "main_categories = joined.categories.str.split(';')\\\n",
    "    .apply(lambda row: ';'.join(sorted(row, key=lambda x:-c[x]))).\\\n",
    "    str.split(';', expand=True)\\\n",
    "    [[0,1,2]]\n",
    "\n",
    "main_categories.columns = ['category1', 'category2', 'category3']\n",
    "attributes_categories = pd.concat([joined, main_categories], axis=1)\n",
    "attributes_categories.head()"
   ]
  },
  {
   "cell_type": "markdown",
   "metadata": {},
   "source": [
    "## Machine Learning"
   ]
  },
  {
   "cell_type": "markdown",
   "metadata": {},
   "source": [
    "### Predicting Star with Business Attributes"
   ]
  },
  {
   "cell_type": "markdown",
   "metadata": {},
   "source": [
    "I'm getting lazy with the naming convention here.  I'll have to fix the `X_train` vs `train_data` naming convention later.  For now, I just need to differentiate between training on the reviews and training on the business attributes.  Also, I'm going to just treat dev and test as the same for now since so most people online seem to do that anyways.\n",
    "\n",
    "Also, the categories column is valuable but is currently unusable as a semicolon separated string value.  I'll deal with this later."
   ]
  },
  {
   "cell_type": "code",
   "execution_count": 68,
   "metadata": {},
   "outputs": [],
   "source": [
    "np.random.seed(0)\n",
    "X_train_attr, X_test_attr, y_train_attr, y_test_attr = \\\n",
    "    train_test_split(joined[attribute_names].values, joined.stars.astype(np.int8).values, test_size=.1)"
   ]
  },
  {
   "cell_type": "markdown",
   "metadata": {},
   "source": [
    "#### Decision Tree"
   ]
  },
  {
   "cell_type": "code",
   "execution_count": 70,
   "metadata": {
    "scrolled": true
   },
   "outputs": [
    {
     "name": "stdout",
     "output_type": "stream",
     "text": [
      "             precision    recall  f1-score   support\n",
      "\n",
      "          1      0.333     0.002     0.004       528\n",
      "          2      0.429     0.041     0.075      2130\n",
      "          3      0.419     0.386     0.402      4992\n",
      "          4      0.371     0.632     0.467      5275\n",
      "          5      0.368     0.228     0.282      2280\n",
      "\n",
      "avg / total      0.393     0.386     0.347     15205\n",
      "\n",
      "Wall time: 1.31 s\n"
     ]
    }
   ],
   "source": [
    "%%time\n",
    "\n",
    "dt = DecisionTreeClassifier()\n",
    "dt.fit(X_train_attr, y_train_attr)\n",
    "\n",
    "print(metrics.classification_report(y_test_attr, dt.predict(X_test_attr), digits=3))"
   ]
  },
  {
   "cell_type": "markdown",
   "metadata": {},
   "source": [
    "#### Random Forest"
   ]
  },
  {
   "cell_type": "code",
   "execution_count": 71,
   "metadata": {},
   "outputs": [
    {
     "name": "stdout",
     "output_type": "stream",
     "text": [
      "             precision    recall  f1-score   support\n",
      "\n",
      "          1      0.000     0.000     0.000       528\n",
      "          2      0.439     0.042     0.077      2130\n",
      "          3      0.419     0.387     0.402      4992\n",
      "          4      0.371     0.631     0.467      5275\n",
      "          5      0.368     0.228     0.282      2280\n",
      "\n",
      "avg / total      0.383     0.386     0.347     15205\n",
      "\n",
      "Wall time: 2.2 s\n"
     ]
    },
    {
     "name": "stderr",
     "output_type": "stream",
     "text": [
      "C:\\Users\\David\\Anaconda3\\envs\\py3\\lib\\site-packages\\sklearn\\metrics\\classification.py:1135: UndefinedMetricWarning: Precision and F-score are ill-defined and being set to 0.0 in labels with no predicted samples.\n",
      "  'precision', 'predicted', average, warn_for)\n"
     ]
    }
   ],
   "source": [
    "%%time\n",
    "\n",
    "rf = RandomForestClassifier()\n",
    "rf.fit(X_train_attr, y_train_attr)\n",
    "\n",
    "print(metrics.classification_report(y_test_attr, rf.predict(X_test_attr), digits=3))"
   ]
  },
  {
   "cell_type": "markdown",
   "metadata": {},
   "source": [
    "#### Naive Bayes"
   ]
  },
  {
   "cell_type": "code",
   "execution_count": 73,
   "metadata": {},
   "outputs": [
    {
     "name": "stdout",
     "output_type": "stream",
     "text": [
      "             precision    recall  f1-score   support\n",
      "\n",
      "          1      0.104     0.036     0.054       528\n",
      "          2      0.311     0.088     0.137      2130\n",
      "          3      0.426     0.380     0.402      4992\n",
      "          4      0.392     0.406     0.399      5275\n",
      "          5      0.292     0.575     0.387      2280\n",
      "\n",
      "avg / total      0.367     0.366     0.349     15205\n",
      "\n",
      "Wall time: 268 ms\n"
     ]
    }
   ],
   "source": [
    "%%time\n",
    "\n",
    "nb = MultinomialNB()\n",
    "nb.fit(X_train_attr+1, y_train_attr) # have to add 1 to X_train_attr because NB doesn't like negative numbers\n",
    "\n",
    "print(metrics.classification_report(y_test_attr, nb.predict(X_test_attr+1), digits=3))"
   ]
  },
  {
   "cell_type": "markdown",
   "metadata": {},
   "source": [
    "### Predicting Stars with Review Text"
   ]
  },
  {
   "cell_type": "markdown",
   "metadata": {},
   "source": [
    "In this section we will predict the star rating associated with each review text."
   ]
  },
  {
   "cell_type": "code",
   "execution_count": 5,
   "metadata": {},
   "outputs": [],
   "source": [
    "np.random.seed(0)\n",
    "X_train_review, X_test_review, y_train_review, y_test_review = \\\n",
    "    train_test_split(reviews.text.values, reviews.stars.values, test_size=.1)"
   ]
  },
  {
   "cell_type": "markdown",
   "metadata": {},
   "source": [
    "#### Count Vectorizer"
   ]
  },
  {
   "cell_type": "code",
   "execution_count": 6,
   "metadata": {},
   "outputs": [
    {
     "name": "stdout",
     "output_type": "stream",
     "text": [
      "Number of features from CountVectorizer: 30044\n",
      "             precision    recall  f1-score   support\n",
      "\n",
      "          1      0.694     0.628     0.659        94\n",
      "          2      0.377     0.299     0.333        87\n",
      "          3      0.384     0.303     0.339       175\n",
      "          4      0.460     0.513     0.485       300\n",
      "          5      0.611     0.663     0.636       344\n",
      "\n",
      "avg / total      0.513     0.520     0.515      1000\n",
      "\n",
      "Wall time: 8.17 s\n"
     ]
    }
   ],
   "source": [
    "%%time\n",
    "cv = CountVectorizer(stop_words='english')\n",
    "dtm_train = cv.fit_transform(X_train_review)\n",
    "dtm_test = cv.transform(X_test_review)\n",
    "print('Number of features from CountVectorizer: %d' % len(cv.get_feature_names()))\n",
    "\n",
    "lr = LogisticRegression()\n",
    "lr.fit(dtm_train, y_train_review)\n",
    "\n",
    "print(metrics.classification_report(y_test_review, lr.predict(dtm_test), digits=3))"
   ]
  },
  {
   "cell_type": "markdown",
   "metadata": {},
   "source": [
    "#### TFIDF Vectorizer"
   ]
  },
  {
   "cell_type": "code",
   "execution_count": 7,
   "metadata": {},
   "outputs": [
    {
     "name": "stdout",
     "output_type": "stream",
     "text": [
      "Number of features from TFIDFVectorizer: 30044\n",
      "             precision    recall  f1-score   support\n",
      "\n",
      "          1      0.716     0.564     0.631        94\n",
      "          2      0.276     0.333     0.302        87\n",
      "          3      0.338     0.434     0.380       175\n",
      "          4      0.491     0.527     0.508       300\n",
      "          5      0.737     0.587     0.654       344\n",
      "\n",
      "avg / total      0.551     0.518     0.529      1000\n",
      "\n",
      "Wall time: 2.53 s\n"
     ]
    }
   ],
   "source": [
    "%%time\n",
    "tv = TfidfVectorizer(stop_words='english')\n",
    "dtm_train2 = tv.fit_transform(X_train_review)\n",
    "dtm_test2 = tv.transform(X_test_review)\n",
    "print('Number of features from TFIDFVectorizer: %d' % len(tv.get_feature_names()))\n",
    "\n",
    "lr2 = LogisticRegression()\n",
    "lr2.fit(dtm_train2, y_train_review)\n",
    "\n",
    "print(metrics.classification_report(y_test_review, lr2.predict(dtm_test), digits=3))"
   ]
  },
  {
   "cell_type": "markdown",
   "metadata": {},
   "source": [
    "TFIDF has both a better F1 score and is faster.  We will continue just using TFIDF instead of keeping two vectorizers."
   ]
  },
  {
   "cell_type": "code",
   "execution_count": 8,
   "metadata": {},
   "outputs": [],
   "source": [
    "# rename some variables\n",
    "dtm_train = dtm_train2\n",
    "dtm_test = dtm_test2\n",
    "lr = lr2"
   ]
  },
  {
   "cell_type": "markdown",
   "metadata": {},
   "source": [
    "#### Optimizing Logistic Regression"
   ]
  },
  {
   "cell_type": "markdown",
   "metadata": {},
   "source": [
    "We now do some searching for the best parameters for logistic regression in order to maximize accuracy."
   ]
  },
  {
   "cell_type": "code",
   "execution_count": 9,
   "metadata": {},
   "outputs": [
    {
     "name": "stdout",
     "output_type": "stream",
     "text": [
      "\n",
      "Logistic Regression, best parameters: {'C': 2, 'penalty': 'l1'}\n",
      "             precision    recall  f1-score   support\n",
      "\n",
      "          1      0.727     0.681     0.703        94\n",
      "          2      0.419     0.207     0.277        87\n",
      "          3      0.441     0.297     0.355       175\n",
      "          4      0.476     0.533     0.503       300\n",
      "          5      0.607     0.733     0.664       344\n",
      "\n",
      "avg / total      0.534     0.546     0.532      1000\n",
      "\n",
      "Wall time: 7.42 s\n"
     ]
    }
   ],
   "source": [
    "%%time\n",
    "\n",
    "lr = GridSearchCV(LogisticRegression(), {'penalty':['l1', 'l2'], 'C': [.02, .2, 2]})\n",
    "lr.fit(dtm_train, y_train_review)\n",
    "print('\\nLogistic Regression, best parameters: ' + str(lr.best_params_))\n",
    "print(metrics.classification_report(y_test_review, lr.predict(dtm_test), digits=3))"
   ]
  },
  {
   "cell_type": "markdown",
   "metadata": {},
   "source": [
    "#### SVM"
   ]
  },
  {
   "cell_type": "markdown",
   "metadata": {},
   "source": [
    "We will be using a linear SVC as the C-support SVC scales quadratically with training size, making it unfeasible to train on the entire reviews set."
   ]
  },
  {
   "cell_type": "code",
   "execution_count": 10,
   "metadata": {},
   "outputs": [
    {
     "name": "stdout",
     "output_type": "stream",
     "text": [
      "             precision    recall  f1-score   support\n",
      "\n",
      "          1      0.678     0.649     0.663        94\n",
      "          2      0.382     0.241     0.296        87\n",
      "          3      0.383     0.326     0.352       175\n",
      "          4      0.453     0.497     0.474       300\n",
      "          5      0.623     0.683     0.652       344\n",
      "\n",
      "avg / total      0.514     0.523     0.516      1000\n",
      "\n",
      "Wall time: 488 ms\n"
     ]
    }
   ],
   "source": [
    "%%time\n",
    "svc = LinearSVC()\n",
    "svc.fit(dtm_train, y_train_review)\n",
    "print(metrics.classification_report(y_test_review, svc.predict(dtm_test), digits=3))"
   ]
  },
  {
   "cell_type": "code",
   "execution_count": 11,
   "metadata": {
    "scrolled": true
   },
   "outputs": [
    {
     "name": "stdout",
     "output_type": "stream",
     "text": [
      "\n",
      "SVC, best parameters: {'C': 0.2}\n",
      "             precision    recall  f1-score   support\n",
      "\n",
      "          1      0.706     0.638     0.670        94\n",
      "          2      0.459     0.195     0.274        87\n",
      "          3      0.431     0.286     0.344       175\n",
      "          4      0.475     0.530     0.501       300\n",
      "          5      0.614     0.762     0.680       344\n",
      "\n",
      "avg / total      0.535     0.548     0.531      1000\n",
      "\n",
      "Wall time: 2.21 s\n"
     ]
    }
   ],
   "source": [
    "%%time\n",
    "svc = GridSearchCV(LinearSVC(), {'C': [.02, .2, 2]})\n",
    "svc.fit(dtm_train, y_train_review)\n",
    "print('\\nSVC, best parameters: ' + str(svc.best_params_))\n",
    "print(metrics.classification_report(y_test_review, svc.predict(dtm_test), digits=3))"
   ]
  },
  {
   "cell_type": "markdown",
   "metadata": {},
   "source": [
    "#### Naive Bayes"
   ]
  },
  {
   "cell_type": "code",
   "execution_count": 13,
   "metadata": {
    "scrolled": true
   },
   "outputs": [
    {
     "name": "stdout",
     "output_type": "stream",
     "text": [
      "             precision    recall  f1-score   support\n",
      "\n",
      "          1      0.000     0.000     0.000        94\n",
      "          2      0.000     0.000     0.000        87\n",
      "          3      0.000     0.000     0.000       175\n",
      "          4      0.370     0.400     0.385       300\n",
      "          5      0.442     0.869     0.586       344\n",
      "\n",
      "avg / total      0.263     0.419     0.317      1000\n",
      "\n",
      "Wall time: 101 ms\n"
     ]
    },
    {
     "name": "stderr",
     "output_type": "stream",
     "text": [
      "C:\\Users\\David\\Anaconda3\\envs\\py3\\lib\\site-packages\\sklearn\\metrics\\classification.py:1135: UndefinedMetricWarning: Precision and F-score are ill-defined and being set to 0.0 in labels with no predicted samples.\n",
      "  'precision', 'predicted', average, warn_for)\n"
     ]
    }
   ],
   "source": [
    "%%time\n",
    "nb = MultinomialNB()\n",
    "nb.fit(dtm_train, y_train_review)\n",
    "print(metrics.classification_report(y_test_review, nb.predict(dtm_test), digits=3))"
   ]
  },
  {
   "cell_type": "code",
   "execution_count": 15,
   "metadata": {
    "scrolled": true
   },
   "outputs": [
    {
     "name": "stdout",
     "output_type": "stream",
     "text": [
      "\n",
      "Multinomial Naive Bayes, best parameters: {'alpha': 0.02}\n",
      "             precision    recall  f1-score   support\n",
      "\n",
      "          1      0.630     0.489     0.551        94\n",
      "          2      0.192     0.057     0.088        87\n",
      "          3      0.364     0.246     0.294       175\n",
      "          4      0.414     0.513     0.458       300\n",
      "          5      0.569     0.680     0.620       344\n",
      "\n",
      "avg / total      0.460     0.482     0.462      1000\n",
      "\n",
      "Wall time: 293 ms\n"
     ]
    }
   ],
   "source": [
    "%%time\n",
    "nb = GridSearchCV(MultinomialNB(), {'alpha': [.002, .02, .2, 2]})\n",
    "nb.fit(dtm_train, y_train_review)\n",
    "print('\\nMultinomial Naive Bayes, best parameters: ' + str(nb.best_params_))\n",
    "print(metrics.classification_report(y_test_review, nb.predict(dtm_test), digits=3))"
   ]
  },
  {
   "cell_type": "markdown",
   "metadata": {},
   "source": [
    "Naive Bayes works really poorly unless we decrease Laplace smoothing (default value is 1)."
   ]
  },
  {
   "cell_type": "markdown",
   "metadata": {},
   "source": [
    "### Binarizing the Labels"
   ]
  },
  {
   "cell_type": "markdown",
   "metadata": {},
   "source": [
    "It would be difficult for even a human to perfectly predict a review's star rating just from the text.  This is especially true for the middle star ratings, where language may be less dramatic.  Therefore, we will now divide all the reviews into two categories (negative and positive) and see how well machine learning can differentiate between the two.\n",
    "\n",
    "We are going to filter out the 3 star reviews.  Then, we treat the 1- and 2-star reviews as negative; the 4- and 5-star reviews as positive."
   ]
  },
  {
   "cell_type": "code",
   "execution_count": 20,
   "metadata": {
    "scrolled": true
   },
   "outputs": [
    {
     "data": {
      "text/html": [
       "<div>\n",
       "<style scoped>\n",
       "    .dataframe tbody tr th:only-of-type {\n",
       "        vertical-align: middle;\n",
       "    }\n",
       "\n",
       "    .dataframe tbody tr th {\n",
       "        vertical-align: top;\n",
       "    }\n",
       "\n",
       "    .dataframe thead th {\n",
       "        text-align: right;\n",
       "    }\n",
       "</style>\n",
       "<table border=\"1\" class=\"dataframe\">\n",
       "  <thead>\n",
       "    <tr style=\"text-align: right;\">\n",
       "      <th></th>\n",
       "      <th>text</th>\n",
       "      <th>stars</th>\n",
       "      <th>positive</th>\n",
       "    </tr>\n",
       "  </thead>\n",
       "  <tbody>\n",
       "    <tr>\n",
       "      <th>0</th>\n",
       "      <td>Super simple place but amazing nonetheless. It...</td>\n",
       "      <td>5</td>\n",
       "      <td>True</td>\n",
       "    </tr>\n",
       "    <tr>\n",
       "      <th>1</th>\n",
       "      <td>Small unassuming place that changes their menu...</td>\n",
       "      <td>5</td>\n",
       "      <td>True</td>\n",
       "    </tr>\n",
       "    <tr>\n",
       "      <th>2</th>\n",
       "      <td>Lester's is located in a beautiful neighborhoo...</td>\n",
       "      <td>5</td>\n",
       "      <td>True</td>\n",
       "    </tr>\n",
       "    <tr>\n",
       "      <th>3</th>\n",
       "      <td>Love coming here. Yes the place always needs t...</td>\n",
       "      <td>4</td>\n",
       "      <td>True</td>\n",
       "    </tr>\n",
       "    <tr>\n",
       "      <th>4</th>\n",
       "      <td>Had their chocolate almond croissant and it wa...</td>\n",
       "      <td>4</td>\n",
       "      <td>True</td>\n",
       "    </tr>\n",
       "  </tbody>\n",
       "</table>\n",
       "</div>"
      ],
      "text/plain": [
       "                                                text  stars  positive\n",
       "0  Super simple place but amazing nonetheless. It...      5      True\n",
       "1  Small unassuming place that changes their menu...      5      True\n",
       "2  Lester's is located in a beautiful neighborhoo...      5      True\n",
       "3  Love coming here. Yes the place always needs t...      4      True\n",
       "4  Had their chocolate almond croissant and it wa...      4      True"
      ]
     },
     "execution_count": 20,
     "metadata": {},
     "output_type": "execute_result"
    }
   ],
   "source": [
    "extreme_reviews = reviews[['text', 'stars']][reviews.stars != 3]\n",
    "extreme_reviews['positive'] = extreme_reviews.stars > 3\n",
    "extreme_reviews.head()"
   ]
  },
  {
   "cell_type": "code",
   "execution_count": 21,
   "metadata": {},
   "outputs": [
    {
     "data": {
      "image/png": "[encoded data removed]",
      "text/plain": [
       "<matplotlib.figure.Figure at 0x267a9e8>"
      ]
     },
     "metadata": {},
     "output_type": "display_data"
    }
   ],
   "source": [
    "sns.countplot('stars', data=extreme_reviews)\n",
    "plt.grid()\n",
    "plt.show()"
   ]
  },
  {
   "cell_type": "markdown",
   "metadata": {},
   "source": [
    "We will train the classifiers using the best parameters found in the previous sections."
   ]
  },
  {
   "cell_type": "code",
   "execution_count": 25,
   "metadata": {},
   "outputs": [
    {
     "name": "stdout",
     "output_type": "stream",
     "text": [
      "Number of features from TFIDFVectorizer: 26985\n"
     ]
    }
   ],
   "source": [
    "np.random.seed(0)\n",
    "X_train_review, X_test_review, y_train_review, y_test_review = \\\n",
    "    train_test_split(extreme_reviews.text.values, extreme_reviews.positive.values, test_size=.1)\n",
    "    \n",
    "tv = TfidfVectorizer(stop_words='english')\n",
    "dtm_train = tv.fit_transform(X_train_review)\n",
    "dtm_test = tv.transform(X_test_review)\n",
    "print('Number of features from TFIDFVectorizer: %d' % len(tv.get_feature_names()))"
   ]
  },
  {
   "cell_type": "code",
   "execution_count": 26,
   "metadata": {},
   "outputs": [
    {
     "name": "stdout",
     "output_type": "stream",
     "text": [
      "             precision    recall  f1-score   support\n",
      "\n",
      "      False      0.942     0.670     0.783       194\n",
      "       True      0.907     0.987     0.946       635\n",
      "\n",
      "avg / total      0.915     0.913     0.908       829\n",
      "\n",
      "Wall time: 125 ms\n"
     ]
    }
   ],
   "source": [
    "%%time\n",
    "\n",
    "lr = LogisticRegression(penalty='l1', C=2)\n",
    "lr.fit(dtm_train, y_train_review)\n",
    "\n",
    "print(metrics.classification_report(y_test_review, lr.predict(dtm_test), digits=3))"
   ]
  },
  {
   "cell_type": "code",
   "execution_count": 27,
   "metadata": {},
   "outputs": [
    {
     "name": "stdout",
     "output_type": "stream",
     "text": [
      "             precision    recall  f1-score   support\n",
      "\n",
      "      False      0.952     0.608     0.742       194\n",
      "       True      0.892     0.991     0.939       635\n",
      "\n",
      "avg / total      0.906     0.901     0.893       829\n",
      "\n",
      "Wall time: 52 ms\n"
     ]
    }
   ],
   "source": [
    "%%time\n",
    "\n",
    "svc = LinearSVC(C=.2)\n",
    "svc.fit(dtm_train, y_train_review)\n",
    "\n",
    "print(metrics.classification_report(y_test_review, svc.predict(dtm_test), digits=3))"
   ]
  },
  {
   "cell_type": "code",
   "execution_count": 28,
   "metadata": {},
   "outputs": [
    {
     "name": "stdout",
     "output_type": "stream",
     "text": [
      "             precision    recall  f1-score   support\n",
      "\n",
      "      False      0.867     0.469     0.609       194\n",
      "       True      0.858     0.978     0.914       635\n",
      "\n",
      "avg / total      0.860     0.859     0.842       829\n",
      "\n",
      "Wall time: 8 ms\n"
     ]
    }
   ],
   "source": [
    "%%time\n",
    "\n",
    "nb = MultinomialNB(alpha=.02)\n",
    "nb.fit(dtm_train, y_train_review)\n",
    "\n",
    "print(metrics.classification_report(y_test_review, nb.predict(dtm_test), digits=3))"
   ]
  },
  {
   "cell_type": "markdown",
   "metadata": {},
   "source": [
    "As expected performance is now much better.  The algorithm is able to tell the difference between positive and negative reviews with over 90% accuracy in the case of logistic regression.  Logistic regression seems to be performing the best among the three candidate models, so we will continue with that."
   ]
  }
 ],
 "metadata": {
  "kernelspec": {
   "display_name": "Python [conda env:py3]",
   "language": "python",
   "name": "conda-env-py3-py"
  },
  "language_info": {
   "codemirror_mode": {
    "name": "ipython",
    "version": 3
   },
   "file_extension": ".py",
   "mimetype": "text/x-python",
   "name": "python",
   "nbconvert_exporter": "python",
   "pygments_lexer": "ipython3",
   "version": "3.6.4"
  }
 },
 "nbformat": 4,
 "nbformat_minor": 2
}
