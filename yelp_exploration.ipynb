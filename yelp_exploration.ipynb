{
 "cells": [
  {
   "cell_type": "markdown",
   "metadata": {},
   "source": [
    "# Yelp Exploration"
   ]
  },
  {
   "cell_type": "code",
   "execution_count": 1,
   "metadata": {},
   "outputs": [],
   "source": [
    "%matplotlib inline\n",
    "\n",
    "import time\n",
    "import numpy as np\n",
    "import pandas as pd\n",
    "import matplotlib.pyplot as plt\n",
    "import seaborn as sns\n",
    "\n",
    "from sklearn.model_selection import train_test_split\n",
    "from sklearn.linear_model import LogisticRegression\n",
    "from sklearn.svm import LinearSVC\n",
    "\n",
    "from sklearn.feature_extraction.text import *\n",
    "from sklearn import metrics"
   ]
  },
  {
   "cell_type": "code",
   "execution_count": 2,
   "metadata": {},
   "outputs": [],
   "source": [
    "reviews = pd.read_csv('input/yelp_review.csv', nrows=10000)"
   ]
  },
  {
   "cell_type": "code",
   "execution_count": 5,
   "metadata": {
    "scrolled": true
   },
   "outputs": [
    {
     "data": {
      "image/png": "[encoded data removed]",
      "text/plain": [
       "<matplotlib.figure.Figure at 0xb42ffd0>"
      ]
     },
     "metadata": {},
     "output_type": "display_data"
    }
   ],
   "source": [
    "sns.countplot('stars', data=reviews)\n",
    "plt.grid()\n",
    "plt.show()"
   ]
  },
  {
   "cell_type": "code",
   "execution_count": 6,
   "metadata": {},
   "outputs": [],
   "source": [
    "train_data, dev_data, train_labels, dev_labels = \\\n",
    "    train_test_split(reviews.text.values, reviews.stars.values, test_size=.1, random_state=0)"
   ]
  },
  {
   "cell_type": "markdown",
   "metadata": {},
   "source": [
    "## Count Vectorizer"
   ]
  },
  {
   "cell_type": "code",
   "execution_count": 68,
   "metadata": {},
   "outputs": [
    {
     "name": "stdout",
     "output_type": "stream",
     "text": [
      "             precision    recall  f1-score   support\n",
      "\n",
      "          1       0.65      0.55      0.60       103\n",
      "          2       0.32      0.25      0.28        92\n",
      "          3       0.27      0.29      0.28       149\n",
      "          4       0.48      0.45      0.46       317\n",
      "          5       0.61      0.68      0.64       339\n",
      "\n",
      "avg / total       0.49      0.50      0.49      1000\n",
      "\n"
     ]
    }
   ],
   "source": [
    "cv = CountVectorizer(stop_words='english')\n",
    "train_dtm = cv.fit_transform(train_data)\n",
    "dev_dtm = cv.transform(dev_data)\n",
    "\n",
    "lr = LogisticRegression()\n",
    "lr.fit(train_dtm, train_labels)\n",
    "\n",
    "print(metrics.classification_report(dev_labels, lr.predict(dev_dtm)))"
   ]
  },
  {
   "cell_type": "code",
   "execution_count": 67,
   "metadata": {},
   "outputs": [
    {
     "data": {
      "text/plain": [
       "29890"
      ]
     },
     "execution_count": 67,
     "metadata": {},
     "output_type": "execute_result"
    }
   ],
   "source": [
    "len(cv.get_feature_names())"
   ]
  },
  {
   "cell_type": "markdown",
   "metadata": {},
   "source": [
    "## TFIDF Vectorizer"
   ]
  },
  {
   "cell_type": "code",
   "execution_count": 84,
   "metadata": {},
   "outputs": [
    {
     "name": "stdout",
     "output_type": "stream",
     "text": [
      "             precision    recall  f1-score   support\n",
      "\n",
      "          1       0.77      0.54      0.64        94\n",
      "          2       0.47      0.09      0.15        87\n",
      "          3       0.47      0.29      0.36       175\n",
      "          4       0.48      0.57      0.52       300\n",
      "          5       0.59      0.78      0.68       344\n",
      "\n",
      "avg / total       0.54      0.55      0.52      1000\n",
      "\n"
     ]
    }
   ],
   "source": [
    "tv = TfidfVectorizer(stop_words='english')\n",
    "train_dtm2 = tv.fit_transform(train_data)\n",
    "dev_dtm2 = tv.transform(dev_data)\n",
    "\n",
    "lr2 = LogisticRegression()\n",
    "lr2.fit(train_dtm2, train_labels)\n",
    "\n",
    "print(metrics.classification_report(dev_labels, lr2.predict(dev_dtm2)))"
   ]
  },
  {
   "cell_type": "markdown",
   "metadata": {},
   "source": [
    "## SVM"
   ]
  },
  {
   "cell_type": "markdown",
   "metadata": {},
   "source": [
    "Interestingly, an SVM is horrible if we use the count vectorizer but on par with logistic regression if we use the tf-idf vectorizer.  Fitting is also much faster with tf-idf as well."
   ]
  },
  {
   "cell_type": "code",
   "execution_count": 88,
   "metadata": {},
   "outputs": [
    {
     "name": "stdout",
     "output_type": "stream",
     "text": [
      "             precision    recall  f1-score   support\n",
      "\n",
      "          1       0.10      0.10      0.10        94\n",
      "          2       0.10      0.09      0.10        87\n",
      "          3       0.21      0.22      0.21       175\n",
      "          4       0.32      0.33      0.33       300\n",
      "          5       0.33      0.33      0.33       344\n",
      "\n",
      "avg / total       0.27      0.27      0.27      1000\n",
      "\n"
     ]
    }
   ],
   "source": [
    "svc = LinearSVC()\n",
    "svc.fit(train_dtm, train_labels)\n",
    "print(metrics.classification_report(dev_labels, svc.predict(dev_dtm)))"
   ]
  },
  {
   "cell_type": "code",
   "execution_count": 89,
   "metadata": {},
   "outputs": [
    {
     "name": "stdout",
     "output_type": "stream",
     "text": [
      "             precision    recall  f1-score   support\n",
      "\n",
      "          1       0.68      0.65      0.66        94\n",
      "          2       0.38      0.24      0.30        87\n",
      "          3       0.38      0.33      0.35       175\n",
      "          4       0.45      0.50      0.47       300\n",
      "          5       0.62      0.68      0.65       344\n",
      "\n",
      "avg / total       0.51      0.52      0.52      1000\n",
      "\n"
     ]
    }
   ],
   "source": [
    "svc2 = LinearSVC()\n",
    "svc2.fit(train_dtm2, train_labels)\n",
    "print(metrics.classification_report(dev_labels, svc2.predict(dev_dtm2)))"
   ]
  }
 ],
 "metadata": {
  "kernelspec": {
   "display_name": "Python [conda env:py3]",
   "language": "python",
   "name": "conda-env-py3-py"
  },
  "language_info": {
   "codemirror_mode": {
    "name": "ipython",
    "version": 3
   },
   "file_extension": ".py",
   "mimetype": "text/x-python",
   "name": "python",
   "nbconvert_exporter": "python",
   "pygments_lexer": "ipython3",
   "version": "3.6.4"
  }
 },
 "nbformat": 4,
 "nbformat_minor": 2
}
