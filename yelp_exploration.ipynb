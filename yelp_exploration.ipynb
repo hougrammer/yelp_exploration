{
 "cells": [
  {
   "cell_type": "markdown",
   "metadata": {},
   "source": [
    "# Yelp Exploration"
   ]
  },
  {
   "cell_type": "code",
   "execution_count": 2,
   "metadata": {},
   "outputs": [],
   "source": [
    "%matplotlib inline\n",
    "\n",
    "import numpy as np\n",
    "import pandas as pd\n",
    "import matplotlib.pyplot as plt\n",
    "import seaborn as sns\n",
    "\n",
    "from sklearn.preprocessing import MultiLabelBinarizer\n",
    "from sklearn.model_selection import train_test_split\n",
    "from sklearn.linear_model import LogisticRegression\n",
    "from sklearn.svm import LinearSVC\n",
    "from sklearn.tree import DecisionTreeClassifier\n",
    "from sklearn.ensemble import RandomForestClassifier\n",
    "from sklearn.feature_extraction.text import *\n",
    "from sklearn import metrics"
   ]
  },
  {
   "cell_type": "markdown",
   "metadata": {},
   "source": [
    "## Data Import"
   ]
  },
  {
   "cell_type": "markdown",
   "metadata": {},
   "source": [
    "The datasets are large, so we will import each one in separate cells (just in case we only want to run parts of the notebook)."
   ]
  },
  {
   "cell_type": "code",
   "execution_count": 3,
   "metadata": {},
   "outputs": [
    {
     "name": "stdout",
     "output_type": "stream",
     "text": [
      "Wall time: 109 ms\n"
     ]
    }
   ],
   "source": [
    "%%time\n",
    "# reviews = pd.read_csv('input/yelp_review.csv') # will take over 2 minutes\n",
    "reviews = pd.read_csv('input/yelp_review.csv', nrows=10000) # essentially instant"
   ]
  },
  {
   "cell_type": "code",
   "execution_count": 4,
   "metadata": {},
   "outputs": [
    {
     "name": "stdout",
     "output_type": "stream",
     "text": [
      "Wall time: 702 ms\n"
     ]
    }
   ],
   "source": [
    "%%time\n",
    "businesses = pd.read_csv('input/yelp_business.csv')"
   ]
  },
  {
   "cell_type": "code",
   "execution_count": 6,
   "metadata": {
    "scrolled": false
   },
   "outputs": [
    {
     "name": "stdout",
     "output_type": "stream",
     "text": [
      "Wall time: 2.34 s\n"
     ]
    }
   ],
   "source": [
    "%%time\n",
    "attributes = pd.read_csv('input/yelp_business_attributes.csv', \n",
    "                             dtype='category', na_values='Na', true_values='True', false_values='False')\n",
    "attributes[attributes.columns[1:]] = attributes[attributes.columns[1:]].apply(lambda x: x.cat.codes)"
   ]
  },
  {
   "cell_type": "code",
   "execution_count": 26,
   "metadata": {
    "scrolled": true
   },
   "outputs": [
    {
     "data": {
      "text/plain": [
       "Index(['business_id', 'AcceptsInsurance', 'ByAppointmentOnly',\n",
       "       'BusinessAcceptsCreditCards', 'BusinessParking_garage',\n",
       "       'BusinessParking_street', 'BusinessParking_validated',\n",
       "       'BusinessParking_lot', 'BusinessParking_valet',\n",
       "       'HairSpecializesIn_coloring', 'HairSpecializesIn_africanamerican',\n",
       "       'HairSpecializesIn_curly', 'HairSpecializesIn_perms',\n",
       "       'HairSpecializesIn_kids', 'HairSpecializesIn_extensions',\n",
       "       'HairSpecializesIn_asian', 'HairSpecializesIn_straightperms',\n",
       "       'RestaurantsPriceRange2', 'GoodForKids', 'WheelchairAccessible',\n",
       "       'BikeParking', 'Alcohol', 'HasTV', 'NoiseLevel', 'RestaurantsAttire',\n",
       "       'Music_dj', 'Music_background_music', 'Music_no_music', 'Music_karaoke',\n",
       "       'Music_live', 'Music_video', 'Music_jukebox', 'Ambience_romantic',\n",
       "       'Ambience_intimate', 'Ambience_classy', 'Ambience_hipster',\n",
       "       'Ambience_divey', 'Ambience_touristy', 'Ambience_trendy',\n",
       "       'Ambience_upscale', 'Ambience_casual', 'RestaurantsGoodForGroups',\n",
       "       'Caters', 'WiFi', 'RestaurantsReservations', 'RestaurantsTakeOut',\n",
       "       'HappyHour', 'GoodForDancing', 'RestaurantsTableService',\n",
       "       'OutdoorSeating', 'RestaurantsDelivery', 'BestNights_monday',\n",
       "       'BestNights_tuesday', 'BestNights_friday', 'BestNights_wednesday',\n",
       "       'BestNights_thursday', 'BestNights_sunday', 'BestNights_saturday',\n",
       "       'GoodForMeal_dessert', 'GoodForMeal_latenight', 'GoodForMeal_lunch',\n",
       "       'GoodForMeal_dinner', 'GoodForMeal_breakfast', 'GoodForMeal_brunch',\n",
       "       'CoatCheck', 'Smoking', 'DriveThru', 'DogsAllowed',\n",
       "       'BusinessAcceptsBitcoin', 'Open24Hours', 'BYOBCorkage', 'BYOB',\n",
       "       'Corkage', 'DietaryRestrictions_dairy-free',\n",
       "       'DietaryRestrictions_gluten-free', 'DietaryRestrictions_vegan',\n",
       "       'DietaryRestrictions_kosher', 'DietaryRestrictions_halal',\n",
       "       'DietaryRestrictions_soy-free', 'DietaryRestrictions_vegetarian',\n",
       "       'AgesAllowed', 'RestaurantsCounterService'],\n",
       "      dtype='object')"
      ]
     },
     "execution_count": 26,
     "metadata": {},
     "output_type": "execute_result"
    }
   ],
   "source": [
    "attributes.columns"
   ]
  },
  {
   "cell_type": "markdown",
   "metadata": {},
   "source": [
    "The raw attributes have a lot of Na's.  Also certain columns are not pure True/False.  For now we'll just use the category codes so that we can actually convert to integers."
   ]
  },
  {
   "cell_type": "markdown",
   "metadata": {},
   "source": [
    "## EDA"
   ]
  },
  {
   "cell_type": "code",
   "execution_count": 10,
   "metadata": {
    "scrolled": true
   },
   "outputs": [
    {
     "data": {
      "text/html": [
       "<div>\n",
       "<style scoped>\n",
       "    .dataframe tbody tr th:only-of-type {\n",
       "        vertical-align: middle;\n",
       "    }\n",
       "\n",
       "    .dataframe tbody tr th {\n",
       "        vertical-align: top;\n",
       "    }\n",
       "\n",
       "    .dataframe thead th {\n",
       "        text-align: right;\n",
       "    }\n",
       "</style>\n",
       "<table border=\"1\" class=\"dataframe\">\n",
       "  <thead>\n",
       "    <tr style=\"text-align: right;\">\n",
       "      <th></th>\n",
       "      <th>review_id</th>\n",
       "      <th>user_id</th>\n",
       "      <th>business_id</th>\n",
       "      <th>stars</th>\n",
       "      <th>date</th>\n",
       "      <th>text</th>\n",
       "      <th>useful</th>\n",
       "      <th>funny</th>\n",
       "      <th>cool</th>\n",
       "    </tr>\n",
       "  </thead>\n",
       "  <tbody>\n",
       "    <tr>\n",
       "      <th>0</th>\n",
       "      <td>vkVSCC7xljjrAI4UGfnKEQ</td>\n",
       "      <td>bv2nCi5Qv5vroFiqKGopiw</td>\n",
       "      <td>AEx2SYEUJmTxVVB18LlCwA</td>\n",
       "      <td>5</td>\n",
       "      <td>2016-05-28</td>\n",
       "      <td>Super simple place but amazing nonetheless. It...</td>\n",
       "      <td>0</td>\n",
       "      <td>0</td>\n",
       "      <td>0</td>\n",
       "    </tr>\n",
       "    <tr>\n",
       "      <th>1</th>\n",
       "      <td>n6QzIUObkYshz4dz2QRJTw</td>\n",
       "      <td>bv2nCi5Qv5vroFiqKGopiw</td>\n",
       "      <td>VR6GpWIda3SfvPC-lg9H3w</td>\n",
       "      <td>5</td>\n",
       "      <td>2016-05-28</td>\n",
       "      <td>Small unassuming place that changes their menu...</td>\n",
       "      <td>0</td>\n",
       "      <td>0</td>\n",
       "      <td>0</td>\n",
       "    </tr>\n",
       "    <tr>\n",
       "      <th>2</th>\n",
       "      <td>MV3CcKScW05u5LVfF6ok0g</td>\n",
       "      <td>bv2nCi5Qv5vroFiqKGopiw</td>\n",
       "      <td>CKC0-MOWMqoeWf6s-szl8g</td>\n",
       "      <td>5</td>\n",
       "      <td>2016-05-28</td>\n",
       "      <td>Lester's is located in a beautiful neighborhoo...</td>\n",
       "      <td>0</td>\n",
       "      <td>0</td>\n",
       "      <td>0</td>\n",
       "    </tr>\n",
       "    <tr>\n",
       "      <th>3</th>\n",
       "      <td>IXvOzsEMYtiJI0CARmj77Q</td>\n",
       "      <td>bv2nCi5Qv5vroFiqKGopiw</td>\n",
       "      <td>ACFtxLv8pGrrxMm6EgjreA</td>\n",
       "      <td>4</td>\n",
       "      <td>2016-05-28</td>\n",
       "      <td>Love coming here. Yes the place always needs t...</td>\n",
       "      <td>0</td>\n",
       "      <td>0</td>\n",
       "      <td>0</td>\n",
       "    </tr>\n",
       "    <tr>\n",
       "      <th>4</th>\n",
       "      <td>L_9BTb55X0GDtThi6GlZ6w</td>\n",
       "      <td>bv2nCi5Qv5vroFiqKGopiw</td>\n",
       "      <td>s2I_Ni76bjJNK9yG60iD-Q</td>\n",
       "      <td>4</td>\n",
       "      <td>2016-05-28</td>\n",
       "      <td>Had their chocolate almond croissant and it wa...</td>\n",
       "      <td>0</td>\n",
       "      <td>0</td>\n",
       "      <td>0</td>\n",
       "    </tr>\n",
       "  </tbody>\n",
       "</table>\n",
       "</div>"
      ],
      "text/plain": [
       "                review_id                 user_id             business_id  \\\n",
       "0  vkVSCC7xljjrAI4UGfnKEQ  bv2nCi5Qv5vroFiqKGopiw  AEx2SYEUJmTxVVB18LlCwA   \n",
       "1  n6QzIUObkYshz4dz2QRJTw  bv2nCi5Qv5vroFiqKGopiw  VR6GpWIda3SfvPC-lg9H3w   \n",
       "2  MV3CcKScW05u5LVfF6ok0g  bv2nCi5Qv5vroFiqKGopiw  CKC0-MOWMqoeWf6s-szl8g   \n",
       "3  IXvOzsEMYtiJI0CARmj77Q  bv2nCi5Qv5vroFiqKGopiw  ACFtxLv8pGrrxMm6EgjreA   \n",
       "4  L_9BTb55X0GDtThi6GlZ6w  bv2nCi5Qv5vroFiqKGopiw  s2I_Ni76bjJNK9yG60iD-Q   \n",
       "\n",
       "   stars        date                                               text  \\\n",
       "0      5  2016-05-28  Super simple place but amazing nonetheless. It...   \n",
       "1      5  2016-05-28  Small unassuming place that changes their menu...   \n",
       "2      5  2016-05-28  Lester's is located in a beautiful neighborhoo...   \n",
       "3      4  2016-05-28  Love coming here. Yes the place always needs t...   \n",
       "4      4  2016-05-28  Had their chocolate almond croissant and it wa...   \n",
       "\n",
       "   useful  funny  cool  \n",
       "0       0      0     0  \n",
       "1       0      0     0  \n",
       "2       0      0     0  \n",
       "3       0      0     0  \n",
       "4       0      0     0  "
      ]
     },
     "execution_count": 10,
     "metadata": {},
     "output_type": "execute_result"
    }
   ],
   "source": [
    "reviews.head()"
   ]
  },
  {
   "cell_type": "code",
   "execution_count": 5,
   "metadata": {
    "scrolled": false
   },
   "outputs": [
    {
     "data": {
      "image/png": "[encoded data removed]",
      "text/plain": [
       "<matplotlib.figure.Figure at 0xb42ffd0>"
      ]
     },
     "metadata": {},
     "output_type": "display_data"
    }
   ],
   "source": [
    "sns.countplot('stars', data=reviews)\n",
    "plt.grid()\n",
    "plt.show()"
   ]
  },
  {
   "cell_type": "markdown",
   "metadata": {},
   "source": [
    "For geographical separation.  We can run KMeans or put this on a maps API later."
   ]
  },
  {
   "cell_type": "code",
   "execution_count": 81,
   "metadata": {
    "scrolled": false
   },
   "outputs": [
    {
     "data": {
      "image/png": "[encoded data removed]",
      "text/plain": [
       "<matplotlib.figure.Figure at 0x11437e48>"
      ]
     },
     "metadata": {},
     "output_type": "display_data"
    }
   ],
   "source": [
    "plt.scatter(businesses.longitude, businesses.latitude)\n",
    "plt.xlabel('Longitude')\n",
    "plt.ylabel('Latitude')\n",
    "plt.title('Business Locations')\n",
    "plt.grid()\n",
    "plt.show()"
   ]
  },
  {
   "cell_type": "markdown",
   "metadata": {},
   "source": [
    "We're going to join businesses and attributes now.  Businesses without listed attributes and the converse will be excluded by the inner join."
   ]
  },
  {
   "cell_type": "code",
   "execution_count": 7,
   "metadata": {
    "scrolled": false
   },
   "outputs": [
    {
     "data": {
      "text/html": [
       "<div>\n",
       "<style scoped>\n",
       "    .dataframe tbody tr th:only-of-type {\n",
       "        vertical-align: middle;\n",
       "    }\n",
       "\n",
       "    .dataframe tbody tr th {\n",
       "        vertical-align: top;\n",
       "    }\n",
       "\n",
       "    .dataframe thead th {\n",
       "        text-align: right;\n",
       "    }\n",
       "</style>\n",
       "<table border=\"1\" class=\"dataframe\">\n",
       "  <thead>\n",
       "    <tr style=\"text-align: right;\">\n",
       "      <th></th>\n",
       "      <th>name</th>\n",
       "      <th>neighborhood</th>\n",
       "      <th>address</th>\n",
       "      <th>city</th>\n",
       "      <th>state</th>\n",
       "      <th>postal_code</th>\n",
       "      <th>latitude</th>\n",
       "      <th>longitude</th>\n",
       "      <th>stars</th>\n",
       "      <th>review_count</th>\n",
       "      <th>...</th>\n",
       "      <th>Corkage</th>\n",
       "      <th>DietaryRestrictions_dairy-free</th>\n",
       "      <th>DietaryRestrictions_gluten-free</th>\n",
       "      <th>DietaryRestrictions_vegan</th>\n",
       "      <th>DietaryRestrictions_kosher</th>\n",
       "      <th>DietaryRestrictions_halal</th>\n",
       "      <th>DietaryRestrictions_soy-free</th>\n",
       "      <th>DietaryRestrictions_vegetarian</th>\n",
       "      <th>AgesAllowed</th>\n",
       "      <th>RestaurantsCounterService</th>\n",
       "    </tr>\n",
       "    <tr>\n",
       "      <th>business_id</th>\n",
       "      <th></th>\n",
       "      <th></th>\n",
       "      <th></th>\n",
       "      <th></th>\n",
       "      <th></th>\n",
       "      <th></th>\n",
       "      <th></th>\n",
       "      <th></th>\n",
       "      <th></th>\n",
       "      <th></th>\n",
       "      <th></th>\n",
       "      <th></th>\n",
       "      <th></th>\n",
       "      <th></th>\n",
       "      <th></th>\n",
       "      <th></th>\n",
       "      <th></th>\n",
       "      <th></th>\n",
       "      <th></th>\n",
       "      <th></th>\n",
       "      <th></th>\n",
       "    </tr>\n",
       "  </thead>\n",
       "  <tbody>\n",
       "    <tr>\n",
       "      <th>FYWN1wneV18bWNgQjJ2GNg</th>\n",
       "      <td>\"Dental by Design\"</td>\n",
       "      <td>NaN</td>\n",
       "      <td>\"4855 E Warner Rd, Ste B9\"</td>\n",
       "      <td>Ahwatukee</td>\n",
       "      <td>AZ</td>\n",
       "      <td>85044</td>\n",
       "      <td>33.330690</td>\n",
       "      <td>-111.978599</td>\n",
       "      <td>4.0</td>\n",
       "      <td>22</td>\n",
       "      <td>...</td>\n",
       "      <td>-1</td>\n",
       "      <td>-1</td>\n",
       "      <td>-1</td>\n",
       "      <td>-1</td>\n",
       "      <td>-1</td>\n",
       "      <td>-1</td>\n",
       "      <td>-1</td>\n",
       "      <td>-1</td>\n",
       "      <td>-1</td>\n",
       "      <td>-1</td>\n",
       "    </tr>\n",
       "    <tr>\n",
       "      <th>He-G7vWjzVUysIKrfNbPUQ</th>\n",
       "      <td>\"Stephen Szabo Salon\"</td>\n",
       "      <td>NaN</td>\n",
       "      <td>\"3101 Washington Rd\"</td>\n",
       "      <td>McMurray</td>\n",
       "      <td>PA</td>\n",
       "      <td>15317</td>\n",
       "      <td>40.291685</td>\n",
       "      <td>-80.104900</td>\n",
       "      <td>3.0</td>\n",
       "      <td>11</td>\n",
       "      <td>...</td>\n",
       "      <td>-1</td>\n",
       "      <td>-1</td>\n",
       "      <td>-1</td>\n",
       "      <td>-1</td>\n",
       "      <td>-1</td>\n",
       "      <td>-1</td>\n",
       "      <td>-1</td>\n",
       "      <td>-1</td>\n",
       "      <td>-1</td>\n",
       "      <td>-1</td>\n",
       "    </tr>\n",
       "    <tr>\n",
       "      <th>8DShNS-LuFqpEWIp0HxijA</th>\n",
       "      <td>\"Sports Authority\"</td>\n",
       "      <td>NaN</td>\n",
       "      <td>\"5000 Arizona Mills Cr, Ste 435\"</td>\n",
       "      <td>Tempe</td>\n",
       "      <td>AZ</td>\n",
       "      <td>85282</td>\n",
       "      <td>33.383147</td>\n",
       "      <td>-111.964725</td>\n",
       "      <td>3.0</td>\n",
       "      <td>9</td>\n",
       "      <td>...</td>\n",
       "      <td>-1</td>\n",
       "      <td>-1</td>\n",
       "      <td>-1</td>\n",
       "      <td>-1</td>\n",
       "      <td>-1</td>\n",
       "      <td>-1</td>\n",
       "      <td>-1</td>\n",
       "      <td>-1</td>\n",
       "      <td>-1</td>\n",
       "      <td>-1</td>\n",
       "    </tr>\n",
       "    <tr>\n",
       "      <th>PfOCPjBrlQAnz__NXj9h_w</th>\n",
       "      <td>\"Brick House Tavern + Tap\"</td>\n",
       "      <td>NaN</td>\n",
       "      <td>\"581 Howe Ave\"</td>\n",
       "      <td>Cuyahoga Falls</td>\n",
       "      <td>OH</td>\n",
       "      <td>44221</td>\n",
       "      <td>41.119535</td>\n",
       "      <td>-81.475690</td>\n",
       "      <td>3.5</td>\n",
       "      <td>116</td>\n",
       "      <td>...</td>\n",
       "      <td>-1</td>\n",
       "      <td>-1</td>\n",
       "      <td>-1</td>\n",
       "      <td>-1</td>\n",
       "      <td>-1</td>\n",
       "      <td>-1</td>\n",
       "      <td>-1</td>\n",
       "      <td>-1</td>\n",
       "      <td>-1</td>\n",
       "      <td>-1</td>\n",
       "    </tr>\n",
       "    <tr>\n",
       "      <th>o9eMRCWt5PkpLDE0gOPtcQ</th>\n",
       "      <td>\"Messina\"</td>\n",
       "      <td>NaN</td>\n",
       "      <td>\"Richterstr. 11\"</td>\n",
       "      <td>Stuttgart</td>\n",
       "      <td>BW</td>\n",
       "      <td>70567</td>\n",
       "      <td>48.727200</td>\n",
       "      <td>9.147950</td>\n",
       "      <td>4.0</td>\n",
       "      <td>5</td>\n",
       "      <td>...</td>\n",
       "      <td>-1</td>\n",
       "      <td>-1</td>\n",
       "      <td>-1</td>\n",
       "      <td>-1</td>\n",
       "      <td>-1</td>\n",
       "      <td>-1</td>\n",
       "      <td>-1</td>\n",
       "      <td>-1</td>\n",
       "      <td>-1</td>\n",
       "      <td>-1</td>\n",
       "    </tr>\n",
       "  </tbody>\n",
       "</table>\n",
       "<p>5 rows × 93 columns</p>\n",
       "</div>"
      ],
      "text/plain": [
       "                                              name neighborhood  \\\n",
       "business_id                                                       \n",
       "FYWN1wneV18bWNgQjJ2GNg          \"Dental by Design\"          NaN   \n",
       "He-G7vWjzVUysIKrfNbPUQ       \"Stephen Szabo Salon\"          NaN   \n",
       "8DShNS-LuFqpEWIp0HxijA          \"Sports Authority\"          NaN   \n",
       "PfOCPjBrlQAnz__NXj9h_w  \"Brick House Tavern + Tap\"          NaN   \n",
       "o9eMRCWt5PkpLDE0gOPtcQ                   \"Messina\"          NaN   \n",
       "\n",
       "                                                 address            city  \\\n",
       "business_id                                                                \n",
       "FYWN1wneV18bWNgQjJ2GNg        \"4855 E Warner Rd, Ste B9\"       Ahwatukee   \n",
       "He-G7vWjzVUysIKrfNbPUQ              \"3101 Washington Rd\"        McMurray   \n",
       "8DShNS-LuFqpEWIp0HxijA  \"5000 Arizona Mills Cr, Ste 435\"           Tempe   \n",
       "PfOCPjBrlQAnz__NXj9h_w                    \"581 Howe Ave\"  Cuyahoga Falls   \n",
       "o9eMRCWt5PkpLDE0gOPtcQ                  \"Richterstr. 11\"       Stuttgart   \n",
       "\n",
       "                       state postal_code   latitude   longitude  stars  \\\n",
       "business_id                                                              \n",
       "FYWN1wneV18bWNgQjJ2GNg    AZ       85044  33.330690 -111.978599    4.0   \n",
       "He-G7vWjzVUysIKrfNbPUQ    PA       15317  40.291685  -80.104900    3.0   \n",
       "8DShNS-LuFqpEWIp0HxijA    AZ       85282  33.383147 -111.964725    3.0   \n",
       "PfOCPjBrlQAnz__NXj9h_w    OH       44221  41.119535  -81.475690    3.5   \n",
       "o9eMRCWt5PkpLDE0gOPtcQ    BW       70567  48.727200    9.147950    4.0   \n",
       "\n",
       "                        review_count            ...              Corkage  \\\n",
       "business_id                                     ...                        \n",
       "FYWN1wneV18bWNgQjJ2GNg            22            ...                   -1   \n",
       "He-G7vWjzVUysIKrfNbPUQ            11            ...                   -1   \n",
       "8DShNS-LuFqpEWIp0HxijA             9            ...                   -1   \n",
       "PfOCPjBrlQAnz__NXj9h_w           116            ...                   -1   \n",
       "o9eMRCWt5PkpLDE0gOPtcQ             5            ...                   -1   \n",
       "\n",
       "                       DietaryRestrictions_dairy-free  \\\n",
       "business_id                                             \n",
       "FYWN1wneV18bWNgQjJ2GNg                             -1   \n",
       "He-G7vWjzVUysIKrfNbPUQ                             -1   \n",
       "8DShNS-LuFqpEWIp0HxijA                             -1   \n",
       "PfOCPjBrlQAnz__NXj9h_w                             -1   \n",
       "o9eMRCWt5PkpLDE0gOPtcQ                             -1   \n",
       "\n",
       "                        DietaryRestrictions_gluten-free  \\\n",
       "business_id                                               \n",
       "FYWN1wneV18bWNgQjJ2GNg                               -1   \n",
       "He-G7vWjzVUysIKrfNbPUQ                               -1   \n",
       "8DShNS-LuFqpEWIp0HxijA                               -1   \n",
       "PfOCPjBrlQAnz__NXj9h_w                               -1   \n",
       "o9eMRCWt5PkpLDE0gOPtcQ                               -1   \n",
       "\n",
       "                        DietaryRestrictions_vegan  DietaryRestrictions_kosher  \\\n",
       "business_id                                                                     \n",
       "FYWN1wneV18bWNgQjJ2GNg                         -1                          -1   \n",
       "He-G7vWjzVUysIKrfNbPUQ                         -1                          -1   \n",
       "8DShNS-LuFqpEWIp0HxijA                         -1                          -1   \n",
       "PfOCPjBrlQAnz__NXj9h_w                         -1                          -1   \n",
       "o9eMRCWt5PkpLDE0gOPtcQ                         -1                          -1   \n",
       "\n",
       "                        DietaryRestrictions_halal  \\\n",
       "business_id                                         \n",
       "FYWN1wneV18bWNgQjJ2GNg                         -1   \n",
       "He-G7vWjzVUysIKrfNbPUQ                         -1   \n",
       "8DShNS-LuFqpEWIp0HxijA                         -1   \n",
       "PfOCPjBrlQAnz__NXj9h_w                         -1   \n",
       "o9eMRCWt5PkpLDE0gOPtcQ                         -1   \n",
       "\n",
       "                        DietaryRestrictions_soy-free  \\\n",
       "business_id                                            \n",
       "FYWN1wneV18bWNgQjJ2GNg                            -1   \n",
       "He-G7vWjzVUysIKrfNbPUQ                            -1   \n",
       "8DShNS-LuFqpEWIp0HxijA                            -1   \n",
       "PfOCPjBrlQAnz__NXj9h_w                            -1   \n",
       "o9eMRCWt5PkpLDE0gOPtcQ                            -1   \n",
       "\n",
       "                        DietaryRestrictions_vegetarian  AgesAllowed  \\\n",
       "business_id                                                           \n",
       "FYWN1wneV18bWNgQjJ2GNg                              -1           -1   \n",
       "He-G7vWjzVUysIKrfNbPUQ                              -1           -1   \n",
       "8DShNS-LuFqpEWIp0HxijA                              -1           -1   \n",
       "PfOCPjBrlQAnz__NXj9h_w                              -1           -1   \n",
       "o9eMRCWt5PkpLDE0gOPtcQ                              -1           -1   \n",
       "\n",
       "                        RestaurantsCounterService  \n",
       "business_id                                        \n",
       "FYWN1wneV18bWNgQjJ2GNg                         -1  \n",
       "He-G7vWjzVUysIKrfNbPUQ                         -1  \n",
       "8DShNS-LuFqpEWIp0HxijA                         -1  \n",
       "PfOCPjBrlQAnz__NXj9h_w                         -1  \n",
       "o9eMRCWt5PkpLDE0gOPtcQ                         -1  \n",
       "\n",
       "[5 rows x 93 columns]"
      ]
     },
     "execution_count": 7,
     "metadata": {},
     "output_type": "execute_result"
    }
   ],
   "source": [
    "joined = businesses.merge(attributes, on='business_id').set_index('business_id')\n",
    "joined.head()"
   ]
  },
  {
   "cell_type": "markdown",
   "metadata": {},
   "source": [
    "## Creating Categories Data Frame"
   ]
  },
  {
   "cell_type": "markdown",
   "metadata": {},
   "source": [
    "Creating this data frame takes a lot of memory.  I suggest running the cells up to the `to_csv()` call once and never running them again (simply run `read_csv()` on subsequent opens). "
   ]
  },
  {
   "cell_type": "code",
   "execution_count": 8,
   "metadata": {},
   "outputs": [
    {
     "name": "stdout",
     "output_type": "stream",
     "text": [
      "Total number of business: 152041\n",
      "Total number of categories: 1269\n"
     ]
    }
   ],
   "source": [
    "n = joined.shape[0]\n",
    "s = set()\n",
    "for c in joined.categories:\n",
    "    s |= set(c.split(';'))\n",
    "\n",
    "print('Total number of business: %d' % n)\n",
    "print('Total number of categories: %d' % len(s))\n"
   ]
  },
  {
   "cell_type": "code",
   "execution_count": 9,
   "metadata": {},
   "outputs": [
    {
     "name": "stdout",
     "output_type": "stream",
     "text": [
      "Wall time: 751 ms\n"
     ]
    }
   ],
   "source": [
    "categories = pd.DataFrame(np.zeros((n, len(s))), dtype=np.int8)\n",
    "categories.columns = sorted(list(s))\n",
    "categories.index = joined.index"
   ]
  },
  {
   "cell_type": "code",
   "execution_count": 17,
   "metadata": {
    "scrolled": true
   },
   "outputs": [
    {
     "name": "stdout",
     "output_type": "stream",
     "text": [
      "Wall time: 1min 26s\n"
     ]
    }
   ],
   "source": [
    "%%time\n",
    "\n",
    "# I know this is a dumb for loop.\n",
    "# I kept getting errors trying to parallelize so I just gave up.\n",
    "# We're only running this once anyways.\n",
    "for i in joined.index:\n",
    "    for c in joined.loc[i].categories.split(';'):\n",
    "        categories.loc[i].c = 1"
   ]
  },
  {
   "cell_type": "code",
   "execution_count": 20,
   "metadata": {
    "scrolled": true
   },
   "outputs": [
    {
     "name": "stdout",
     "output_type": "stream",
     "text": [
      "Wall time: 2min 37s\n"
     ]
    }
   ],
   "source": [
    "%%time\n",
    "categories.to_csv('input/categories.csv')"
   ]
  },
  {
   "cell_type": "markdown",
   "metadata": {},
   "source": [
    "Skip all the cells up to here if you already have `categories.csv`."
   ]
  },
  {
   "cell_type": "code",
   "execution_count": 21,
   "metadata": {},
   "outputs": [
    {
     "name": "stdout",
     "output_type": "stream",
     "text": [
      "Wall time: 19.1 s\n"
     ]
    }
   ],
   "source": [
    "%%time\n",
    "categories = pd.read_csv('input/categories.csv')"
   ]
  },
  {
   "cell_type": "markdown",
   "metadata": {},
   "source": [
    "## Machine Learning"
   ]
  },
  {
   "cell_type": "markdown",
   "metadata": {},
   "source": [
    "### Predicting Star with Business Attributes"
   ]
  },
  {
   "cell_type": "markdown",
   "metadata": {},
   "source": [
    "I'm getting lazy with the naming convention here.  I'll have to fix the `X_train` vs `train_data` naming convention later.  For now, I just need to differentiate between training on the reviews and training on the business attributes.  Also, I'm going to just treat dev and test as the same for now since so most people online seem to do that anyways.\n",
    "\n",
    "Also, the categories column is valuable but is currently unusable as a semicolon separated string value.  I'll deal with this later."
   ]
  },
  {
   "cell_type": "code",
   "execution_count": 8,
   "metadata": {},
   "outputs": [
    {
     "data": {
      "text/plain": [
       "Index(['AcceptsInsurance', 'ByAppointmentOnly', 'BusinessAcceptsCreditCards',\n",
       "       'BusinessParking_garage', 'BusinessParking_street',\n",
       "       'BusinessParking_validated', 'BusinessParking_lot',\n",
       "       'BusinessParking_valet', 'HairSpecializesIn_coloring',\n",
       "       'HairSpecializesIn_africanamerican', 'HairSpecializesIn_curly',\n",
       "       'HairSpecializesIn_perms', 'HairSpecializesIn_kids',\n",
       "       'HairSpecializesIn_extensions', 'HairSpecializesIn_asian',\n",
       "       'HairSpecializesIn_straightperms', 'RestaurantsPriceRange2',\n",
       "       'GoodForKids', 'WheelchairAccessible', 'BikeParking', 'Alcohol',\n",
       "       'HasTV', 'NoiseLevel', 'RestaurantsAttire', 'Music_dj',\n",
       "       'Music_background_music', 'Music_no_music', 'Music_karaoke',\n",
       "       'Music_live', 'Music_video', 'Music_jukebox', 'Ambience_romantic',\n",
       "       'Ambience_intimate', 'Ambience_classy', 'Ambience_hipster',\n",
       "       'Ambience_divey', 'Ambience_touristy', 'Ambience_trendy',\n",
       "       'Ambience_upscale', 'Ambience_casual', 'RestaurantsGoodForGroups',\n",
       "       'Caters', 'WiFi', 'RestaurantsReservations', 'RestaurantsTakeOut',\n",
       "       'HappyHour', 'GoodForDancing', 'RestaurantsTableService',\n",
       "       'OutdoorSeating', 'RestaurantsDelivery', 'BestNights_monday',\n",
       "       'BestNights_tuesday', 'BestNights_friday', 'BestNights_wednesday',\n",
       "       'BestNights_thursday', 'BestNights_sunday', 'BestNights_saturday',\n",
       "       'GoodForMeal_dessert', 'GoodForMeal_latenight', 'GoodForMeal_lunch',\n",
       "       'GoodForMeal_dinner', 'GoodForMeal_breakfast', 'GoodForMeal_brunch',\n",
       "       'CoatCheck', 'Smoking', 'DriveThru', 'DogsAllowed',\n",
       "       'BusinessAcceptsBitcoin', 'Open24Hours', 'BYOBCorkage', 'BYOB',\n",
       "       'Corkage', 'DietaryRestrictions_dairy-free',\n",
       "       'DietaryRestrictions_gluten-free', 'DietaryRestrictions_vegan',\n",
       "       'DietaryRestrictions_kosher', 'DietaryRestrictions_halal',\n",
       "       'DietaryRestrictions_soy-free', 'DietaryRestrictions_vegetarian',\n",
       "       'AgesAllowed', 'RestaurantsCounterService'],\n",
       "      dtype='object')"
      ]
     },
     "execution_count": 8,
     "metadata": {},
     "output_type": "execute_result"
    }
   ],
   "source": [
    "X_names = joined.columns[13:]\n",
    "X_names"
   ]
  },
  {
   "cell_type": "code",
   "execution_count": 15,
   "metadata": {},
   "outputs": [],
   "source": [
    "np.random.seed(0)\n",
    "X_train, X_test, y_train, y_test = \\\n",
    "    train_test_split(joined[X_names].values, joined.stars.astype(np.int8).values, test_size=.1)"
   ]
  },
  {
   "cell_type": "markdown",
   "metadata": {},
   "source": [
    "#### Decision Tree"
   ]
  },
  {
   "cell_type": "code",
   "execution_count": 18,
   "metadata": {
    "scrolled": false
   },
   "outputs": [
    {
     "name": "stdout",
     "output_type": "stream",
     "text": [
      "             precision    recall  f1-score   support\n",
      "\n",
      "          1       0.33      0.00      0.00       528\n",
      "          2       0.43      0.04      0.08      2130\n",
      "          3       0.42      0.39      0.40      4992\n",
      "          4       0.37      0.63      0.47      5275\n",
      "          5       0.37      0.23      0.28      2280\n",
      "\n",
      "avg / total       0.39      0.39      0.35     15205\n",
      "\n",
      "Wall time: 1.62 s\n"
     ]
    }
   ],
   "source": [
    "%%time\n",
    "\n",
    "dt = DecisionTreeClassifier()\n",
    "dt.fit(X_train, y_train)\n",
    "\n",
    "print(metrics.classification_report(y_test, dt.predict(X_test)))"
   ]
  },
  {
   "cell_type": "markdown",
   "metadata": {},
   "source": [
    "#### Random Forest"
   ]
  },
  {
   "cell_type": "code",
   "execution_count": 19,
   "metadata": {},
   "outputs": [
    {
     "name": "stdout",
     "output_type": "stream",
     "text": [
      "             precision    recall  f1-score   support\n",
      "\n",
      "          1       0.00      0.00      0.00       528\n",
      "          2       0.44      0.04      0.08      2130\n",
      "          3       0.42      0.39      0.40      4992\n",
      "          4       0.37      0.63      0.47      5275\n",
      "          5       0.37      0.23      0.28      2280\n",
      "\n",
      "avg / total       0.38      0.39      0.35     15205\n",
      "\n",
      "Wall time: 2.95 s\n"
     ]
    },
    {
     "name": "stderr",
     "output_type": "stream",
     "text": [
      "C:\\Users\\David\\Anaconda3\\envs\\py3\\lib\\site-packages\\sklearn\\metrics\\classification.py:1135: UndefinedMetricWarning: Precision and F-score are ill-defined and being set to 0.0 in labels with no predicted samples.\n",
      "  'precision', 'predicted', average, warn_for)\n"
     ]
    }
   ],
   "source": [
    "%%time\n",
    "\n",
    "rf = RandomForestClassifier()\n",
    "rf.fit(X_train, y_train)\n",
    "\n",
    "print(metrics.classification_report(y_test, rf.predict(X_test)))"
   ]
  },
  {
   "cell_type": "markdown",
   "metadata": {},
   "source": [
    "### Predicting Stars with Review Text"
   ]
  },
  {
   "cell_type": "code",
   "execution_count": 6,
   "metadata": {},
   "outputs": [],
   "source": [
    "np.random.seed(0)\n",
    "train_data, dev_data, train_labels, dev_labels = \\\n",
    "    train_test_split(reviews.text.values, reviews.stars.values, test_size=.1)"
   ]
  },
  {
   "cell_type": "markdown",
   "metadata": {},
   "source": [
    "#### Count Vectorizer"
   ]
  },
  {
   "cell_type": "code",
   "execution_count": 9,
   "metadata": {},
   "outputs": [
    {
     "name": "stdout",
     "output_type": "stream",
     "text": [
      "             precision    recall  f1-score   support\n",
      "\n",
      "          1       0.69      0.63      0.66        94\n",
      "          2       0.38      0.30      0.33        87\n",
      "          3       0.38      0.30      0.34       175\n",
      "          4       0.46      0.51      0.49       300\n",
      "          5       0.61      0.66      0.64       344\n",
      "\n",
      "avg / total       0.51      0.52      0.51      1000\n",
      "\n",
      "Wall time: 4.66 s\n"
     ]
    }
   ],
   "source": [
    "%%time\n",
    "cv = CountVectorizer(stop_words='english')\n",
    "train_dtm = cv.fit_transform(train_data)\n",
    "dev_dtm = cv.transform(dev_data)\n",
    "\n",
    "lr = LogisticRegression()\n",
    "lr.fit(train_dtm, train_labels)\n",
    "\n",
    "print(metrics.classification_report(dev_labels, lr.predict(dev_dtm)))"
   ]
  },
  {
   "cell_type": "code",
   "execution_count": 67,
   "metadata": {},
   "outputs": [
    {
     "data": {
      "text/plain": [
       "29890"
      ]
     },
     "execution_count": 67,
     "metadata": {},
     "output_type": "execute_result"
    }
   ],
   "source": [
    "len(cv.get_feature_names())"
   ]
  },
  {
   "cell_type": "markdown",
   "metadata": {},
   "source": [
    "#### TFIDF Vectorizer"
   ]
  },
  {
   "cell_type": "code",
   "execution_count": 84,
   "metadata": {},
   "outputs": [
    {
     "name": "stdout",
     "output_type": "stream",
     "text": [
      "             precision    recall  f1-score   support\n",
      "\n",
      "          1       0.77      0.54      0.64        94\n",
      "          2       0.47      0.09      0.15        87\n",
      "          3       0.47      0.29      0.36       175\n",
      "          4       0.48      0.57      0.52       300\n",
      "          5       0.59      0.78      0.68       344\n",
      "\n",
      "avg / total       0.54      0.55      0.52      1000\n",
      "\n"
     ]
    }
   ],
   "source": [
    "tv = TfidfVectorizer(stop_words='english')\n",
    "train_dtm2 = tv.fit_transform(train_data)\n",
    "dev_dtm2 = tv.transform(dev_data)\n",
    "\n",
    "lr2 = LogisticRegression()\n",
    "lr2.fit(train_dtm2, train_labels)\n",
    "\n",
    "print(metrics.classification_report(dev_labels, lr2.predict(dev_dtm2)))"
   ]
  },
  {
   "cell_type": "markdown",
   "metadata": {},
   "source": [
    "#### SVM"
   ]
  },
  {
   "cell_type": "markdown",
   "metadata": {},
   "source": [
    "Interestingly, an SVM is horrible if we use the count vectorizer but on par with logistic regression if we use the tf-idf vectorizer.  Fitting is also much faster with tf-idf as well."
   ]
  },
  {
   "cell_type": "code",
   "execution_count": 88,
   "metadata": {},
   "outputs": [
    {
     "name": "stdout",
     "output_type": "stream",
     "text": [
      "             precision    recall  f1-score   support\n",
      "\n",
      "          1       0.10      0.10      0.10        94\n",
      "          2       0.10      0.09      0.10        87\n",
      "          3       0.21      0.22      0.21       175\n",
      "          4       0.32      0.33      0.33       300\n",
      "          5       0.33      0.33      0.33       344\n",
      "\n",
      "avg / total       0.27      0.27      0.27      1000\n",
      "\n"
     ]
    }
   ],
   "source": [
    "svc = LinearSVC()\n",
    "svc.fit(train_dtm, train_labels)\n",
    "print(metrics.classification_report(dev_labels, svc.predict(dev_dtm)))"
   ]
  },
  {
   "cell_type": "code",
   "execution_count": 89,
   "metadata": {
    "scrolled": true
   },
   "outputs": [
    {
     "name": "stdout",
     "output_type": "stream",
     "text": [
      "             precision    recall  f1-score   support\n",
      "\n",
      "          1       0.68      0.65      0.66        94\n",
      "          2       0.38      0.24      0.30        87\n",
      "          3       0.38      0.33      0.35       175\n",
      "          4       0.45      0.50      0.47       300\n",
      "          5       0.62      0.68      0.65       344\n",
      "\n",
      "avg / total       0.51      0.52      0.52      1000\n",
      "\n"
     ]
    }
   ],
   "source": [
    "svc2 = LinearSVC()\n",
    "svc2.fit(train_dtm2, train_labels)\n",
    "print(metrics.classification_report(dev_labels, svc2.predict(dev_dtm2)))"
   ]
  },
  {
   "cell_type": "code",
   "execution_count": null,
   "metadata": {},
   "outputs": [],
   "source": []
  }
 ],
 "metadata": {
  "kernelspec": {
   "display_name": "Python [conda env:py3]",
   "language": "python",
   "name": "conda-env-py3-py"
  },
  "language_info": {
   "codemirror_mode": {
    "name": "ipython",
    "version": 3
   },
   "file_extension": ".py",
   "mimetype": "text/x-python",
   "name": "python",
   "nbconvert_exporter": "python",
   "pygments_lexer": "ipython3",
   "version": "3.6.4"
  }
 },
 "nbformat": 4,
 "nbformat_minor": 2
}
