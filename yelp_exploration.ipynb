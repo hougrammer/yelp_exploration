{
 "cells": [
  {
   "cell_type": "markdown",
   "metadata": {},
   "source": [
    "# Yelp Exploration"
   ]
  },
  {
   "cell_type": "code",
   "execution_count": 1,
   "metadata": {},
   "outputs": [
    {
     "name": "stderr",
     "output_type": "stream",
     "text": [
      "C:\\Users\\David\\Anaconda3\\envs\\py3\\lib\\site-packages\\sklearn\\cross_validation.py:41: DeprecationWarning: This module was deprecated in version 0.18 in favor of the model_selection module into which all the refactored classes and functions are moved. Also note that the interface of the new CV iterators are different from that of this module. This module will be removed in 0.20.\n",
      "  \"This module will be removed in 0.20.\", DeprecationWarning)\n",
      "C:\\Users\\David\\Anaconda3\\envs\\py3\\lib\\site-packages\\sklearn\\grid_search.py:42: DeprecationWarning: This module was deprecated in version 0.18 in favor of the model_selection module into which all the refactored classes and functions are moved. This module will be removed in 0.20.\n",
      "  DeprecationWarning)\n",
      "C:\\Users\\David\\Anaconda3\\envs\\py3\\lib\\site-packages\\h5py\\__init__.py:36: FutureWarning: Conversion of the second argument of issubdtype from `float` to `np.floating` is deprecated. In future, it will be treated as `np.float64 == np.dtype(float).type`.\n",
      "  from ._conv import register_converters as _register_converters\n",
      "Using TensorFlow backend.\n"
     ]
    }
   ],
   "source": [
    "%matplotlib inline\n",
    "\n",
    "from collections import Counter\n",
    "import numpy as np\n",
    "import pandas as pd\n",
    "import matplotlib.pyplot as plt\n",
    "import seaborn as sns\n",
    "\n",
    "from sklearn.preprocessing import MultiLabelBinarizer\n",
    "from sklearn.model_selection import train_test_split\n",
    "from sklearn.linear_model import LogisticRegression\n",
    "from sklearn.svm import LinearSVC\n",
    "from sklearn.tree import DecisionTreeClassifier\n",
    "from sklearn.ensemble import RandomForestClassifier\n",
    "from sklearn.naive_bayes import MultinomialNB\n",
    "from sklearn.feature_extraction.text import *\n",
    "from sklearn import metrics\n",
    "from sklearn.grid_search import GridSearchCV\n",
    "from sklearn.decomposition import PCA\n",
    "from sklearn import mixture\n",
    "from sklearn.naive_bayes import GaussianNB\n",
    "from sklearn.pipeline import Pipeline\n",
    "\n",
    "from functools import reduce\n",
    "from mpl_toolkits.mplot3d import Axes3D\n",
    "from nltk.stem import PorterStemmer\n",
    "\n",
    "from keras.models import Sequential, load_model\n",
    "from keras.layers import LSTM, Dense, Dropout, Embedding\n",
    "from keras.preprocessing.text import Tokenizer\n",
    "from keras.preprocessing.sequence import pad_sequences\n",
    "from keras.callbacks import ModelCheckpoint"
   ]
  },
  {
   "cell_type": "code",
   "execution_count": 21,
   "metadata": {},
   "outputs": [
    {
     "name": "stdout",
     "output_type": "stream",
     "text": [
      "Wall time: 117 ms\n"
     ]
    }
   ],
   "source": [
    "%%time\n",
    "# reviews = pd.read_csv('input/yelp_review.csv') # will take over 2 minutes\n",
    "reviews = pd.read_csv('input/yelp_review.csv', nrows=10000) # essentially instant"
   ]
  },
  {
   "cell_type": "code",
   "execution_count": 22,
   "metadata": {},
   "outputs": [
    {
     "name": "stdout",
     "output_type": "stream",
     "text": [

      "Wall time: 908 ms\n"

     ]
    }
   ],
   "source": [
    "%%time\n",
    "businesses = pd.read_csv('input/yelp_business.csv')"
   ]
  },
  {
   "cell_type": "code",
   "execution_count": 23,
   "metadata": {},
   "outputs": [
    {
     "name": "stdout",
     "output_type": "stream",
     "text": [

      "Wall time: 3.44 s\n"

     ]
    }
   ],
   "source": [
    "%%time\n",
    "attributes = pd.read_csv('input/yelp_business_attributes.csv', \n",
    "                             dtype='category', na_values='Na', true_values='True', false_values='False')\n",
    "attribute_names = attributes.drop('business_id', axis=1).columns\n",
    "attributes[attribute_names] = attributes[attribute_names].apply(lambda x: x.cat.codes)"
   ]
  },
  {
   "cell_type": "code",
   "execution_count": 24,
   "metadata": {},
   "outputs": [
    {
     "data": {
      "text/html": [
       "<div>\n",
       "<style>\n",
       "    .dataframe thead tr:only-child th {\n",
       "        text-align: right;\n",
       "    }\n",
       "\n",
       "    .dataframe thead th {\n",
       "        text-align: left;\n",
       "    }\n",
       "\n",
       "    .dataframe tbody tr th {\n",
       "        vertical-align: top;\n",
       "    }\n",
       "</style>\n",
       "<table border=\"1\" class=\"dataframe\">\n",
       "  <thead>\n",
       "    <tr style=\"text-align: right;\">\n",
       "      <th></th>\n",
       "      <th>name</th>\n",
       "      <th>neighborhood</th>\n",
       "      <th>address</th>\n",
       "      <th>city</th>\n",
       "      <th>state</th>\n",
       "      <th>postal_code</th>\n",
       "      <th>latitude</th>\n",
       "      <th>longitude</th>\n",
       "      <th>stars</th>\n",
       "      <th>review_count</th>\n",
       "      <th>...</th>\n",
       "      <th>Corkage</th>\n",
       "      <th>DietaryRestrictions_dairy-free</th>\n",
       "      <th>DietaryRestrictions_gluten-free</th>\n",
       "      <th>DietaryRestrictions_vegan</th>\n",
       "      <th>DietaryRestrictions_kosher</th>\n",
       "      <th>DietaryRestrictions_halal</th>\n",
       "      <th>DietaryRestrictions_soy-free</th>\n",
       "      <th>DietaryRestrictions_vegetarian</th>\n",
       "      <th>AgesAllowed</th>\n",
       "      <th>RestaurantsCounterService</th>\n",
       "    </tr>\n",
       "    <tr>\n",
       "      <th>business_id</th>\n",
       "      <th></th>\n",
       "      <th></th>\n",
       "      <th></th>\n",
       "      <th></th>\n",
       "      <th></th>\n",
       "      <th></th>\n",
       "      <th></th>\n",
       "      <th></th>\n",
       "      <th></th>\n",
       "      <th></th>\n",
       "      <th></th>\n",
       "      <th></th>\n",
       "      <th></th>\n",
       "      <th></th>\n",
       "      <th></th>\n",
       "      <th></th>\n",
       "      <th></th>\n",
       "      <th></th>\n",
       "      <th></th>\n",
       "      <th></th>\n",
       "      <th></th>\n",
       "    </tr>\n",
       "  </thead>\n",
       "  <tbody>\n",
       "    <tr>\n",
       "      <th>FYWN1wneV18bWNgQjJ2GNg</th>\n",
       "      <td>\"Dental by Design\"</td>\n",
       "      <td>NaN</td>\n",
       "      <td>\"4855 E Warner Rd, Ste B9\"</td>\n",
       "      <td>Ahwatukee</td>\n",
       "      <td>AZ</td>\n",
       "      <td>85044</td>\n",
       "      <td>33.330690</td>\n",
       "      <td>-111.978599</td>\n",
       "      <td>4.0</td>\n",
       "      <td>22</td>\n",
       "      <td>...</td>\n",
       "      <td>-1</td>\n",
       "      <td>-1</td>\n",
       "      <td>-1</td>\n",
       "      <td>-1</td>\n",
       "      <td>-1</td>\n",
       "      <td>-1</td>\n",
       "      <td>-1</td>\n",
       "      <td>-1</td>\n",
       "      <td>-1</td>\n",
       "      <td>-1</td>\n",
       "    </tr>\n",
       "    <tr>\n",
       "      <th>He-G7vWjzVUysIKrfNbPUQ</th>\n",
       "      <td>\"Stephen Szabo Salon\"</td>\n",
       "      <td>NaN</td>\n",
       "      <td>\"3101 Washington Rd\"</td>\n",
       "      <td>McMurray</td>\n",
       "      <td>PA</td>\n",
       "      <td>15317</td>\n",
       "      <td>40.291685</td>\n",
       "      <td>-80.104900</td>\n",
       "      <td>3.0</td>\n",
       "      <td>11</td>\n",
       "      <td>...</td>\n",
       "      <td>-1</td>\n",
       "      <td>-1</td>\n",
       "      <td>-1</td>\n",
       "      <td>-1</td>\n",
       "      <td>-1</td>\n",
       "      <td>-1</td>\n",
       "      <td>-1</td>\n",
       "      <td>-1</td>\n",
       "      <td>-1</td>\n",
       "      <td>-1</td>\n",
       "    </tr>\n",
       "    <tr>\n",
       "      <th>8DShNS-LuFqpEWIp0HxijA</th>\n",
       "      <td>\"Sports Authority\"</td>\n",
       "      <td>NaN</td>\n",
       "      <td>\"5000 Arizona Mills Cr, Ste 435\"</td>\n",
       "      <td>Tempe</td>\n",
       "      <td>AZ</td>\n",
       "      <td>85282</td>\n",
       "      <td>33.383147</td>\n",
       "      <td>-111.964725</td>\n",
       "      <td>3.0</td>\n",
       "      <td>9</td>\n",
       "      <td>...</td>\n",
       "      <td>-1</td>\n",
       "      <td>-1</td>\n",
       "      <td>-1</td>\n",
       "      <td>-1</td>\n",
       "      <td>-1</td>\n",
       "      <td>-1</td>\n",
       "      <td>-1</td>\n",
       "      <td>-1</td>\n",
       "      <td>-1</td>\n",
       "      <td>-1</td>\n",
       "    </tr>\n",
       "    <tr>\n",
       "      <th>PfOCPjBrlQAnz__NXj9h_w</th>\n",
       "      <td>\"Brick House Tavern + Tap\"</td>\n",
       "      <td>NaN</td>\n",
       "      <td>\"581 Howe Ave\"</td>\n",
       "      <td>Cuyahoga Falls</td>\n",
       "      <td>OH</td>\n",
       "      <td>44221</td>\n",
       "      <td>41.119535</td>\n",
       "      <td>-81.475690</td>\n",
       "      <td>3.5</td>\n",
       "      <td>116</td>\n",
       "      <td>...</td>\n",
       "      <td>-1</td>\n",
       "      <td>-1</td>\n",
       "      <td>-1</td>\n",
       "      <td>-1</td>\n",
       "      <td>-1</td>\n",
       "      <td>-1</td>\n",
       "      <td>-1</td>\n",
       "      <td>-1</td>\n",
       "      <td>-1</td>\n",
       "      <td>-1</td>\n",
       "    </tr>\n",
       "    <tr>\n",
       "      <th>o9eMRCWt5PkpLDE0gOPtcQ</th>\n",
       "      <td>\"Messina\"</td>\n",
       "      <td>NaN</td>\n",
       "      <td>\"Richterstr. 11\"</td>\n",
       "      <td>Stuttgart</td>\n",
       "      <td>BW</td>\n",
       "      <td>70567</td>\n",
       "      <td>48.727200</td>\n",
       "      <td>9.147950</td>\n",
       "      <td>4.0</td>\n",
       "      <td>5</td>\n",
       "      <td>...</td>\n",
       "      <td>-1</td>\n",
       "      <td>-1</td>\n",
       "      <td>-1</td>\n",
       "      <td>-1</td>\n",
       "      <td>-1</td>\n",
       "      <td>-1</td>\n",
       "      <td>-1</td>\n",
       "      <td>-1</td>\n",
       "      <td>-1</td>\n",
       "      <td>-1</td>\n",
       "    </tr>\n",
       "  </tbody>\n",
       "</table>\n",
       "<p>5 rows × 93 columns</p>\n",
       "</div>"
      ],
      "text/plain": [
       "                                              name neighborhood  \\\n",
       "business_id                                                       \n",
       "FYWN1wneV18bWNgQjJ2GNg          \"Dental by Design\"          NaN   \n",
       "He-G7vWjzVUysIKrfNbPUQ       \"Stephen Szabo Salon\"          NaN   \n",
       "8DShNS-LuFqpEWIp0HxijA          \"Sports Authority\"          NaN   \n",
       "PfOCPjBrlQAnz__NXj9h_w  \"Brick House Tavern + Tap\"          NaN   \n",
       "o9eMRCWt5PkpLDE0gOPtcQ                   \"Messina\"          NaN   \n",
       "\n",
       "                                                 address            city  \\\n",
       "business_id                                                                \n",
       "FYWN1wneV18bWNgQjJ2GNg        \"4855 E Warner Rd, Ste B9\"       Ahwatukee   \n",
       "He-G7vWjzVUysIKrfNbPUQ              \"3101 Washington Rd\"        McMurray   \n",
       "8DShNS-LuFqpEWIp0HxijA  \"5000 Arizona Mills Cr, Ste 435\"           Tempe   \n",
       "PfOCPjBrlQAnz__NXj9h_w                    \"581 Howe Ave\"  Cuyahoga Falls   \n",
       "o9eMRCWt5PkpLDE0gOPtcQ                  \"Richterstr. 11\"       Stuttgart   \n",
       "\n",
       "                       state postal_code   latitude   longitude  stars  \\\n",
       "business_id                                                              \n",
       "FYWN1wneV18bWNgQjJ2GNg    AZ       85044  33.330690 -111.978599    4.0   \n",
       "He-G7vWjzVUysIKrfNbPUQ    PA       15317  40.291685  -80.104900    3.0   \n",
       "8DShNS-LuFqpEWIp0HxijA    AZ       85282  33.383147 -111.964725    3.0   \n",
       "PfOCPjBrlQAnz__NXj9h_w    OH       44221  41.119535  -81.475690    3.5   \n",
       "o9eMRCWt5PkpLDE0gOPtcQ    BW       70567  48.727200    9.147950    4.0   \n",
       "\n",
       "                        review_count            ...              Corkage  \\\n",
       "business_id                                     ...                        \n",
       "FYWN1wneV18bWNgQjJ2GNg            22            ...                   -1   \n",
       "He-G7vWjzVUysIKrfNbPUQ            11            ...                   -1   \n",
       "8DShNS-LuFqpEWIp0HxijA             9            ...                   -1   \n",
       "PfOCPjBrlQAnz__NXj9h_w           116            ...                   -1   \n",
       "o9eMRCWt5PkpLDE0gOPtcQ             5            ...                   -1   \n",
       "\n",
       "                       DietaryRestrictions_dairy-free  \\\n",
       "business_id                                             \n",
       "FYWN1wneV18bWNgQjJ2GNg                             -1   \n",
       "He-G7vWjzVUysIKrfNbPUQ                             -1   \n",
       "8DShNS-LuFqpEWIp0HxijA                             -1   \n",
       "PfOCPjBrlQAnz__NXj9h_w                             -1   \n",
       "o9eMRCWt5PkpLDE0gOPtcQ                             -1   \n",
       "\n",
       "                        DietaryRestrictions_gluten-free  \\\n",
       "business_id                                               \n",
       "FYWN1wneV18bWNgQjJ2GNg                               -1   \n",
       "He-G7vWjzVUysIKrfNbPUQ                               -1   \n",
       "8DShNS-LuFqpEWIp0HxijA                               -1   \n",
       "PfOCPjBrlQAnz__NXj9h_w                               -1   \n",
       "o9eMRCWt5PkpLDE0gOPtcQ                               -1   \n",
       "\n",
       "                        DietaryRestrictions_vegan  DietaryRestrictions_kosher  \\\n",
       "business_id                                                                     \n",
       "FYWN1wneV18bWNgQjJ2GNg                         -1                          -1   \n",
       "He-G7vWjzVUysIKrfNbPUQ                         -1                          -1   \n",
       "8DShNS-LuFqpEWIp0HxijA                         -1                          -1   \n",
       "PfOCPjBrlQAnz__NXj9h_w                         -1                          -1   \n",
       "o9eMRCWt5PkpLDE0gOPtcQ                         -1                          -1   \n",
       "\n",
       "                        DietaryRestrictions_halal  \\\n",
       "business_id                                         \n",
       "FYWN1wneV18bWNgQjJ2GNg                         -1   \n",
       "He-G7vWjzVUysIKrfNbPUQ                         -1   \n",
       "8DShNS-LuFqpEWIp0HxijA                         -1   \n",
       "PfOCPjBrlQAnz__NXj9h_w                         -1   \n",
       "o9eMRCWt5PkpLDE0gOPtcQ                         -1   \n",
       "\n",
       "                        DietaryRestrictions_soy-free  \\\n",
       "business_id                                            \n",
       "FYWN1wneV18bWNgQjJ2GNg                            -1   \n",
       "He-G7vWjzVUysIKrfNbPUQ                            -1   \n",
       "8DShNS-LuFqpEWIp0HxijA                            -1   \n",
       "PfOCPjBrlQAnz__NXj9h_w                            -1   \n",
       "o9eMRCWt5PkpLDE0gOPtcQ                            -1   \n",
       "\n",
       "                        DietaryRestrictions_vegetarian  AgesAllowed  \\\n",
       "business_id                                                           \n",
       "FYWN1wneV18bWNgQjJ2GNg                              -1           -1   \n",
       "He-G7vWjzVUysIKrfNbPUQ                              -1           -1   \n",
       "8DShNS-LuFqpEWIp0HxijA                              -1           -1   \n",
       "PfOCPjBrlQAnz__NXj9h_w                              -1           -1   \n",
       "o9eMRCWt5PkpLDE0gOPtcQ                              -1           -1   \n",
       "\n",
       "                        RestaurantsCounterService  \n",
       "business_id                                        \n",
       "FYWN1wneV18bWNgQjJ2GNg                         -1  \n",
       "He-G7vWjzVUysIKrfNbPUQ                         -1  \n",
       "8DShNS-LuFqpEWIp0HxijA                         -1  \n",
       "PfOCPjBrlQAnz__NXj9h_w                         -1  \n",
       "o9eMRCWt5PkpLDE0gOPtcQ                         -1  \n",
       "\n",
       "[5 rows x 93 columns]"
      ]
     },
     "execution_count": 24,
     "metadata": {},
     "output_type": "execute_result"
    }
   ],
   "source": [
    "joined = businesses.merge(attributes, on='business_id').set_index('business_id')\n",
    "joined.head()"
   ]
  },
  {
   "cell_type": "markdown",
   "metadata": {},
   "source": [
    "## PCA analysis for the attributes database"
   ]
  },
  {
   "cell_type": "code",
   "execution_count": 25,
   "metadata": {},
   "outputs": [
    {
     "name": "stdout",
     "output_type": "stream",
     "text": [
      "Explained variance by component\n"
     ]
    },
    {
     "data": {
      "image/png": "[encoded data removed]",
      "text/plain": [
       "<matplotlib.figure.Figure at 0x243e5a74208>"
      ]
     },
     "metadata": {},
     "output_type": "display_data"
    },
    {
     "name": "stdout",
     "output_type": "stream",
     "text": [
      "\n",
      "Explained variance up to...\n"
     ]
    },
    {
     "data": {
      "image/png": "[encoded data removed]",
      "text/plain": [
       "<matplotlib.figure.Figure at 0x243e6530518>"
      ]
     },
     "metadata": {},
     "output_type": "display_data"
    }
   ],
   "source": [
    "y_atts = pd.Series([int(x) for x in joined['stars']]) #round star ratings\n",
    "x_atts = joined[joined.columns[12:]] #all the business attributes\n",
    "x_atts_train, x_atts_dev, y_atts_train, y_atts_dev = train_test_split(x_atts, y_atts, test_size=.2, random_state=0)\n",
    "pca = PCA()\n",
    "pca.fit(x_atts_train)\n",
    "print('Explained variance by component')\n",
    "plt.bar(height = pca.explained_variance_ratio_[0:50], x = list(range(1,51)))\n",
    "plt.show()\n",
    "accrued = []\n",
    "print()\n",
    "print('Explained variance up to...')\n",
    "for k in range(1,51):\n",
    "    accrued.append(reduce(lambda x,y: x + y, pca.explained_variance_ratio_[0:k]))\n",
    "plt.bar(height = accrued, x = list(range(1,51)))    \n",
    "plt.show()"
   ]
  },
  {
   "cell_type": "markdown",
   "metadata": {},
   "source": [
    "### I'm gonna check the factor loadings. If I have m components and p features, then this pxm matrix is the covariance between my feature matrix and my principal components. This way we can check which attributes are correlated with the most important components and get a proxy of which features are most important."
   ]
  },
  {
   "cell_type": "code",
   "execution_count": 26,
   "metadata": {},
   "outputs": [
    {
     "name": "stdout",
     "output_type": "stream",
     "text": [
      "Graphic representation of the attributes more correlated with the component factors\n"
     ]
    },
    {
     "data": {
      "image/png": "[encoded data removed]",
      "text/plain": [
       "<matplotlib.figure.Figure at 0x243e5a74320>"
      ]
     },
     "metadata": {},
     "output_type": "display_data"
    }
   ],
   "source": [
    "pca = PCA(n_components = 6)\n",
    "pca.fit(x_atts_train)\n",
    "factor_loadings = pca.components_.T*np.sqrt(pca.explained_variance_)\n",
    "print('Graphic representation of the attributes more correlated with the component factors')\n",
    "plt.figure(figsize=(20,10))\n",
    "plt.imshow(factor_loadings.T, cmap='gray', interpolation='none')\n",
    "plt.show()"
   ]
  },
  {
   "cell_type": "code",
   "execution_count": 27,
   "metadata": {},
   "outputs": [
    {
     "name": "stdout",
     "output_type": "stream",
     "text": [
      "Ten most important attributes\n",
      "WheelchairAccessible          0.219451\n",
      "BikeParking                   0.212065\n",
      "BusinessAcceptsCreditCards    0.205584\n",
      "BusinessParking_garage        0.197441\n",
      "BusinessParking_valet         0.143453\n",
      "Alcohol                       0.125690\n",
      "BusinessParking_validated     0.118410\n",
      "BusinessParking_street        0.102108\n",
      "GoodForKids                   0.100030\n",
      "HairSpecializesIn_coloring    0.099475\n",
      "dtype: float64\n"
     ]
    }
   ],
   "source": [
    "df_fl = pd.DataFrame(factor_loadings, index = x_atts.columns.values, columns = range(1,7))\n",
    "print('Ten most important attributes')\n",
    "print(df_fl.applymap(abs).mean(axis = 1).sort_values(ascending = False)[0:10])"
   ]
  },
  {
   "cell_type": "code",
   "execution_count": 28,
   "metadata": {},
   "outputs": [
    {
     "name": "stdout",
     "output_type": "stream",
     "text": [
      "0\n"
     ]
    },
    {
     "data": {
      "image/png": "[encoded data removed]",
      "text/plain": [
       "<matplotlib.figure.Figure at 0x2438b62d550>"
      ]
     },
     "metadata": {},
     "output_type": "display_data"
    }
   ],
   "source": [
    "pca = PCA(n_components = 3)\n",
    "td = pca.fit_transform(x_atts_train)\n",
    "star_1 = td[y_atts_train == 1]\n",
    "star_2 = td[y_atts_train == 2]\n",
    "star_3 = td[y_atts_train == 3]\n",
    "star_4 = td[y_atts_train == 4]\n",
    "star_5 = td[y_atts_train == 5]\n",
    "print(star_1.shape[0]+star_2.shape[0]+star_3.shape[0]+star_4.shape[0]+star_5.shape[0]-td.shape[0]) #check that calculations are correct\n",
    "\n",
    "fig = plt.figure(figsize=(20,10))\n",
    "ax = fig.add_subplot(111, projection='3d')\n",
    "\n",
    "for c, m, star in [('r', 'o', star_1), ('g', '^', star_2), ('b', 'o', star_3), ('c', '^', star_4), ('m', '^', star_5)]:\n",
    "    xs = star[:,0]\n",
    "    ys = star[:,1]\n",
    "    zs = star[:,2]\n",
    "    ax.scatter(xs, ys, zs, c=c, marker=m, s=5, zdir = 'x')\n",
    "\n",
    "ax.set_xlabel('First component')\n",
    "ax.set_ylabel('Second component')\n",
    "ax.set_zlabel('Third component')\n",
    "\n",
    "plt.show()"
   ]
  },
  {
   "cell_type": "code",
   "execution_count": 29,
   "metadata": {},
   "outputs": [
    {
     "data": {
      "image/png": "[encoded data removed]",
      "text/plain": [
       "<matplotlib.figure.Figure at 0x243e377eb70>"
      ]
     },
     "metadata": {},
     "output_type": "display_data"
    }
   ],
   "source": [
    "fig = plt.figure(figsize=(20,10))\n",
    "ax = fig.add_subplot(111, projection='3d')\n",
    "\n",
    "for c, m, star in [('b', 'o', star_1), ('r', 'o', star_5)]:\n",
    "    xs = star[:,0]\n",
    "    ys = star[:,1]\n",
    "    zs = star[:,2]\n",
    "    ax.scatter(xs, ys, zs, c=c, marker=m, s=20, zdir = 'x')\n",
    "\n",
    "ax.set_xlabel('First component')\n",
    "ax.set_ylabel('Second component')\n",
    "ax.set_zlabel('Third component')\n",
    "\n",
    "plt.show()"
   ]
  },
  {
   "cell_type": "markdown",
   "metadata": {},
   "source": [
    "Visually, it doesn't seems that there's a way to separate the star rating by the content of the attributes. But it could be that there is a solution in higher dimensions or using non linear models."
   ]
  },
  {
   "cell_type": "markdown",
   "metadata": {},
   "source": [
    "## Predictive model using only PCA components"
   ]
  },
  {
   "cell_type": "markdown",
   "metadata": {},
   "source": [
    "## Gaussian mixtures"
   ]
  },
  {
   "cell_type": "markdown",
   "metadata": {},
   "source": [
    "#### Data will be binarized by setting 1-2 as 1 and 4-5 as 5, 3s are dropped from the sample."
   ]
  },
  {
   "cell_type": "code",
   "execution_count": 30,
   "metadata": {},
   "outputs": [
    {
     "name": "stdout",
     "output_type": "stream",
     "text": [
      "Maximum accuracy was  0.6666992330614039 \n",
      " It was achieved using 6 PCA components,  4  GMM components, with a  full  covariance matrix.\n"
     ]
    }
   ],
   "source": [
    "cov_mat = ['spherical', 'diag', 'tied', 'full']\n",
    "n_GMM = [6,4,3,2]\n",
    "acc = []\n",
    "y_atts_dev = y_atts_dev.reset_index(drop = True)\n",
    "x_atts_dev = x_atts_dev.reset_index(drop = True)\n",
    "bin_y_atts_dev = y_atts_dev[(y_atts_dev<3) | (y_atts_dev>3)].apply(lambda x: 1 if x <3 else 5)\n",
    "bin_x_atts_dev = x_atts_dev[(y_atts_dev<3) | (y_atts_dev>3)]\n",
    "\n",
    "for k in range(0,len(cov_mat)):\n",
    "    for i in range(0,len(n_GMM)):\n",
    "        pca = PCA(n_components = 6)\n",
    "        td = pca.fit_transform(x_atts_train)\n",
    "        neg = td[y_atts_train < 3]\n",
    "        pos = td[y_atts_train > 3]\n",
    "        tst = pca.fit_transform(bin_x_atts_dev)\n",
    "        clf = mixture.GaussianMixture(n_components = n_GMM[i], covariance_type = cov_mat[k], random_state = 0)\n",
    "        clf_td_pos = clf.fit(pos)\n",
    "        tst_mat_pos = np.exp(clf_td_pos.score_samples(tst))\n",
    "        clf_td_neg = clf.fit(neg)\n",
    "        tst_mat_neg = np.exp(clf_td_neg.score_samples(tst))\n",
    "        y_pred = [5 if tst_mat_pos[j] > tst_mat_neg[j] else 1 for j in range(0,len(tst_mat_pos))]\n",
    "        num = [1 if y_pred[j] == bin_y_atts_dev.iloc[j] else 0 for j in range(0,len(y_pred))]\n",
    "        acc.append(sum(num)/len(y_pred))\n",
    "mx = acc.index(max(acc))\n",
    "a = mx//4\n",
    "b = mx-a*4\n",
    "print('Maximum accuracy was ', acc[mx], \"\\n\", \"It was achieved using 6 PCA components, \", n_GMM[b], \" GMM components, with a \", cov_mat[a], \" covariance matrix.\")"
   ]
  },
  {
   "cell_type": "markdown",
   "metadata": {},
   "source": [
    "## Support Vector Machine"
   ]
  },
  {
   "cell_type": "code",
   "execution_count": 31,
   "metadata": {},
   "outputs": [
    {
     "name": "stdout",
     "output_type": "stream",
     "text": [
      "All labels\n"
     ]
    },
    {
     "name": "stderr",
     "output_type": "stream",
     "text": [
      "c:\\users\\sm_fe\\anaconda3\\lib\\site-packages\\sklearn\\metrics\\classification.py:1135: UndefinedMetricWarning: Precision and F-score are ill-defined and being set to 0.0 in labels with no predicted samples.\n",
      "  'precision', 'predicted', average, warn_for)\n"
     ]
    },
    {
     "name": "stdout",
     "output_type": "stream",
     "text": [
      "             precision    recall  f1-score   support\n",
      "\n",
      "          1       0.00      0.00      0.00      1092\n",
      "          2       0.00      0.00      0.00      4257\n",
      "          3       0.38      0.29      0.33      9938\n",
      "          4       0.35      0.69      0.47     10633\n",
      "          5       0.35      0.17      0.23      4489\n",
      "\n",
      "avg / total       0.30      0.36      0.31     30409\n",
      "\n",
      "\n",
      "Binarized data\n",
      "             precision    recall  f1-score   support\n",
      "\n",
      "          1       0.51      0.02      0.04      5349\n",
      "          5       0.74      0.99      0.85     15122\n",
      "\n",
      "avg / total       0.68      0.74      0.64     20471\n",
      "\n"
     ]
    }
   ],
   "source": [
    "#Using all labels\n",
    "print('All labels')\n",
    "svc = LinearSVC()\n",
    "svc.fit(td, y_atts_train)\n",
    "tst = pca.fit_transform(x_atts_dev)\n",
    "print(metrics.classification_report(y_atts_dev, svc.predict(tst)))\n",
    "print()\n",
    "print('Binarized data')\n",
    "bin_td = td[(y_atts_train<3) | (y_atts_train>3)]\n",
    "bin_y_atts_train = y_atts_train[(y_atts_train<3) | (y_atts_train>3)].apply(lambda x: 1 if x <3 else 5)\n",
    "svc.fit(bin_td, bin_y_atts_train)\n",
    "bin_tst = pca.fit_transform(bin_x_atts_dev)\n",
    "print(metrics.classification_report(bin_y_atts_dev, svc.predict(bin_tst)))\n"
   ]
  },
  {
   "cell_type": "markdown",
   "metadata": {},
   "source": [
    "## Gaussian Naive Bayes"
   ]
  },
  {
   "cell_type": "code",
   "execution_count": 32,
   "metadata": {},
   "outputs": [
    {
     "name": "stdout",
     "output_type": "stream",
     "text": [
      "Classification report for GaussianNB - All labels\n",
      "             precision    recall  f1-score   support\n",
      "\n",
      "          1       0.09      0.04      0.06      1092\n",
      "          2       0.17      0.07      0.10      4257\n",
      "          3       0.42      0.38      0.40      9938\n",
      "          4       0.38      0.36      0.37     10633\n",
      "          5       0.28      0.54      0.36      4489\n",
      "\n",
      "avg / total       0.34      0.34      0.33     30409\n",
      "\n",
      "Classification report for GaussianNB - Binarized data\n",
      "             precision    recall  f1-score   support\n",
      "\n",
      "          1       0.33      0.10      0.16      5349\n",
      "          5       0.74      0.93      0.83     15122\n",
      "\n",
      "avg / total       0.64      0.71      0.65     20471\n",
      "\n"
     ]
    }
   ],
   "source": [
    "gnb = GaussianNB()\n",
    "gnb = gnb.fit(td, y_atts_train)\n",
    "y_pred = gnb.predict(tst)\n",
    "print(\"Classification report for GaussianNB - All labels\")\n",
    "print(metrics.classification_report(y_atts_dev,y_pred))\n",
    "gnb = gnb.fit(bin_td, bin_y_atts_train)\n",
    "y_pred = gnb.predict(bin_tst)\n",
    "print(\"Classification report for GaussianNB - Binarized data\")\n",
    "print(metrics.classification_report(bin_y_atts_dev,y_pred))"
   ]
  },
  {
   "cell_type": "markdown",
   "metadata": {},
   "source": [
    "## Decision Tree"
   ]
  },
  {
   "cell_type": "code",
   "execution_count": 33,
   "metadata": {},
   "outputs": [
    {
     "name": "stdout",
     "output_type": "stream",
     "text": [
      "Classification report for Decision Tree - All labels\n",
      "             precision    recall  f1-score   support\n",
      "\n",
      "          1       0.11      0.00      0.00      1092\n",
      "          2       0.15      0.16      0.15      4257\n",
      "          3       0.37      0.22      0.27      9938\n",
      "          4       0.37      0.59      0.45     10633\n",
      "          5       0.30      0.20      0.24      4489\n",
      "\n",
      "avg / total       0.32      0.33      0.30     30409\n",
      "\n",
      "Classification report for Decision Tree - Binarized data\n",
      "             precision    recall  f1-score   support\n",
      "\n",
      "          1       0.27      0.18      0.22      5349\n",
      "          5       0.74      0.83      0.78     15122\n",
      "\n",
      "avg / total       0.62      0.66      0.63     20471\n",
      "\n",
      "Wall time: 203 ms\n"
     ]
    }
   ],
   "source": [
    "%%time\n",
    "\n",
    "dt = DecisionTreeClassifier()\n",
    "dt.fit(td, y_atts_train)\n",
    "print(\"Classification report for Decision Tree - All labels\")\n",
    "print(metrics.classification_report(y_atts_dev, dt.predict(tst)))\n",
    "dt.fit(bin_td, bin_y_atts_train)\n",
    "print(\"Classification report for Decision Tree - Binarized data\")\n",
    "print(metrics.classification_report(bin_y_atts_dev, dt.predict(bin_tst)))"
   ]
  },
  {
   "cell_type": "markdown",
   "metadata": {},
   "source": [
    "## Random Forest"
   ]
  },
  {
   "cell_type": "code",
   "execution_count": 34,
   "metadata": {},
   "outputs": [
    {
     "name": "stdout",
     "output_type": "stream",
     "text": [
      "Classification report for Random Forest - All labels\n",
      "             precision    recall  f1-score   support\n",
      "\n",
      "          1       0.00      0.00      0.00      1092\n",
      "          2       0.14      0.14      0.14      4257\n",
      "          3       0.35      0.34      0.35      9938\n",
      "          4       0.36      0.47      0.41     10633\n",
      "          5       0.34      0.20      0.25      4489\n",
      "\n",
      "avg / total       0.31      0.33      0.31     30409\n",
      "\n",
      "Classification report for Random Forest - Binarized data\n",
      "             precision    recall  f1-score   support\n",
      "\n",
      "          1       0.27      0.15      0.19      5349\n",
      "          5       0.74      0.85      0.79     15122\n",
      "\n",
      "avg / total       0.62      0.67      0.64     20471\n",
      "\n",
      "Wall time: 755 ms\n"
     ]
    }
   ],
   "source": [
    "%%time\n",
    "\n",
    "rf = RandomForestClassifier()\n",
    "rf.fit(td, y_atts_train)\n",
    "print(\"Classification report for Random Forest - All labels\")\n",
    "print(metrics.classification_report(y_atts_dev, rf.predict(tst)))\n",
    "rf.fit(bin_td, bin_y_atts_train)\n",
    "print(\"Classification report for Random Forest - Binarized data\")\n",
    "print(metrics.classification_report(bin_y_atts_dev, rf.predict(bin_tst)))"
   ]
  },
  {
   "cell_type": "code",
   "execution_count": 35,
   "metadata": {},
   "outputs": [
    {
     "name": "stdout",
     "output_type": "stream",
     "text": [
      "Classification report for Logistic regression - All labels\n",
      "             precision    recall  f1-score   support\n",
      "\n",
      "          1       0.00      0.00      0.00      1092\n",
      "          2       0.00      0.00      0.00      4257\n",
      "          3       0.38      0.29      0.33      9938\n",
      "          4       0.35      0.69      0.47     10633\n",
      "          5       0.35      0.17      0.23      4489\n",
      "\n",
      "avg / total       0.30      0.36      0.31     30409\n",
      "\n",
      "Classification report for Logistic regression - Binarized data\n",
      "             precision    recall  f1-score   support\n",
      "\n",
      "          1       0.51      0.02      0.04      5349\n",
      "          5       0.74      0.99      0.85     15122\n",
      "\n",
      "avg / total       0.68      0.74      0.64     20471\n",
      "\n",
      "Wall time: 549 ms\n"
     ]
    },
    {
     "name": "stderr",
     "output_type": "stream",
     "text": [
      "c:\\users\\sm_fe\\anaconda3\\lib\\site-packages\\sklearn\\metrics\\classification.py:1135: UndefinedMetricWarning: Precision and F-score are ill-defined and being set to 0.0 in labels with no predicted samples.\n",
      "  'precision', 'predicted', average, warn_for)\n"
     ]
    }
   ],
   "source": [
    "%%time\n",
    "\n",
    "lr = LogisticRegression(penalty='l1', C=2)\n",
    "lr.fit(td, y_atts_train)\n",
    "print(\"Classification report for Logistic regression - All labels\")\n",
    "print(metrics.classification_report(y_atts_dev, lr.predict(tst)))\n",
    "lr.fit(bin_td, bin_y_atts_train)\n",
    "print(\"Classification report for Logistic regression - Binarized data\")\n",
    "print(metrics.classification_report(bin_y_atts_dev, lr.predict(bin_tst)))"
   ]
  },
  {
   "cell_type": "markdown",
   "metadata": {},
   "source": [
    "### End of Sergio's section, this will look a lot more organized when we merge the different bits of code..."
   ]
  },
  {
   "cell_type": "markdown",
   "metadata": {},
   "source": [
    "## EDA"
   ]
  },
  {
   "cell_type": "markdown",
   "metadata": {},
   "source": [
    "Before starting the supervised machine learning, let us do some basic exploratory data analysis.  First let's take a look at what information we have in the `reviews` data frame."
   ]
  },
  {
   "cell_type": "code",
   "execution_count": 36,
   "metadata": {
    "scrolled": false
   },
   "outputs": [
    {
     "data": {
      "text/html": [
       "<div>\n",
       "<style>\n",
       "    .dataframe thead tr:only-child th {\n",
       "        text-align: right;\n",
       "    }\n",
       "\n",
       "    .dataframe thead th {\n",
       "        text-align: left;\n",
       "    }\n",
       "\n",
       "    .dataframe tbody tr th {\n",
       "        vertical-align: top;\n",
       "    }\n",
       "</style>\n",
       "<table border=\"1\" class=\"dataframe\">\n",
       "  <thead>\n",
       "    <tr style=\"text-align: right;\">\n",
       "      <th></th>\n",
       "      <th>review_id</th>\n",
       "      <th>user_id</th>\n",
       "      <th>business_id</th>\n",
       "      <th>stars</th>\n",
       "      <th>date</th>\n",
       "      <th>text</th>\n",
       "      <th>useful</th>\n",
       "      <th>funny</th>\n",
       "      <th>cool</th>\n",
       "    </tr>\n",
       "  </thead>\n",
       "  <tbody>\n",
       "    <tr>\n",
       "      <th>0</th>\n",
       "      <td>vkVSCC7xljjrAI4UGfnKEQ</td>\n",
       "      <td>bv2nCi5Qv5vroFiqKGopiw</td>\n",
       "      <td>AEx2SYEUJmTxVVB18LlCwA</td>\n",
       "      <td>5</td>\n",
       "      <td>2016-05-28</td>\n",
       "      <td>Super simple place but amazing nonetheless. It...</td>\n",
       "      <td>0</td>\n",
       "      <td>0</td>\n",
       "      <td>0</td>\n",
       "    </tr>\n",
       "    <tr>\n",
       "      <th>1</th>\n",
       "      <td>n6QzIUObkYshz4dz2QRJTw</td>\n",
       "      <td>bv2nCi5Qv5vroFiqKGopiw</td>\n",
       "      <td>VR6GpWIda3SfvPC-lg9H3w</td>\n",
       "      <td>5</td>\n",
       "      <td>2016-05-28</td>\n",
       "      <td>Small unassuming place that changes their menu...</td>\n",
       "      <td>0</td>\n",
       "      <td>0</td>\n",
       "      <td>0</td>\n",
       "    </tr>\n",
       "    <tr>\n",
       "      <th>2</th>\n",
       "      <td>MV3CcKScW05u5LVfF6ok0g</td>\n",
       "      <td>bv2nCi5Qv5vroFiqKGopiw</td>\n",
       "      <td>CKC0-MOWMqoeWf6s-szl8g</td>\n",
       "      <td>5</td>\n",
       "      <td>2016-05-28</td>\n",
       "      <td>Lester's is located in a beautiful neighborhoo...</td>\n",
       "      <td>0</td>\n",
       "      <td>0</td>\n",
       "      <td>0</td>\n",
       "    </tr>\n",
       "    <tr>\n",
       "      <th>3</th>\n",
       "      <td>IXvOzsEMYtiJI0CARmj77Q</td>\n",
       "      <td>bv2nCi5Qv5vroFiqKGopiw</td>\n",
       "      <td>ACFtxLv8pGrrxMm6EgjreA</td>\n",
       "      <td>4</td>\n",
       "      <td>2016-05-28</td>\n",
       "      <td>Love coming here. Yes the place always needs t...</td>\n",
       "      <td>0</td>\n",
       "      <td>0</td>\n",
       "      <td>0</td>\n",
       "    </tr>\n",
       "    <tr>\n",
       "      <th>4</th>\n",
       "      <td>L_9BTb55X0GDtThi6GlZ6w</td>\n",
       "      <td>bv2nCi5Qv5vroFiqKGopiw</td>\n",
       "      <td>s2I_Ni76bjJNK9yG60iD-Q</td>\n",
       "      <td>4</td>\n",
       "      <td>2016-05-28</td>\n",
       "      <td>Had their chocolate almond croissant and it wa...</td>\n",
       "      <td>0</td>\n",
       "      <td>0</td>\n",
       "      <td>0</td>\n",
       "    </tr>\n",
       "  </tbody>\n",
       "</table>\n",
       "</div>"
      ],
      "text/plain": [
       "                review_id                 user_id             business_id  \\\n",
       "0  vkVSCC7xljjrAI4UGfnKEQ  bv2nCi5Qv5vroFiqKGopiw  AEx2SYEUJmTxVVB18LlCwA   \n",
       "1  n6QzIUObkYshz4dz2QRJTw  bv2nCi5Qv5vroFiqKGopiw  VR6GpWIda3SfvPC-lg9H3w   \n",
       "2  MV3CcKScW05u5LVfF6ok0g  bv2nCi5Qv5vroFiqKGopiw  CKC0-MOWMqoeWf6s-szl8g   \n",
       "3  IXvOzsEMYtiJI0CARmj77Q  bv2nCi5Qv5vroFiqKGopiw  ACFtxLv8pGrrxMm6EgjreA   \n",
       "4  L_9BTb55X0GDtThi6GlZ6w  bv2nCi5Qv5vroFiqKGopiw  s2I_Ni76bjJNK9yG60iD-Q   \n",
       "\n",
       "   stars        date                                               text  \\\n",
       "0      5  2016-05-28  Super simple place but amazing nonetheless. It...   \n",
       "1      5  2016-05-28  Small unassuming place that changes their menu...   \n",
       "2      5  2016-05-28  Lester's is located in a beautiful neighborhoo...   \n",
       "3      4  2016-05-28  Love coming here. Yes the place always needs t...   \n",
       "4      4  2016-05-28  Had their chocolate almond croissant and it wa...   \n",
       "\n",
       "   useful  funny  cool  \n",
       "0       0      0     0  \n",
       "1       0      0     0  \n",
       "2       0      0     0  \n",
       "3       0      0     0  \n",
       "4       0      0     0  "
      ]
     },
     "execution_count": 36,
     "metadata": {},
     "output_type": "execute_result"
    }
   ],
   "source": [
    "reviews.head()"
   ]
  },
  {
   "cell_type": "code",
   "execution_count": 37,
   "metadata": {
    "scrolled": false
   },
   "outputs": [
    {
     "data": {
      "image/png": "[encoded data removed]",
      "text/plain": [
       "<matplotlib.figure.Figure at 0x243e64fdcf8>"
      ]
     },
     "metadata": {},
     "output_type": "display_data"
    }
   ],
   "source": [
    "sns.countplot('stars', data=reviews)\n",
    "plt.grid()\n",
    "plt.show()"
   ]
  },
  {
   "cell_type": "markdown",
   "metadata": {},
   "source": [
    "There is some right skew in the star ratings.  We will leave this alone for now and come back to it in the **Predicting Stars with Review Text** section."
   ]
  },
  {
   "cell_type": "markdown",
   "metadata": {},
   "source": [
    "For geographical separation.  We can run KMeans or put this on a maps API later."
   ]
  },
  {
   "cell_type": "code",
   "execution_count": 38,
   "metadata": {
    "scrolled": false
   },
   "outputs": [
    {
     "data": {
      "image/png": "[encoded data removed]",
      "text/plain": [
       "<matplotlib.figure.Figure at 0x243e376c320>"
      ]
     },
     "metadata": {},
     "output_type": "display_data"
    }
   ],
   "source": [
    "plt.scatter(businesses.longitude, businesses.latitude)\n",
    "plt.xlabel('Longitude')\n",
    "plt.ylabel('Latitude')\n",
    "plt.title('Business Locations')\n",
    "plt.grid()\n",
    "plt.show()"
   ]
  },
  {
   "cell_type": "markdown",
   "metadata": {},
   "source": [
    "We're going to join businesses and attributes now.  Businesses without listed attributes and the converse will be excluded by the inner join."
   ]
  },
  {
   "cell_type": "code",
   "execution_count": 39,
   "metadata": {
    "scrolled": true
   },
   "outputs": [
    {
     "data": {
      "text/html": [
       "<div>\n",
       "<style>\n",
       "    .dataframe thead tr:only-child th {\n",
       "        text-align: right;\n",
       "    }\n",
       "\n",
       "    .dataframe thead th {\n",
       "        text-align: left;\n",
       "    }\n",
       "\n",
       "    .dataframe tbody tr th {\n",
       "        vertical-align: top;\n",
       "    }\n",
       "</style>\n",
       "<table border=\"1\" class=\"dataframe\">\n",
       "  <thead>\n",
       "    <tr style=\"text-align: right;\">\n",
       "      <th></th>\n",
       "      <th>name</th>\n",
       "      <th>neighborhood</th>\n",
       "      <th>address</th>\n",
       "      <th>city</th>\n",
       "      <th>state</th>\n",
       "      <th>postal_code</th>\n",
       "      <th>latitude</th>\n",
       "      <th>longitude</th>\n",
       "      <th>stars</th>\n",
       "      <th>review_count</th>\n",
       "      <th>...</th>\n",
       "      <th>Corkage</th>\n",
       "      <th>DietaryRestrictions_dairy-free</th>\n",
       "      <th>DietaryRestrictions_gluten-free</th>\n",
       "      <th>DietaryRestrictions_vegan</th>\n",
       "      <th>DietaryRestrictions_kosher</th>\n",
       "      <th>DietaryRestrictions_halal</th>\n",
       "      <th>DietaryRestrictions_soy-free</th>\n",
       "      <th>DietaryRestrictions_vegetarian</th>\n",
       "      <th>AgesAllowed</th>\n",
       "      <th>RestaurantsCounterService</th>\n",
       "    </tr>\n",
       "    <tr>\n",
       "      <th>business_id</th>\n",
       "      <th></th>\n",
       "      <th></th>\n",
       "      <th></th>\n",
       "      <th></th>\n",
       "      <th></th>\n",
       "      <th></th>\n",
       "      <th></th>\n",
       "      <th></th>\n",
       "      <th></th>\n",
       "      <th></th>\n",
       "      <th></th>\n",
       "      <th></th>\n",
       "      <th></th>\n",
       "      <th></th>\n",
       "      <th></th>\n",
       "      <th></th>\n",
       "      <th></th>\n",
       "      <th></th>\n",
       "      <th></th>\n",
       "      <th></th>\n",
       "      <th></th>\n",
       "    </tr>\n",
       "  </thead>\n",
       "  <tbody>\n",
       "    <tr>\n",
       "      <th>FYWN1wneV18bWNgQjJ2GNg</th>\n",
       "      <td>\"Dental by Design\"</td>\n",
       "      <td>NaN</td>\n",
       "      <td>\"4855 E Warner Rd, Ste B9\"</td>\n",
       "      <td>Ahwatukee</td>\n",
       "      <td>AZ</td>\n",
       "      <td>85044</td>\n",
       "      <td>33.330690</td>\n",
       "      <td>-111.978599</td>\n",
       "      <td>4.0</td>\n",
       "      <td>22</td>\n",
       "      <td>...</td>\n",
       "      <td>-1</td>\n",
       "      <td>-1</td>\n",
       "      <td>-1</td>\n",
       "      <td>-1</td>\n",
       "      <td>-1</td>\n",
       "      <td>-1</td>\n",
       "      <td>-1</td>\n",
       "      <td>-1</td>\n",
       "      <td>-1</td>\n",
       "      <td>-1</td>\n",
       "    </tr>\n",
       "    <tr>\n",
       "      <th>He-G7vWjzVUysIKrfNbPUQ</th>\n",
       "      <td>\"Stephen Szabo Salon\"</td>\n",
       "      <td>NaN</td>\n",
       "      <td>\"3101 Washington Rd\"</td>\n",
       "      <td>McMurray</td>\n",
       "      <td>PA</td>\n",
       "      <td>15317</td>\n",
       "      <td>40.291685</td>\n",
       "      <td>-80.104900</td>\n",
       "      <td>3.0</td>\n",
       "      <td>11</td>\n",
       "      <td>...</td>\n",
       "      <td>-1</td>\n",
       "      <td>-1</td>\n",
       "      <td>-1</td>\n",
       "      <td>-1</td>\n",
       "      <td>-1</td>\n",
       "      <td>-1</td>\n",
       "      <td>-1</td>\n",
       "      <td>-1</td>\n",
       "      <td>-1</td>\n",
       "      <td>-1</td>\n",
       "    </tr>\n",
       "    <tr>\n",
       "      <th>8DShNS-LuFqpEWIp0HxijA</th>\n",
       "      <td>\"Sports Authority\"</td>\n",
       "      <td>NaN</td>\n",
       "      <td>\"5000 Arizona Mills Cr, Ste 435\"</td>\n",
       "      <td>Tempe</td>\n",
       "      <td>AZ</td>\n",
       "      <td>85282</td>\n",
       "      <td>33.383147</td>\n",
       "      <td>-111.964725</td>\n",
       "      <td>3.0</td>\n",
       "      <td>9</td>\n",
       "      <td>...</td>\n",
       "      <td>-1</td>\n",
       "      <td>-1</td>\n",
       "      <td>-1</td>\n",
       "      <td>-1</td>\n",
       "      <td>-1</td>\n",
       "      <td>-1</td>\n",
       "      <td>-1</td>\n",
       "      <td>-1</td>\n",
       "      <td>-1</td>\n",
       "      <td>-1</td>\n",
       "    </tr>\n",
       "    <tr>\n",
       "      <th>PfOCPjBrlQAnz__NXj9h_w</th>\n",
       "      <td>\"Brick House Tavern + Tap\"</td>\n",
       "      <td>NaN</td>\n",
       "      <td>\"581 Howe Ave\"</td>\n",
       "      <td>Cuyahoga Falls</td>\n",
       "      <td>OH</td>\n",
       "      <td>44221</td>\n",
       "      <td>41.119535</td>\n",
       "      <td>-81.475690</td>\n",
       "      <td>3.5</td>\n",
       "      <td>116</td>\n",
       "      <td>...</td>\n",
       "      <td>-1</td>\n",
       "      <td>-1</td>\n",
       "      <td>-1</td>\n",
       "      <td>-1</td>\n",
       "      <td>-1</td>\n",
       "      <td>-1</td>\n",
       "      <td>-1</td>\n",
       "      <td>-1</td>\n",
       "      <td>-1</td>\n",
       "      <td>-1</td>\n",
       "    </tr>\n",
       "    <tr>\n",
       "      <th>o9eMRCWt5PkpLDE0gOPtcQ</th>\n",
       "      <td>\"Messina\"</td>\n",
       "      <td>NaN</td>\n",
       "      <td>\"Richterstr. 11\"</td>\n",
       "      <td>Stuttgart</td>\n",
       "      <td>BW</td>\n",
       "      <td>70567</td>\n",
       "      <td>48.727200</td>\n",
       "      <td>9.147950</td>\n",
       "      <td>4.0</td>\n",
       "      <td>5</td>\n",
       "      <td>...</td>\n",
       "      <td>-1</td>\n",
       "      <td>-1</td>\n",
       "      <td>-1</td>\n",
       "      <td>-1</td>\n",
       "      <td>-1</td>\n",
       "      <td>-1</td>\n",
       "      <td>-1</td>\n",
       "      <td>-1</td>\n",
       "      <td>-1</td>\n",
       "      <td>-1</td>\n",
       "    </tr>\n",
       "  </tbody>\n",
       "</table>\n",
       "<p>5 rows × 93 columns</p>\n",
       "</div>"
      ],
      "text/plain": [
       "                                              name neighborhood  \\\n",
       "business_id                                                       \n",
       "FYWN1wneV18bWNgQjJ2GNg          \"Dental by Design\"          NaN   \n",
       "He-G7vWjzVUysIKrfNbPUQ       \"Stephen Szabo Salon\"          NaN   \n",
       "8DShNS-LuFqpEWIp0HxijA          \"Sports Authority\"          NaN   \n",
       "PfOCPjBrlQAnz__NXj9h_w  \"Brick House Tavern + Tap\"          NaN   \n",
       "o9eMRCWt5PkpLDE0gOPtcQ                   \"Messina\"          NaN   \n",
       "\n",
       "                                                 address            city  \\\n",
       "business_id                                                                \n",
       "FYWN1wneV18bWNgQjJ2GNg        \"4855 E Warner Rd, Ste B9\"       Ahwatukee   \n",
       "He-G7vWjzVUysIKrfNbPUQ              \"3101 Washington Rd\"        McMurray   \n",
       "8DShNS-LuFqpEWIp0HxijA  \"5000 Arizona Mills Cr, Ste 435\"           Tempe   \n",
       "PfOCPjBrlQAnz__NXj9h_w                    \"581 Howe Ave\"  Cuyahoga Falls   \n",
       "o9eMRCWt5PkpLDE0gOPtcQ                  \"Richterstr. 11\"       Stuttgart   \n",
       "\n",
       "                       state postal_code   latitude   longitude  stars  \\\n",
       "business_id                                                              \n",
       "FYWN1wneV18bWNgQjJ2GNg    AZ       85044  33.330690 -111.978599    4.0   \n",
       "He-G7vWjzVUysIKrfNbPUQ    PA       15317  40.291685  -80.104900    3.0   \n",
       "8DShNS-LuFqpEWIp0HxijA    AZ       85282  33.383147 -111.964725    3.0   \n",
       "PfOCPjBrlQAnz__NXj9h_w    OH       44221  41.119535  -81.475690    3.5   \n",
       "o9eMRCWt5PkpLDE0gOPtcQ    BW       70567  48.727200    9.147950    4.0   \n",
       "\n",
       "                        review_count            ...              Corkage  \\\n",
       "business_id                                     ...                        \n",
       "FYWN1wneV18bWNgQjJ2GNg            22            ...                   -1   \n",
       "He-G7vWjzVUysIKrfNbPUQ            11            ...                   -1   \n",
       "8DShNS-LuFqpEWIp0HxijA             9            ...                   -1   \n",
       "PfOCPjBrlQAnz__NXj9h_w           116            ...                   -1   \n",
       "o9eMRCWt5PkpLDE0gOPtcQ             5            ...                   -1   \n",
       "\n",
       "                       DietaryRestrictions_dairy-free  \\\n",
       "business_id                                             \n",
       "FYWN1wneV18bWNgQjJ2GNg                             -1   \n",
       "He-G7vWjzVUysIKrfNbPUQ                             -1   \n",
       "8DShNS-LuFqpEWIp0HxijA                             -1   \n",
       "PfOCPjBrlQAnz__NXj9h_w                             -1   \n",
       "o9eMRCWt5PkpLDE0gOPtcQ                             -1   \n",
       "\n",
       "                        DietaryRestrictions_gluten-free  \\\n",
       "business_id                                               \n",
       "FYWN1wneV18bWNgQjJ2GNg                               -1   \n",
       "He-G7vWjzVUysIKrfNbPUQ                               -1   \n",
       "8DShNS-LuFqpEWIp0HxijA                               -1   \n",
       "PfOCPjBrlQAnz__NXj9h_w                               -1   \n",
       "o9eMRCWt5PkpLDE0gOPtcQ                               -1   \n",
       "\n",
       "                        DietaryRestrictions_vegan  DietaryRestrictions_kosher  \\\n",
       "business_id                                                                     \n",
       "FYWN1wneV18bWNgQjJ2GNg                         -1                          -1   \n",
       "He-G7vWjzVUysIKrfNbPUQ                         -1                          -1   \n",
       "8DShNS-LuFqpEWIp0HxijA                         -1                          -1   \n",
       "PfOCPjBrlQAnz__NXj9h_w                         -1                          -1   \n",
       "o9eMRCWt5PkpLDE0gOPtcQ                         -1                          -1   \n",
       "\n",
       "                        DietaryRestrictions_halal  \\\n",
       "business_id                                         \n",
       "FYWN1wneV18bWNgQjJ2GNg                         -1   \n",
       "He-G7vWjzVUysIKrfNbPUQ                         -1   \n",
       "8DShNS-LuFqpEWIp0HxijA                         -1   \n",
       "PfOCPjBrlQAnz__NXj9h_w                         -1   \n",
       "o9eMRCWt5PkpLDE0gOPtcQ                         -1   \n",
       "\n",
       "                        DietaryRestrictions_soy-free  \\\n",
       "business_id                                            \n",
       "FYWN1wneV18bWNgQjJ2GNg                            -1   \n",
       "He-G7vWjzVUysIKrfNbPUQ                            -1   \n",
       "8DShNS-LuFqpEWIp0HxijA                            -1   \n",
       "PfOCPjBrlQAnz__NXj9h_w                            -1   \n",
       "o9eMRCWt5PkpLDE0gOPtcQ                            -1   \n",
       "\n",
       "                        DietaryRestrictions_vegetarian  AgesAllowed  \\\n",
       "business_id                                                           \n",
       "FYWN1wneV18bWNgQjJ2GNg                              -1           -1   \n",
       "He-G7vWjzVUysIKrfNbPUQ                              -1           -1   \n",
       "8DShNS-LuFqpEWIp0HxijA                              -1           -1   \n",
       "PfOCPjBrlQAnz__NXj9h_w                              -1           -1   \n",
       "o9eMRCWt5PkpLDE0gOPtcQ                              -1           -1   \n",
       "\n",
       "                        RestaurantsCounterService  \n",
       "business_id                                        \n",
       "FYWN1wneV18bWNgQjJ2GNg                         -1  \n",
       "He-G7vWjzVUysIKrfNbPUQ                         -1  \n",
       "8DShNS-LuFqpEWIp0HxijA                         -1  \n",
       "PfOCPjBrlQAnz__NXj9h_w                         -1  \n",
       "o9eMRCWt5PkpLDE0gOPtcQ                         -1  \n",
       "\n",
       "[5 rows x 93 columns]"
      ]
     },
     "execution_count": 39,
     "metadata": {},
     "output_type": "execute_result"
    }
   ],
   "source": [
    "joined = businesses.merge(attributes, on='business_id').set_index('business_id')\n",
    "joined.head()"
   ]
  },
  {
   "cell_type": "markdown",
   "metadata": {},
   "source": [
    "## Extracting Categories"
   ]
  },
  {
   "cell_type": "markdown",
   "metadata": {},
   "source": [
    "The categories in the `businesses` data frame is useful to us.  However, it is currently in the form of semicolon separated values.  In addition, the categories for each business do not seem to be ordered in any way.  Consider that restaurants are probably the most popular type of business on Yelp, but the \"restaurant\" label is not necessarily first (or even near the top) of the category list for any given applicable business.  Therefore, we will do some preprocessing to extract all the categories and sort them by popularity, i.e. frequency of appearance in businesses."
   ]
  },
  {
   "cell_type": "code",
   "execution_count": 40,
   "metadata": {},
   "outputs": [
    {
     "name": "stdout",
     "output_type": "stream",
     "text": [
      "Total number of business: 152041\n",
      "Total number of categories: 1269\n"
     ]
    }
   ],
   "source": [
    "c = Counter()\n",
    "joined.categories.str.split(';').apply(lambda x: c.update(x))\n",
    "\n",
    "print('Total number of business: %d' % joined.shape[0])\n",
    "\n",
    "n_categories = len(c.keys())\n",
    "print('Total number of categories: %d' % n_categories)"
   ]
  },
  {
   "cell_type": "code",
   "execution_count": 41,
   "metadata": {},
   "outputs": [
    {
     "data": {
      "image/png": "[encoded data removed]",
      "text/plain": [
       "<matplotlib.figure.Figure at 0x24394516940>"
      ]
     },
     "metadata": {},
     "output_type": "display_data"
    }
   ],
   "source": [
    "categories = pd.DataFrame.from_dict(c, orient='index').reset_index()\n",
    "categories.columns = ['category', 'count']\n",
    "categories = categories.sort_values('count', ascending=False)\n",
    "\n",
    "plt.figure(figsize=[20,10])\n",
    "sns.barplot(x='category', y='count', data=categories.iloc[:10])\n",
    "plt.grid()\n",
    "plt.show()"
   ]
  },
  {
   "cell_type": "markdown",
   "metadata": {},
   "source": [
    "Unsurprisingly, the most popular category is restaurants by quite a large margin."
   ]
  },
  {
   "cell_type": "markdown",
   "metadata": {},
   "source": [
    "Now, we want to pull out the first few categories as \"main categories for each business.  To do this, we\n",
    "\n",
    "1. Split the categories\n",
    "2. Sort the categories by descending count\n",
    "3. Rejoin the categories\n",
    "4. Split the categories into separate columns\n",
    "5. Extract the first 3 columns\n",
    "\n",
    "Admitedly, there seems to be some inefficiency between steps 3 and 4.  I am currently unsure of how to do it better."
   ]
  },
  {
   "cell_type": "code",
   "execution_count": 42,
   "metadata": {},
   "outputs": [
    {
     "data": {
      "text/html": [
       "<div>\n",
       "<style>\n",
       "    .dataframe thead tr:only-child th {\n",
       "        text-align: right;\n",
       "    }\n",
       "\n",
       "    .dataframe thead th {\n",
       "        text-align: left;\n",
       "    }\n",
       "\n",
       "    .dataframe tbody tr th {\n",
       "        vertical-align: top;\n",
       "    }\n",
       "</style>\n",
       "<table border=\"1\" class=\"dataframe\">\n",
       "  <thead>\n",
       "    <tr style=\"text-align: right;\">\n",
       "      <th></th>\n",
       "      <th>name</th>\n",
       "      <th>neighborhood</th>\n",
       "      <th>address</th>\n",
       "      <th>city</th>\n",
       "      <th>state</th>\n",
       "      <th>postal_code</th>\n",
       "      <th>latitude</th>\n",
       "      <th>longitude</th>\n",
       "      <th>stars</th>\n",
       "      <th>review_count</th>\n",
       "      <th>...</th>\n",
       "      <th>DietaryRestrictions_vegan</th>\n",
       "      <th>DietaryRestrictions_kosher</th>\n",
       "      <th>DietaryRestrictions_halal</th>\n",
       "      <th>DietaryRestrictions_soy-free</th>\n",
       "      <th>DietaryRestrictions_vegetarian</th>\n",
       "      <th>AgesAllowed</th>\n",
       "      <th>RestaurantsCounterService</th>\n",
       "      <th>category1</th>\n",
       "      <th>category2</th>\n",
       "      <th>category3</th>\n",
       "    </tr>\n",
       "    <tr>\n",
       "      <th>business_id</th>\n",
       "      <th></th>\n",
       "      <th></th>\n",
       "      <th></th>\n",
       "      <th></th>\n",
       "      <th></th>\n",
       "      <th></th>\n",
       "      <th></th>\n",
       "      <th></th>\n",
       "      <th></th>\n",
       "      <th></th>\n",
       "      <th></th>\n",
       "      <th></th>\n",
       "      <th></th>\n",
       "      <th></th>\n",
       "      <th></th>\n",
       "      <th></th>\n",
       "      <th></th>\n",
       "      <th></th>\n",
       "      <th></th>\n",
       "      <th></th>\n",
       "      <th></th>\n",
       "    </tr>\n",
       "  </thead>\n",
       "  <tbody>\n",
       "    <tr>\n",
       "      <th>FYWN1wneV18bWNgQjJ2GNg</th>\n",
       "      <td>\"Dental by Design\"</td>\n",
       "      <td>NaN</td>\n",
       "      <td>\"4855 E Warner Rd, Ste B9\"</td>\n",
       "      <td>Ahwatukee</td>\n",
       "      <td>AZ</td>\n",
       "      <td>85044</td>\n",
       "      <td>33.330690</td>\n",
       "      <td>-111.978599</td>\n",
       "      <td>4.0</td>\n",
       "      <td>22</td>\n",
       "      <td>...</td>\n",
       "      <td>-1</td>\n",
       "      <td>-1</td>\n",
       "      <td>-1</td>\n",
       "      <td>-1</td>\n",
       "      <td>-1</td>\n",
       "      <td>-1</td>\n",
       "      <td>-1</td>\n",
       "      <td>Health &amp; Medical</td>\n",
       "      <td>Dentists</td>\n",
       "      <td>General Dentistry</td>\n",
       "    </tr>\n",
       "    <tr>\n",
       "      <th>He-G7vWjzVUysIKrfNbPUQ</th>\n",
       "      <td>\"Stephen Szabo Salon\"</td>\n",
       "      <td>NaN</td>\n",
       "      <td>\"3101 Washington Rd\"</td>\n",
       "      <td>McMurray</td>\n",
       "      <td>PA</td>\n",
       "      <td>15317</td>\n",
       "      <td>40.291685</td>\n",
       "      <td>-80.104900</td>\n",
       "      <td>3.0</td>\n",
       "      <td>11</td>\n",
       "      <td>...</td>\n",
       "      <td>-1</td>\n",
       "      <td>-1</td>\n",
       "      <td>-1</td>\n",
       "      <td>-1</td>\n",
       "      <td>-1</td>\n",
       "      <td>-1</td>\n",
       "      <td>-1</td>\n",
       "      <td>Beauty &amp; Spas</td>\n",
       "      <td>Hair Salons</td>\n",
       "      <td>Hair Stylists</td>\n",
       "    </tr>\n",
       "    <tr>\n",
       "      <th>8DShNS-LuFqpEWIp0HxijA</th>\n",
       "      <td>\"Sports Authority\"</td>\n",
       "      <td>NaN</td>\n",
       "      <td>\"5000 Arizona Mills Cr, Ste 435\"</td>\n",
       "      <td>Tempe</td>\n",
       "      <td>AZ</td>\n",
       "      <td>85282</td>\n",
       "      <td>33.383147</td>\n",
       "      <td>-111.964725</td>\n",
       "      <td>3.0</td>\n",
       "      <td>9</td>\n",
       "      <td>...</td>\n",
       "      <td>-1</td>\n",
       "      <td>-1</td>\n",
       "      <td>-1</td>\n",
       "      <td>-1</td>\n",
       "      <td>-1</td>\n",
       "      <td>-1</td>\n",
       "      <td>-1</td>\n",
       "      <td>Shopping</td>\n",
       "      <td>Sporting Goods</td>\n",
       "      <td>None</td>\n",
       "    </tr>\n",
       "    <tr>\n",
       "      <th>PfOCPjBrlQAnz__NXj9h_w</th>\n",
       "      <td>\"Brick House Tavern + Tap\"</td>\n",
       "      <td>NaN</td>\n",
       "      <td>\"581 Howe Ave\"</td>\n",
       "      <td>Cuyahoga Falls</td>\n",
       "      <td>OH</td>\n",
       "      <td>44221</td>\n",
       "      <td>41.119535</td>\n",
       "      <td>-81.475690</td>\n",
       "      <td>3.5</td>\n",
       "      <td>116</td>\n",
       "      <td>...</td>\n",
       "      <td>-1</td>\n",
       "      <td>-1</td>\n",
       "      <td>-1</td>\n",
       "      <td>-1</td>\n",
       "      <td>-1</td>\n",
       "      <td>-1</td>\n",
       "      <td>-1</td>\n",
       "      <td>Restaurants</td>\n",
       "      <td>Nightlife</td>\n",
       "      <td>Bars</td>\n",
       "    </tr>\n",
       "    <tr>\n",
       "      <th>o9eMRCWt5PkpLDE0gOPtcQ</th>\n",
       "      <td>\"Messina\"</td>\n",
       "      <td>NaN</td>\n",
       "      <td>\"Richterstr. 11\"</td>\n",
       "      <td>Stuttgart</td>\n",
       "      <td>BW</td>\n",
       "      <td>70567</td>\n",
       "      <td>48.727200</td>\n",
       "      <td>9.147950</td>\n",
       "      <td>4.0</td>\n",
       "      <td>5</td>\n",
       "      <td>...</td>\n",
       "      <td>-1</td>\n",
       "      <td>-1</td>\n",
       "      <td>-1</td>\n",
       "      <td>-1</td>\n",
       "      <td>-1</td>\n",
       "      <td>-1</td>\n",
       "      <td>-1</td>\n",
       "      <td>Restaurants</td>\n",
       "      <td>Italian</td>\n",
       "      <td>None</td>\n",
       "    </tr>\n",
       "  </tbody>\n",
       "</table>\n",
       "<p>5 rows × 96 columns</p>\n",
       "</div>"
      ],
      "text/plain": [
       "                                              name neighborhood  \\\n",
       "business_id                                                       \n",
       "FYWN1wneV18bWNgQjJ2GNg          \"Dental by Design\"          NaN   \n",
       "He-G7vWjzVUysIKrfNbPUQ       \"Stephen Szabo Salon\"          NaN   \n",
       "8DShNS-LuFqpEWIp0HxijA          \"Sports Authority\"          NaN   \n",
       "PfOCPjBrlQAnz__NXj9h_w  \"Brick House Tavern + Tap\"          NaN   \n",
       "o9eMRCWt5PkpLDE0gOPtcQ                   \"Messina\"          NaN   \n",
       "\n",
       "                                                 address            city  \\\n",
       "business_id                                                                \n",
       "FYWN1wneV18bWNgQjJ2GNg        \"4855 E Warner Rd, Ste B9\"       Ahwatukee   \n",
       "He-G7vWjzVUysIKrfNbPUQ              \"3101 Washington Rd\"        McMurray   \n",
       "8DShNS-LuFqpEWIp0HxijA  \"5000 Arizona Mills Cr, Ste 435\"           Tempe   \n",
       "PfOCPjBrlQAnz__NXj9h_w                    \"581 Howe Ave\"  Cuyahoga Falls   \n",
       "o9eMRCWt5PkpLDE0gOPtcQ                  \"Richterstr. 11\"       Stuttgart   \n",
       "\n",
       "                       state postal_code   latitude   longitude  stars  \\\n",
       "business_id                                                              \n",
       "FYWN1wneV18bWNgQjJ2GNg    AZ       85044  33.330690 -111.978599    4.0   \n",
       "He-G7vWjzVUysIKrfNbPUQ    PA       15317  40.291685  -80.104900    3.0   \n",
       "8DShNS-LuFqpEWIp0HxijA    AZ       85282  33.383147 -111.964725    3.0   \n",
       "PfOCPjBrlQAnz__NXj9h_w    OH       44221  41.119535  -81.475690    3.5   \n",
       "o9eMRCWt5PkpLDE0gOPtcQ    BW       70567  48.727200    9.147950    4.0   \n",
       "\n",
       "                        review_count        ...          \\\n",
       "business_id                                 ...           \n",
       "FYWN1wneV18bWNgQjJ2GNg            22        ...           \n",
       "He-G7vWjzVUysIKrfNbPUQ            11        ...           \n",
       "8DShNS-LuFqpEWIp0HxijA             9        ...           \n",
       "PfOCPjBrlQAnz__NXj9h_w           116        ...           \n",
       "o9eMRCWt5PkpLDE0gOPtcQ             5        ...           \n",
       "\n",
       "                        DietaryRestrictions_vegan DietaryRestrictions_kosher  \\\n",
       "business_id                                                                    \n",
       "FYWN1wneV18bWNgQjJ2GNg                         -1                         -1   \n",
       "He-G7vWjzVUysIKrfNbPUQ                         -1                         -1   \n",
       "8DShNS-LuFqpEWIp0HxijA                         -1                         -1   \n",
       "PfOCPjBrlQAnz__NXj9h_w                         -1                         -1   \n",
       "o9eMRCWt5PkpLDE0gOPtcQ                         -1                         -1   \n",
       "\n",
       "                        DietaryRestrictions_halal  \\\n",
       "business_id                                         \n",
       "FYWN1wneV18bWNgQjJ2GNg                         -1   \n",
       "He-G7vWjzVUysIKrfNbPUQ                         -1   \n",
       "8DShNS-LuFqpEWIp0HxijA                         -1   \n",
       "PfOCPjBrlQAnz__NXj9h_w                         -1   \n",
       "o9eMRCWt5PkpLDE0gOPtcQ                         -1   \n",
       "\n",
       "                        DietaryRestrictions_soy-free  \\\n",
       "business_id                                            \n",
       "FYWN1wneV18bWNgQjJ2GNg                            -1   \n",
       "He-G7vWjzVUysIKrfNbPUQ                            -1   \n",
       "8DShNS-LuFqpEWIp0HxijA                            -1   \n",
       "PfOCPjBrlQAnz__NXj9h_w                            -1   \n",
       "o9eMRCWt5PkpLDE0gOPtcQ                            -1   \n",
       "\n",
       "                        DietaryRestrictions_vegetarian  AgesAllowed  \\\n",
       "business_id                                                           \n",
       "FYWN1wneV18bWNgQjJ2GNg                              -1           -1   \n",
       "He-G7vWjzVUysIKrfNbPUQ                              -1           -1   \n",
       "8DShNS-LuFqpEWIp0HxijA                              -1           -1   \n",
       "PfOCPjBrlQAnz__NXj9h_w                              -1           -1   \n",
       "o9eMRCWt5PkpLDE0gOPtcQ                              -1           -1   \n",
       "\n",
       "                        RestaurantsCounterService         category1  \\\n",
       "business_id                                                           \n",
       "FYWN1wneV18bWNgQjJ2GNg                         -1  Health & Medical   \n",
       "He-G7vWjzVUysIKrfNbPUQ                         -1     Beauty & Spas   \n",
       "8DShNS-LuFqpEWIp0HxijA                         -1          Shopping   \n",
       "PfOCPjBrlQAnz__NXj9h_w                         -1       Restaurants   \n",
       "o9eMRCWt5PkpLDE0gOPtcQ                         -1       Restaurants   \n",
       "\n",
       "                             category2          category3  \n",
       "business_id                                                \n",
       "FYWN1wneV18bWNgQjJ2GNg        Dentists  General Dentistry  \n",
       "He-G7vWjzVUysIKrfNbPUQ     Hair Salons      Hair Stylists  \n",
       "8DShNS-LuFqpEWIp0HxijA  Sporting Goods               None  \n",
       "PfOCPjBrlQAnz__NXj9h_w       Nightlife               Bars  \n",
       "o9eMRCWt5PkpLDE0gOPtcQ         Italian               None  \n",
       "\n",
       "[5 rows x 96 columns]"
      ]
     },
     "execution_count": 42,
     "metadata": {},
     "output_type": "execute_result"
    }
   ],
   "source": [
    "main_categories = joined.categories.str.split(';')\\\n",
    "    .apply(lambda row: ';'.join(sorted(row, key=lambda x:-c[x]))).\\\n",
    "    str.split(';', expand=True)\\\n",
    "    [[0,1,2]]\n",
    "\n",
    "main_categories.columns = ['category1', 'category2', 'category3']\n",
    "attributes_categories = pd.concat([joined, main_categories], axis=1)\n",
    "attributes_categories.head()"
   ]
  },
  {
   "cell_type": "markdown",
   "metadata": {},
   "source": [
    "## Machine Learning"
   ]
  },
  {
   "cell_type": "markdown",
   "metadata": {},
   "source": [
    "### Predicting Stars with Business Attributes"
   ]
  },
  {
   "cell_type": "markdown",
   "metadata": {},
   "source": [
    "We start our supervised learning first with exploring the possibility of predicting business ratings with its attributes."
   ]
  },
  {
   "cell_type": "code",
   "execution_count": 43,
   "metadata": {},
   "outputs": [],
   "source": [
    "np.random.seed(0)\n",
    "X_train_attr, X_test_attr, y_train_attr, y_test_attr = \\\n",
    "    train_test_split(joined[attribute_names].values, joined.stars.astype(np.int8).values, test_size=.1)"
   ]
  },
  {
   "cell_type": "markdown",
   "metadata": {},
   "source": [
    "#### Decision Tree"
   ]
  },
  {
   "cell_type": "code",
   "execution_count": 44,
   "metadata": {
    "scrolled": true
   },
   "outputs": [
    {
     "name": "stdout",
     "output_type": "stream",
     "text": [
      "             precision    recall  f1-score   support\n",
      "\n",
      "          1      0.333     0.002     0.004       528\n",
      "          2      0.429     0.041     0.075      2130\n",
      "          3      0.419     0.386     0.402      4992\n",
      "          4      0.371     0.632     0.467      5275\n",
      "          5      0.368     0.228     0.282      2280\n",
      "\n",
      "avg / total      0.393     0.386     0.347     15205\n",
      "\n",
      "Wall time: 1.04 s\n"
     ]
    }
   ],
   "source": [
    "%%time\n",
    "\n",
    "dt = DecisionTreeClassifier()\n",
    "dt.fit(X_train_attr, y_train_attr)\n",
    "\n",
    "print(metrics.classification_report(y_test_attr, dt.predict(X_test_attr), digits=3))"
   ]
  },
  {
   "cell_type": "markdown",
   "metadata": {},
   "source": [
    "#### Random Forest"
   ]
  },
  {
   "cell_type": "code",
   "execution_count": 45,
   "metadata": {},
   "outputs": [
    {
     "name": "stdout",
     "output_type": "stream",
     "text": [
      "             precision    recall  f1-score   support\n",
      "\n",
      "          1      0.000     0.000     0.000       528\n",
      "          2      0.438     0.041     0.076      2130\n",
      "          3      0.420     0.387     0.403      4992\n",
      "          4      0.371     0.633     0.468      5275\n",
      "          5      0.368     0.228     0.282      2280\n",
      "\n",
      "avg / total      0.383     0.387     0.348     15205\n",
      "\n",
      "Wall time: 1.76 s\n"
     ]
    },
    {
     "name": "stderr",
     "output_type": "stream",
     "text": [
      "c:\\users\\sm_fe\\anaconda3\\lib\\site-packages\\sklearn\\metrics\\classification.py:1135: UndefinedMetricWarning: Precision and F-score are ill-defined and being set to 0.0 in labels with no predicted samples.\n",
      "  'precision', 'predicted', average, warn_for)\n"
     ]
    }
   ],
   "source": [
    "%%time\n",
    "\n",
    "rf = RandomForestClassifier()\n",
    "rf.fit(X_train_attr, y_train_attr)\n",
    "\n",
    "print(metrics.classification_report(y_test_attr, rf.predict(X_test_attr), digits=3))"
   ]
  },
  {
   "cell_type": "markdown",
   "metadata": {},
   "source": [
    "#### Naive Bayes"
   ]
  },
  {
   "cell_type": "code",
   "execution_count": 46,
   "metadata": {},
   "outputs": [
    {
     "name": "stdout",
     "output_type": "stream",
     "text": [
      "             precision    recall  f1-score   support\n",
      "\n",
      "          1      0.104     0.036     0.054       528\n",
      "          2      0.313     0.087     0.137      2130\n",
      "          3      0.426     0.380     0.402      4992\n",
      "          4      0.392     0.406     0.399      5275\n",
      "          5      0.291     0.576     0.387      2280\n",
      "\n",
      "avg / total      0.367     0.365     0.349     15205\n",
      "\n",
      "Wall time: 111 ms\n"
     ]
    }
   ],
   "source": [
    "%%time\n",
    "\n",
    "nb = MultinomialNB()\n",
    "nb.fit(X_train_attr+1, y_train_attr) # have to add 1 to X_train_attr because NB doesn't like negative numbers\n",
    "\n",
    "print(metrics.classification_report(y_test_attr, nb.predict(X_test_attr+1), digits=3))"
   ]
  },
  {
   "cell_type": "markdown",
   "metadata": {},
   "source": [
    "### Predicting Stars with Review Text"
   ]
  },
  {
   "cell_type": "markdown",
   "metadata": {},
   "source": [
    "In this section we will predict the star rating associated with each review text.  First, here is some reminder of what the reviews look like overall.  Recall that this data from only the first 10000 rows of data.  However, we have no reason to believe that the entire reviews dataset is not homogeneous."
   ]
  },
  {
   "cell_type": "code",
   "execution_count": 47,
   "metadata": {
    "scrolled": false
   },
   "outputs": [
    {
     "data": {
      "image/png": "[encoded data removed]",
      "text/plain": [
       "<matplotlib.figure.Figure at 0x243e6501710>"
      ]
     },
     "metadata": {},
     "output_type": "display_data"
    },
    {
     "name": "stdout",
     "output_type": "stream",
     "text": [
      "Mean star rating: 3.74\n"
     ]
    }
   ],
   "source": [
    "sns.countplot(reviews.stars)\n",
    "plt.grid()\n",
    "plt.show()\n",
    "\n",
    "print('Mean star rating: %.2f' % reviews.stars.mean())"
   ]
  },
  {
   "cell_type": "markdown",
   "metadata": {},
   "source": [
    "Star ratings tend to be skewed left and the average star rating is 3.74.  If humans were better at rating things objectively, we'd expect an average star rating around 2.5."
   ]
  },
  {
   "cell_type": "code",
   "execution_count": 3,
   "metadata": {
    "scrolled": true
   },
   "outputs": [
    {
     "data": {
      "image/png": "[encoded data removed]",
      "text/plain": [
       "<matplotlib.figure.Figure at 0x11187cf8>"
      ]
     },
     "metadata": {},
     "output_type": "display_data"
    },
    {
     "name": "stdout",
     "output_type": "stream",
     "text": [
      "Mean review length: 133.74\n"
     ]
    }
   ],
   "source": [
    "reviews['word_count'] = reviews.text.str.split().apply(len)\n",
    "\n",
    "sns.distplot(reviews.word_count, kde=False)\n",
    "plt.xlabel('Review Length')\n",
    "plt.ylabel('Count')\n",
    "plt.grid()\n",
    "plt.show()\n",
    "\n",
    "print('Mean review length: %.2f' % reviews.word_count.mean())"
   ]
  },
  {
   "cell_type": "markdown",
   "metadata": {},
   "source": [
    "Unsurprisingly, review lengths are skewed right.  Most people are just leaving short blurbs, while a select emotioned individuals are writing essays.  Let's take a look at an example of a review from each star rating.  We'll just look at short ones for now, so we don't have to read any of the aforementioned essays."
   ]
  },
  {
   "cell_type": "code",
   "execution_count": 9,
   "metadata": {
    "scrolled": false
   },
   "outputs": [
    {
     "name": "stdout",
     "output_type": "stream",
     "text": [
      "1 star review:\n",
      "This place is not my favorite pest control. Even with the coupon you get very little service for your money. They are not eager to stand by the service and refused to come out and retreat the areas of my home where there were signs of pests.  Unless I paid an additional $200!\n",
      "\n",
      "\n",
      "\n",
      "\n",
      "2 star review:\n",
      "Looks better than it tastes - appetising menu is let down by poor execution. \n",
      "\n",
      "\n",
      "Pros: \n",
      "Good selection of beers on tap and in tall cans, and reasonably priced.\n",
      "Nice decor and ambiance - we were able to follow a Leafs game on TV but the volume was low enough to hold conversations. \n",
      "Service was cheerful and accommodating, if a bit slow (albeit it was a busy Saturday night). \n",
      "\n",
      "Cons: \n",
      "The food. My fries were cold - twice. The \"carnivore\" plate had little protein. The soft-shell crab sandwich was clearly undercooked. Really below par for a bar, let alone a \"gastro-pub\".\n",
      "\n",
      "\n",
      "\n",
      "\n",
      "3 star review:\n",
      "Nice place and of course a must-hit place for all college students in Madison. Go grab some beer and a brat and watch the games inside or outside! At night though, it can get a little rowdy and dirty what with spilled drinks and on multiple occasion; puke.... Cool place but could use some better staff and\\/or management.\n",
      "\n",
      "\n",
      "\n",
      "\n",
      "4 star review:\n",
      "This is one of the places I visit each time I am in Las Vegas.  It is a fantastic lunch spot.\n",
      "\n",
      "This time around I tried their new Mexican Burger.   It was great.  It comes with Chipoltle mayo, pickled red onions, jalapenos and Contija cheese.  It normally comes with cilantro but I hate cilantro and asked for them to leave it off.    The combination of flavors is great.\n",
      "\n",
      "As usual I also ordered some of their Atomic Cheese Fries.   As always they were great.\n",
      "\n",
      "I ordered a 32 oz. whiskey sour to go with lunch.  It was also tasty.\n",
      "\n",
      "\n",
      "\n",
      "\n",
      "5 star review:\n",
      "Great doctors. Very nice staff. On time, never a long wait. Dr. Akhter is very intelligent talks to his patient one of those doctors that just prescribe medication. You get the sence that he really wants to help you. The waiting room is very clean and nice. The assistants always take your vitals and make sure that you're in good health and that the medication isn't affecting you badly. They are very responsible and polite. Highly recommend this doctor!\n",
      "\n",
      "\n",
      "\n",
      "\n"
     ]
    }
   ],
   "source": [
    "def get_random_review(star, max_length=150):\n",
    "    return reviews[(reviews.stars == star) & (reviews.word_count < max_length)].sample(1).text.values[0]\n",
    "\n",
    "np.random.seed(4)\n",
    "for star in range(1,6):\n",
    "    print('%d star review:' % star)\n",
    "    print(get_random_review(star))\n",
    "    print('\\n\\n\\n')"
   ]
  },
  {
   "cell_type": "markdown",
   "metadata": {},
   "source": [
    "Note that it is really not easy even for a human to discern between some of these reviews.  The difference between 1- and 5- star reviews is fairly obvious, but much less so between 2- and 3- or 3- and 4- star reviews.  Thus, we must temper our expectations for any machine learning algorithm accuracy.\n",
    "\n",
    "Now we will split the data up to start on our algorithms."
   ]
  },
  {
   "cell_type": "code",
   "execution_count": 50,
   "metadata": {},
   "outputs": [],
   "source": [
    "np.random.seed(0)\n",
    "X_train_review, X_test_review, y_train_review, y_test_review = \\\n",
    "    train_test_split(reviews.text.values, reviews.stars.values, test_size=.1)"
   ]
  },
  {
   "cell_type": "markdown",
   "metadata": {},
   "source": [
    "We will start with both a count vectorizer and a TFIDF vectorizer and compare the results using a simple logistic regression model."
   ]
  },
  {
   "cell_type": "markdown",
   "metadata": {},
   "source": [
    "#### Count Vectorizer"
   ]
  },
  {
   "cell_type": "code",
   "execution_count": 51,
   "metadata": {},
   "outputs": [
    {
     "name": "stdout",
     "output_type": "stream",
     "text": [
      "Number of features from CountVectorizer: 30044\n",
      "             precision    recall  f1-score   support\n",
      "\n",
      "          1      0.694     0.628     0.659        94\n",
      "          2      0.377     0.299     0.333        87\n",
      "          3      0.384     0.303     0.339       175\n",
      "          4      0.460     0.513     0.485       300\n",
      "          5      0.611     0.663     0.636       344\n",
      "\n",
      "avg / total      0.513     0.520     0.515      1000\n",
      "\n",
      "Wall time: 3.78 s\n"
     ]
    }
   ],
   "source": [
    "%%time\n",
    "cv = CountVectorizer(stop_words='english')\n",
    "dtm_train = cv.fit_transform(X_train_review)\n",
    "dtm_test = cv.transform(X_test_review)\n",
    "print('Number of features from CountVectorizer: %d' % len(cv.get_feature_names()))\n",
    "\n",
    "lr = LogisticRegression()\n",
    "lr.fit(dtm_train, y_train_review)\n",
    "\n",
    "print(metrics.classification_report(y_test_review, lr.predict(dtm_test), digits=3))"
   ]
  },
  {
   "cell_type": "markdown",
   "metadata": {},
   "source": [
    "#### TFIDF Vectorizer"
   ]
  },
  {
   "cell_type": "code",
   "execution_count": 52,
   "metadata": {},
   "outputs": [
    {
     "name": "stdout",
     "output_type": "stream",
     "text": [
      "Number of features from TFIDFVectorizer: 30044\n",
      "             precision    recall  f1-score   support\n",
      "\n",
      "          1      0.716     0.564     0.631        94\n",
      "          2      0.276     0.333     0.302        87\n",
      "          3      0.338     0.434     0.380       175\n",
      "          4      0.491     0.527     0.508       300\n",
      "          5      0.737     0.587     0.654       344\n",
      "\n",
      "avg / total      0.551     0.518     0.529      1000\n",
      "\n",
      "Wall time: 1.52 s\n"
     ]
    }
   ],
   "source": [
    "%%time\n",
    "tv = TfidfVectorizer(stop_words='english')\n",
    "dtm_train2 = tv.fit_transform(X_train_review)\n",
    "dtm_test2 = tv.transform(X_test_review)\n",
    "print('Number of features from TFIDFVectorizer: %d' % len(tv.get_feature_names()))\n",
    "\n",
    "lr2 = LogisticRegression()\n",
    "lr2.fit(dtm_train2, y_train_review)\n",
    "\n",
    "print(metrics.classification_report(y_test_review, lr2.predict(dtm_test), digits=3))"
   ]
  },
  {
   "cell_type": "markdown",
   "metadata": {},
   "source": [
    "TFIDF has both a better F1 score and is faster.  We will continue just using TFIDF instead of keeping two vectorizers."
   ]
  },
  {
   "cell_type": "code",
   "execution_count": 53,
   "metadata": {},
   "outputs": [],
   "source": [
    "# rename some variables\n",
    "dtm_train = dtm_train2\n",
    "dtm_test = dtm_test2\n",
    "lr = lr2"
   ]
  },
  {
   "cell_type": "markdown",
   "metadata": {},
   "source": [
    "#### Optimizing Logistic Regression"
   ]
  },
  {
   "cell_type": "markdown",
   "metadata": {},
   "source": [
    "We now do some searching for the best parameters for logistic regression in order to maximize accuracy."
   ]
  },
  {
   "cell_type": "code",
   "execution_count": 54,
   "metadata": {},
   "outputs": [
    {
     "name": "stdout",
     "output_type": "stream",
     "text": [
      "\n",
      "Logistic Regression, best parameters: {'C': 2, 'penalty': 'l1'}\n",
      "             precision    recall  f1-score   support\n",
      "\n",
      "          1      0.727     0.681     0.703        94\n",
      "          2      0.419     0.207     0.277        87\n",
      "          3      0.441     0.297     0.355       175\n",
      "          4      0.476     0.533     0.503       300\n",
      "          5      0.607     0.733     0.664       344\n",
      "\n",
      "avg / total      0.534     0.546     0.532      1000\n",
      "\n",
      "Wall time: 4.39 s\n"
     ]
    }
   ],
   "source": [
    "%%time\n",
    "\n",
    "lr = GridSearchCV(LogisticRegression(), {'penalty':['l1', 'l2'], 'C': [.02, .2, 2]})\n",
    "lr.fit(dtm_train, y_train_review)\n",
    "print('\\nLogistic Regression, best parameters: ' + str(lr.best_params_))\n",
    "print(metrics.classification_report(y_test_review, lr.predict(dtm_test), digits=3))"
   ]
  },
  {
   "cell_type": "markdown",
   "metadata": {},
   "source": [
    "Next we explore an support vector classifier in place of a logistic regression one."
   ]
  },
  {
   "cell_type": "markdown",
   "metadata": {},
   "source": [
    "#### SVM"
   ]
  },
  {
   "cell_type": "markdown",
   "metadata": {},
   "source": [
    "We will be using a linear SVC as the C-support SVC scales quadratically with training size, making it unfeasible to train on the entire reviews set."
   ]
  },
  {
   "cell_type": "code",
   "execution_count": 55,
   "metadata": {},
   "outputs": [
    {
     "name": "stdout",
     "output_type": "stream",
     "text": [
      "             precision    recall  f1-score   support\n",
      "\n",
      "          1      0.678     0.649     0.663        94\n",
      "          2      0.382     0.241     0.296        87\n",
      "          3      0.383     0.326     0.352       175\n",
      "          4      0.453     0.497     0.474       300\n",
      "          5      0.623     0.683     0.652       344\n",
      "\n",
      "avg / total      0.514     0.523     0.516      1000\n",
      "\n",
      "Wall time: 326 ms\n"
     ]
    }
   ],
   "source": [
    "%%time\n",
    "svc = LinearSVC()\n",
    "svc.fit(dtm_train, y_train_review)\n",
    "print(metrics.classification_report(y_test_review, svc.predict(dtm_test), digits=3))"
   ]
  },
  {
   "cell_type": "code",
   "execution_count": 56,
   "metadata": {
    "scrolled": false
   },
   "outputs": [
    {
     "name": "stdout",
     "output_type": "stream",
     "text": [
      "\n",
      "SVC, best parameters: {'C': 0.2}\n",
      "             precision    recall  f1-score   support\n",
      "\n",
      "          1      0.706     0.638     0.670        94\n",
      "          2      0.459     0.195     0.274        87\n",
      "          3      0.431     0.286     0.344       175\n",
      "          4      0.475     0.530     0.501       300\n",
      "          5      0.614     0.762     0.680       344\n",
      "\n",
      "avg / total      0.535     0.548     0.531      1000\n",
      "\n",
      "Wall time: 1.53 s\n"
     ]
    }
   ],
   "source": [
    "%%time\n",
    "svc = GridSearchCV(LinearSVC(), {'C': [.02, .2, 2]})\n",
    "svc.fit(dtm_train, y_train_review)\n",
    "print('\\nSVC, best parameters: ' + str(svc.best_params_))\n",
    "print(metrics.classification_report(y_test_review, svc.predict(dtm_test), digits=3))"
   ]
  },
  {
   "cell_type": "markdown",
   "metadata": {},
   "source": [
    "The SVC performs slightly worse than logistic regression, but trains faster.\n",
    "\n",
    "Naive Bayes is next."
   ]
  },
  {
   "cell_type": "markdown",
   "metadata": {},
   "source": [
    "#### Naive Bayes"
   ]
  },
  {
   "cell_type": "code",
   "execution_count": 57,
   "metadata": {
    "scrolled": true
   },
   "outputs": [
    {
     "name": "stdout",
     "output_type": "stream",
     "text": [
      "             precision    recall  f1-score   support\n",
      "\n",
      "          1      0.000     0.000     0.000        94\n",
      "          2      0.000     0.000     0.000        87\n",
      "          3      0.000     0.000     0.000       175\n",
      "          4      0.370     0.400     0.385       300\n",
      "          5      0.442     0.869     0.586       344\n",
      "\n",
      "avg / total      0.263     0.419     0.317      1000\n",
      "\n",
      "Wall time: 16 ms\n"
     ]
    },
    {
     "name": "stderr",
     "output_type": "stream",
     "text": [
      "c:\\users\\sm_fe\\anaconda3\\lib\\site-packages\\sklearn\\metrics\\classification.py:1135: UndefinedMetricWarning: Precision and F-score are ill-defined and being set to 0.0 in labels with no predicted samples.\n",
      "  'precision', 'predicted', average, warn_for)\n"
     ]
    }
   ],
   "source": [
    "%%time\n",
    "nb = MultinomialNB()\n",
    "nb.fit(dtm_train, y_train_review)\n",
    "print(metrics.classification_report(y_test_review, nb.predict(dtm_test), digits=3))"
   ]
  },
  {
   "cell_type": "code",
   "execution_count": 58,
   "metadata": {
    "scrolled": true
   },
   "outputs": [
    {
     "name": "stdout",
     "output_type": "stream",
     "text": [
      "\n",
      "Multinomial Naive Bayes, best parameters: {'alpha': 0.02}\n",
      "             precision    recall  f1-score   support\n",
      "\n",
      "          1      0.630     0.489     0.551        94\n",
      "          2      0.192     0.057     0.088        87\n",
      "          3      0.364     0.246     0.294       175\n",
      "          4      0.414     0.513     0.458       300\n",
      "          5      0.569     0.680     0.620       344\n",
      "\n",
      "avg / total      0.460     0.482     0.462      1000\n",
      "\n",
      "Wall time: 203 ms\n"
     ]
    }
   ],
   "source": [
    "%%time\n",
    "nb = GridSearchCV(MultinomialNB(), {'alpha': [.002, .02, .2, 2]})\n",
    "nb.fit(dtm_train, y_train_review)\n",
    "print('\\nMultinomial Naive Bayes, best parameters: ' + str(nb.best_params_))\n",
    "print(metrics.classification_report(y_test_review, nb.predict(dtm_test), digits=3))"
   ]
  },
  {
   "cell_type": "markdown",
   "metadata": {},
   "source": [
    "Naive Bayes works really poorly unless we decrease Laplace smoothing (default value is 1).  Even then, it performs significantly worse than SVC or logistic regression albeit at a much faster training time."
   ]
  },
  {
   "cell_type": "markdown",
   "metadata": {},
   "source": [
    "### Binarizing the Labels"
   ]
  },
  {
   "cell_type": "markdown",
   "metadata": {},
   "source": [
    "It would be difficult for even a human to perfectly predict a review's star rating just from the text.  This is especially true for the middle star ratings, where language may be less dramatic.  Therefore, we will now divide all the reviews into two categories (negative and positive) and see how well machine learning can differentiate between the two.\n",
    "\n",
    "We are going to filter out the 3 star reviews.  Then, we treat the 1- and 2-star reviews as negative; the 4- and 5-star reviews as positive."
   ]
  },
  {
   "cell_type": "code",
   "execution_count": 3,
   "metadata": {
    "scrolled": true
   },
   "outputs": [
    {
     "data": {
      "text/html": [
       "<div>\n",
       "<style>\n",
       "    .dataframe thead tr:only-child th {\n",
       "        text-align: right;\n",
       "    }\n",
       "\n",
       "    .dataframe thead th {\n",
       "        text-align: left;\n",
       "    }\n",
       "\n",
       "    .dataframe tbody tr th {\n",
       "        vertical-align: top;\n",
       "    }\n",
       "</style>\n",
       "<table border=\"1\" class=\"dataframe\">\n",
       "  <thead>\n",
       "    <tr style=\"text-align: right;\">\n",
       "      <th></th>\n",
       "      <th>text</th>\n",
       "      <th>stars</th>\n",
       "      <th>positive</th>\n",
       "    </tr>\n",
       "  </thead>\n",
       "  <tbody>\n",
       "    <tr>\n",
       "      <th>0</th>\n",
       "      <td>Super simple place but amazing nonetheless. It...</td>\n",
       "      <td>5</td>\n",
       "      <td>True</td>\n",
       "    </tr>\n",
       "    <tr>\n",
       "      <th>1</th>\n",
       "      <td>Small unassuming place that changes their menu...</td>\n",
       "      <td>5</td>\n",
       "      <td>True</td>\n",
       "    </tr>\n",
       "    <tr>\n",
       "      <th>2</th>\n",
       "      <td>Lester's is located in a beautiful neighborhoo...</td>\n",
       "      <td>5</td>\n",
       "      <td>True</td>\n",
       "    </tr>\n",
       "    <tr>\n",
       "      <th>3</th>\n",
       "      <td>Love coming here. Yes the place always needs t...</td>\n",
       "      <td>4</td>\n",
       "      <td>True</td>\n",
       "    </tr>\n",
       "    <tr>\n",
       "      <th>4</th>\n",
       "      <td>Had their chocolate almond croissant and it wa...</td>\n",
       "      <td>4</td>\n",
       "      <td>True</td>\n",
       "    </tr>\n",
       "  </tbody>\n",
       "</table>\n",
       "</div>"
      ],
      "text/plain": [
       "                                                text  stars  positive\n",
       "0  Super simple place but amazing nonetheless. It...      5      True\n",
       "1  Small unassuming place that changes their menu...      5      True\n",
       "2  Lester's is located in a beautiful neighborhoo...      5      True\n",
       "3  Love coming here. Yes the place always needs t...      4      True\n",
       "4  Had their chocolate almond croissant and it wa...      4      True"
      ]
     },
     "execution_count": 3,
     "metadata": {},
     "output_type": "execute_result"
    }
   ],
   "source": [
    "extreme_reviews = reviews[['text', 'stars']][reviews.stars != 3]\n",
    "extreme_reviews['positive'] = extreme_reviews.stars > 3\n",
    "extreme_reviews.head()"
   ]
  },
  {
   "cell_type": "code",
   "execution_count": 60,
   "metadata": {},
   "outputs": [
    {
     "data": {
      "image/png": "[encoded data removed]",
      "text/plain": [
       "<matplotlib.figure.Figure at 0x24393f88668>"
      ]
     },
     "metadata": {},
     "output_type": "display_data"
    }
   ],
   "source": [
    "sns.countplot('stars', data=extreme_reviews)\n",
    "plt.grid()\n",
    "plt.show()"
   ]
  },
  {
   "cell_type": "markdown",
   "metadata": {},
   "source": [
    "We will train the classifiers using the best parameters found in the previous sections."
   ]
  },
  {
   "cell_type": "code",
   "execution_count": 4,
   "metadata": {},
   "outputs": [
    {
     "name": "stdout",
     "output_type": "stream",
     "text": [
      "Number of features from TFIDFVectorizer: 26985\n"
     ]
    }
   ],
   "source": [
    "np.random.seed(0)\n",
    "X_train_review, X_test_review, y_train_review, y_test_review = \\\n",
    "    train_test_split(extreme_reviews.text.values, extreme_reviews.positive.values, test_size=.1)\n",
    "    \n",
    "tv = TfidfVectorizer(stop_words='english')\n",
    "dtm_train = tv.fit_transform(X_train_review)\n",
    "dtm_test = tv.transform(X_test_review)\n",
    "print('Number of features from TFIDFVectorizer: %d' % len(tv.get_feature_names()))"
   ]
  },
  {
   "cell_type": "code",
   "execution_count": 62,
   "metadata": {},
   "outputs": [
    {
     "name": "stdout",
     "output_type": "stream",
     "text": [
      "             precision    recall  f1-score   support\n",
      "\n",
      "      False      0.942     0.670     0.783       194\n",
      "       True      0.907     0.987     0.946       635\n",
      "\n",
      "avg / total      0.915     0.913     0.908       829\n",
      "\n",
      "Wall time: 70.8 ms\n"
     ]
    }
   ],
   "source": [
    "%%time\n",
    "\n",
    "lr = LogisticRegression(penalty='l1', C=2)\n",
    "lr.fit(dtm_train, y_train_review)\n",
    "\n",
    "print(metrics.classification_report(y_test_review, lr.predict(dtm_test), digits=3))"
   ]
  },
  {
   "cell_type": "code",
   "execution_count": 63,
   "metadata": {},
   "outputs": [
    {
     "name": "stdout",
     "output_type": "stream",
     "text": [
      "             precision    recall  f1-score   support\n",
      "\n",
      "      False      0.952     0.608     0.742       194\n",
      "       True      0.892     0.991     0.939       635\n",
      "\n",
      "avg / total      0.906     0.901     0.893       829\n",
      "\n",
      "Wall time: 33.9 ms\n"
     ]
    }
   ],
   "source": [
    "%%time\n",
    "\n",
    "svc = LinearSVC(C=.2)\n",
    "svc.fit(dtm_train, y_train_review)\n",
    "\n",
    "print(metrics.classification_report(y_test_review, svc.predict(dtm_test), digits=3))"
   ]
  },
  {
   "cell_type": "code",
   "execution_count": 64,
   "metadata": {},
   "outputs": [
    {
     "name": "stdout",
     "output_type": "stream",
     "text": [
      "             precision    recall  f1-score   support\n",
      "\n",
      "      False      0.867     0.469     0.609       194\n",
      "       True      0.858     0.978     0.914       635\n",
      "\n",
      "avg / total      0.860     0.859     0.842       829\n",
      "\n",
      "Wall time: 6.98 ms\n"
     ]
    }
   ],
   "source": [
    "%%time\n",
    "\n",
    "nb = MultinomialNB(alpha=.02)\n",
    "nb.fit(dtm_train, y_train_review)\n",
    "\n",
    "print(metrics.classification_report(y_test_review, nb.predict(dtm_test), digits=3))"
   ]
  },
  {
   "cell_type": "markdown",
   "metadata": {},
   "source": [
    "As expected performance is now much better.  The algorithm is able to tell the difference between positive and negative reviews with over 90% accuracy in the case of logistic regression.  Logistic regression seems to be performing the best among the three candidate models, so we will continue with that."
   ]
  },
  {
   "cell_type": "markdown",
   "metadata": {},
   "source": [
    "### Optimizing the Vectorizer"
   ]
  },
  {
   "cell_type": "markdown",
   "metadata": {},
   "source": [
    "Now that we have a classifier picked out, we will revisit the vectorizer to see if we can get any improvements by adjusting the paramenters."
   ]
  },
  {
   "cell_type": "code",
   "execution_count": 73,
   "metadata": {},
   "outputs": [
    {
     "name": "stdout",
     "output_type": "stream",
     "text": [
      "\n",
      "Best parameters: {'vect__max_df': 0.4, 'vect__min_df': 0.0, 'vect__ngram_range': (1, 1)}\n",
      "[mean: 0.89698, std: 0.00466, params: {'vect__max_df': 0.25, 'vect__min_df': 0.0, 'vect__ngram_range': (1, 1)}, mean: 0.89457, std: 0.00487, params: {'vect__max_df': 0.25, 'vect__min_df': 0.0, 'vect__ngram_range': (1, 2)}, mean: 0.80617, std: 0.00478, params: {'vect__max_df': 0.25, 'vect__min_df': 0.1, 'vect__ngram_range': (1, 1)}, mean: 0.80617, std: 0.00478, params: {'vect__max_df': 0.25, 'vect__min_df': 0.1, 'vect__ngram_range': (1, 2)}, mean: 0.78940, std: 0.00013, params: {'vect__max_df': 0.25, 'vect__min_df': 0.2, 'vect__ngram_range': (1, 1)}, mean: 0.78940, std: 0.00013, params: {'vect__max_df': 0.25, 'vect__min_df': 0.2, 'vect__ngram_range': (1, 2)}, mean: 0.90034, std: 0.00184, params: {'vect__max_df': 0.4, 'vect__min_df': 0.0, 'vect__ngram_range': (1, 1)}, mean: 0.89805, std: 0.00181, params: {'vect__max_df': 0.4, 'vect__min_df': 0.0, 'vect__ngram_range': (1, 2)}, mean: 0.82200, std: 0.00133, params: {'vect__max_df': 0.4, 'vect__min_df': 0.1, 'vect__ngram_range': (1, 1)}, mean: 0.82200, std: 0.00133, params: {'vect__max_df': 0.4, 'vect__min_df': 0.1, 'vect__ngram_range': (1, 2)}, mean: 0.78967, std: 0.00013, params: {'vect__max_df': 0.4, 'vect__min_df': 0.2, 'vect__ngram_range': (1, 1)}, mean: 0.78967, std: 0.00013, params: {'vect__max_df': 0.4, 'vect__min_df': 0.2, 'vect__ngram_range': (1, 2)}, mean: 0.90034, std: 0.00184, params: {'vect__max_df': 0.8, 'vect__min_df': 0.0, 'vect__ngram_range': (1, 1)}, mean: 0.89805, std: 0.00181, params: {'vect__max_df': 0.8, 'vect__min_df': 0.0, 'vect__ngram_range': (1, 2)}, mean: 0.82200, std: 0.00133, params: {'vect__max_df': 0.8, 'vect__min_df': 0.1, 'vect__ngram_range': (1, 1)}, mean: 0.82186, std: 0.00124, params: {'vect__max_df': 0.8, 'vect__min_df': 0.1, 'vect__ngram_range': (1, 2)}, mean: 0.78967, std: 0.00013, params: {'vect__max_df': 0.8, 'vect__min_df': 0.2, 'vect__ngram_range': (1, 1)}, mean: 0.78967, std: 0.00013, params: {'vect__max_df': 0.8, 'vect__min_df': 0.2, 'vect__ngram_range': (1, 2)}, mean: 0.90034, std: 0.00184, params: {'vect__max_df': 1.0, 'vect__min_df': 0.0, 'vect__ngram_range': (1, 1)}, mean: 0.89805, std: 0.00181, params: {'vect__max_df': 1.0, 'vect__min_df': 0.0, 'vect__ngram_range': (1, 2)}, mean: 0.82200, std: 0.00133, params: {'vect__max_df': 1.0, 'vect__min_df': 0.1, 'vect__ngram_range': (1, 1)}, mean: 0.82200, std: 0.00133, params: {'vect__max_df': 1.0, 'vect__min_df': 0.1, 'vect__ngram_range': (1, 2)}, mean: 0.78967, std: 0.00013, params: {'vect__max_df': 1.0, 'vect__min_df': 0.2, 'vect__ngram_range': (1, 1)}, mean: 0.78967, std: 0.00013, params: {'vect__max_df': 1.0, 'vect__min_df': 0.2, 'vect__ngram_range': (1, 2)}]\n",
      "             precision    recall  f1-score   support\n",
      "\n",
      "      False      0.942     0.670     0.783       194\n",
      "       True      0.907     0.987     0.946       635\n",
      "\n",
      "avg / total      0.915     0.913     0.908       829\n",
      "\n",
      "Wall time: 1min 23s\n"
     ]
    }
   ],
   "source": [
    "%%time\n",
    "\n",
    "pipe = Pipeline([\n",
    "    ('vect', TfidfVectorizer(stop_words='english')), \n",
    "    ('clf', LogisticRegression(penalty='l1', C=2))\n",
    "])\n",
    "\n",
    "param_grid = {\n",
    "    'vect__ngram_range': [(1,1), (1,2)],\n",
    "    'vect__max_df': [.25, .4, .8, 1.0],\n",
    "    'vect__min_df': [0.0, .1, .2]\n",
    "}\n",
    "\n",
    "grid = GridSearchCV(pipe, param_grid)\n",
    "grid.fit(X_train_review, y_train_review)\n",
    "print('\\nBest parameters: ' + str(grid.best_params_))\n",
    "#print(grid.grid_scores_)\n",
    "print(metrics.classification_report(y_test_review, grid.predict(X_test_review), digits=3))"
   ]
  },
  {
   "cell_type": "markdown",
   "metadata": {},
   "source": [
    "Note that we did did not get any noticeable improvement in F1.  However, we were able to get this score with with the maximum document frequency set 0.4.  That means we are ignoring the top *60%* of the most frequent words."
   ]
  },
  {
   "cell_type": "markdown",
   "metadata": {},
   "source": [
    "### Stemming"
   ]
  },
  {
   "cell_type": "markdown",
   "metadata": {},
   "source": [
    "Let's see if we can push some more performance out by stemming the input."
   ]
  },
  {
   "cell_type": "code",
   "execution_count": 66,
   "metadata": {},
   "outputs": [],
   "source": [
    "ps = PorterStemmer()\n",
    "def stem(s):\n",
    "    return ' '.join(ps.stem(x) for x in s.split(' '))"
   ]
  },
  {
   "cell_type": "code",
   "execution_count": 67,
   "metadata": {},
   "outputs": [
    {
     "name": "stdout",
     "output_type": "stream",
     "text": [
      "Number of features from CountVectorizer: 26985\n",
      "             precision    recall  f1-score   support\n",
      "\n",
      "      False      0.929     0.675     0.782       194\n",
      "       True      0.908     0.984     0.945       635\n",
      "\n",
      "avg / total      0.913     0.912     0.907       829\n",
      "\n",
      "Wall time: 16.2 s\n"
     ]
    }
   ],
   "source": [
    "%%time\n",
    "\n",
    "tv_stem = TfidfVectorizer(stop_words='english', max_df=.4)\n",
    "dtm_train_stem = tv_stem.fit_transform(map(stem, X_train_review))\n",
    "dtm_test_stem = tv_stem.transform(map(stem, X_test_review))\n",
    "print('Number of features from CountVectorizer: %d' % len(tv.vocabulary_))\n",
    "\n",
    "lr_stem = LogisticRegression(penalty='l1', C=2)\n",
    "lr_stem.fit(dtm_train_stem, y_train_review)\n",
    "\n",
    "print(metrics.classification_report(y_test_review, lr_stem.predict(dtm_test_stem), digits=3))"
   ]
  },
  {
   "cell_type": "markdown",
   "metadata": {},
   "source": [
    "Unfortunately, it looks like stemming did not help in this case."
   ]
  },
  {
   "cell_type": "markdown",
   "metadata": {},
   "source": [
    "### What Are we Actually Missing?"
   ]
  },
  {
   "cell_type": "markdown",
   "metadata": {},
   "source": [
    "Let's take a look at the worst mistakes that the classifier is making see if we can't at least give some reason as to the mistakes."
   ]
  },
  {
   "cell_type": "code",
   "execution_count": 68,
   "metadata": {
    "scrolled": true
   },
   "outputs": [
    {
     "name": "stdout",
     "output_type": "stream",
     "text": [
      "Index: 55\n",
      "Negative review probability: 0.015847\n",
      "Positive review probability: 0.984153\n",
      "\n",
      "\n",
      "I enjoyed the atmosphere and the service was great. However, the food was drenched in oil and really left both my husband and I uninterested in returning. We were so hoping to love this place because as vegans, there are so few healthy restaurants in the valley.\n",
      "\n",
      "\n",
      "\n",
      "\n",
      "Index: 559\n",
      "Negative review probability: 0.071530\n",
      "Positive review probability: 0.928470\n",
      "\n",
      "\n",
      "When Turntable first opened, they were FANTASTIC! However, they have now gone the way of every other health care provider in the valley. Forget about reaching anyone or having any request taken care of in a timely manner. Used to be able to get same-day appointments - now I have to wait weeks to see anyone.  Some of the health coaches there seem to be sullen and angry - about what I'm not sure, but they are certainly not \"coaches\" any more. Now I see my primary doctor - Dr. Gokal - has left. He was wonderful. So now I'm wondering why I'm paying $80 a month to get the same level of \"service\" I can get from any other health care provider here in Las Vegas.\n",
      "\n",
      "\n",
      "\n",
      "\n",
      "Index: 602\n",
      "Negative review probability: 0.074559\n",
      "Positive review probability: 0.925441\n",
      "\n",
      "\n",
      "The doctor has a very nice and attentive service. The glasses selection is minimal. I came in for the Groupon exam and was happy to take my prescription to Pearle Vision where they have walls of glasses to choose from.\n",
      "\n",
      "\n",
      "\n",
      "\n",
      "Index: 147\n",
      "Negative review probability: 0.081451\n",
      "Positive review probability: 0.918549\n",
      "\n",
      "\n",
      "We tried this place twice, loving Mexican as we do. One dish was outright terrible, not even edible, a sour concoction of eggplant and tortillas served in a frying pan. No art of cooking at all. \n",
      "\n",
      "The sauces were good, but the 4 other dishes we tried were... passable. The only delicious thing we had there was the potato taco. \n",
      "\n",
      "I tried some of their food last summer at a kiosk down by Union Station, and it was incredible, the sauces among the finest I've had. I doubt very much the same chef was working at the resto the two times we went. Sigh. I so love Mexican!\n",
      "\n",
      "\n",
      "\n",
      "\n",
      "Index: 723\n",
      "Negative review probability: 0.911232\n",
      "Positive review probability: 0.088768\n",
      "\n",
      "\n",
      "Love their shoyu ramen with runny yolk soy marinated egg. Tried the cheese and garlic ramen, but did not like it one bit. Good but overpriced gyoza. Good Japanese beer selection.\n",
      "\n",
      "Only cons: overpriced for the amount of time I had to stand in line on the cold. You can't wait inside because the place is too small.\n",
      "\n",
      "\n",
      "\n",
      "\n"
     ]
    }
   ],
   "source": [
    "num_examples = 5\n",
    "\n",
    "pred = lr.predict(dtm_test)\n",
    "prob = lr.predict_proba(dtm_test)\n",
    "R = [(i, max(prob[i]), min(prob[i])) for i, y in enumerate(y_test_review) if y != pred[i]]\n",
    "R.sort(key=lambda x: -x[1]/x[2])\n",
    "\n",
    "for _ in range(num_examples):\n",
    "    for (i, wrong_prob, right_prob) in R:\n",
    "        if not num_examples: break\n",
    "        num_examples -= 1\n",
    "        \n",
    "        print('Index:', i)\n",
    "        print('Negative review probability: %3f' % prob[i][0])\n",
    "        print('Positive review probability: %3f' % prob[i][1])\n",
    "        print('\\n')\n",
    "        print(X_test_review[i])\n",
    "        print('\\n\\n\\n')\n",
    "        "
   ]
  },
  {
   "cell_type": "markdown",
   "metadata": {},
   "source": [
    "We notice a lot of mistakes for reviews where the reviewer's expectation is stated but was not met.  We also see some language that may be hard to pick up by a machine learning algorithm (e.g. \"did not like\" is actually negative despite having the word \"like\" in it).  It seems that we need some sort of an algorithm that has a memory of what came before and after certain features.  Something like a recurrent neural network..."
   ]
  },
  {
   "cell_type": "markdown",
   "metadata": {},
   "source": [
    "### Recurrent Neural Network"
   ]
  },
  {
   "cell_type": "markdown",
   "metadata": {},
   "source": [
    "In this section we will implement a very simple recurrent neural network.  It will consist only 4 layers:\n",
    "1. An embedding layer for an efficient representation of the training samples\n",
    "2. A long short term memory layer for the bulk of the prediction power\n",
    "3. A dropout layer for regularization\n",
    "4. An output layer\n",
    "\n",
    "We will also have a checkpoint callback for saving the model."
   ]
  },
  {
   "cell_type": "markdown",
   "metadata": {},
   "source": [
    "But first, we need to tokenize the input.  We will use the same number of features as the vocabulary from the TFIDF vectorizer. Also we will only use the first 200 words from each review in order to capture most of the reviews, whilte setting a reasonable limit (recall the below plot)."
   ]
  },
  {
   "cell_type": "code",
   "execution_count": 19,
   "metadata": {},
   "outputs": [
    {
     "data": {
      "text/plain": [
       "<matplotlib.axes._subplots.AxesSubplot at 0x1c7cab00>"
      ]
     },
     "execution_count": 19,
     "metadata": {},
     "output_type": "execute_result"
    },
    {
     "data": {
      "image/png": "[encoded data removed]",
      "text/plain": [
       "<matplotlib.figure.Figure at 0x16ccf320>"
      ]
     },
     "metadata": {},
     "output_type": "display_data"
    }
   ],
   "source": [
    "sns.distplot(reviews.word_count, kde=False)"
   ]
  },
  {
   "cell_type": "code",
   "execution_count": 6,
   "metadata": {},
   "outputs": [],
   "source": [
    "max_features = len(tv.vocabulary_) # use same number of features as TFIDF vectorizer\n",
    "maxlen = 200 # max words from each review to use\n",
    "\n",
    "t = Tokenizer(num_words=max_features)\n",
    "t.fit_on_texts(extreme_reviews['text'])\n",
    "texts = pad_sequences(t.texts_to_sequences(extreme_reviews['text']), maxlen = maxlen)"
   ]
  },
  {
   "cell_type": "markdown",
   "metadata": {},
   "source": [
    "Now we can build the model as described above.  We are essentially using the suggested LSTM network suggested [here](https://keras.io/getting-started/sequential-model-guide/)."
   ]
  },
  {
   "cell_type": "code",
   "execution_count": 31,
   "metadata": {},
   "outputs": [],
   "source": [
    "model = Sequential()\n",
    "model.add(Embedding(max_features, 128))\n",
    "model.add(LSTM(128))\n",
    "model.add(Dropout(0.5))\n",
    "model.add(Dense(1, activation='sigmoid'))\n",
    "\n",
    "try: model.load_weights('rnn_weights.hdf5') # load weights if they exist\n",
    "except: pass\n",
    "\n",
    "model.compile(optimizer='rmsprop',\n",
    "              loss='binary_crossentropy',\n",
    "              metrics=['accuracy'])\n",
    "\n",
    "checkpoint = ModelCheckpoint(monitor='val_loss', save_best_only=True, filepath='rnn_weights.hdf5')"
   ]
  },
  {
   "cell_type": "markdown",
   "metadata": {},
   "source": [
    "Create some new training and test sets."
   ]
  },
  {
   "cell_type": "code",
   "execution_count": 8,
   "metadata": {
    "scrolled": true
   },
   "outputs": [],
   "source": [
    "X_train_rnn, X_test_rnn, y_train_rnn, y_test_rnn = \\\n",
    "    train_test_split(texts, extreme_reviews.positive.values, test_size=.1)"
   ]
  },
  {
   "cell_type": "markdown",
   "metadata": {},
   "source": [
    "Train the model and output the accuracy."
   ]
  },
  {
   "cell_type": "code",
   "execution_count": 32,
   "metadata": {
    "scrolled": true
   },
   "outputs": [
    {
     "name": "stdout",
     "output_type": "stream",
     "text": [
      "Train on 6709 samples, validate on 746 samples\n",
      "Epoch 1/10\n",
      "6709/6709 [==============================] - 41s 6ms/step - loss: 0.1247 - acc: 0.9593 - val_loss: 0.1525 - val_acc: 0.9410\n",
      "Epoch 2/10\n",
      "6709/6709 [==============================] - 41s 6ms/step - loss: 0.0837 - acc: 0.9736 - val_loss: 0.1525 - val_acc: 0.9437\n",
      "Epoch 3/10\n",
      "6709/6709 [==============================] - 41s 6ms/step - loss: 0.0527 - acc: 0.9818 - val_loss: 0.2703 - val_acc: 0.9021\n",
      "Epoch 4/10\n",
      "6709/6709 [==============================] - 41s 6ms/step - loss: 0.0494 - acc: 0.9842 - val_loss: 0.3319 - val_acc: 0.9316\n",
      "Epoch 5/10\n",
      "6709/6709 [==============================] - 42s 6ms/step - loss: 0.0318 - acc: 0.9900 - val_loss: 0.2500 - val_acc: 0.9303\n",
      "Epoch 6/10\n",
      "6709/6709 [==============================] - 43s 6ms/step - loss: 0.0327 - acc: 0.9902 - val_loss: 0.2321 - val_acc: 0.9370\n",
      "Epoch 7/10\n",
      "6709/6709 [==============================] - 43s 6ms/step - loss: 0.0290 - acc: 0.9915 - val_loss: 0.3478 - val_acc: 0.9236\n",
      "Epoch 8/10\n",
      "6709/6709 [==============================] - 44s 7ms/step - loss: 0.0113 - acc: 0.9964 - val_loss: 0.2670 - val_acc: 0.9410\n",
      "Epoch 9/10\n",
      "6709/6709 [==============================] - 45s 7ms/step - loss: 0.0118 - acc: 0.9966 - val_loss: 0.2663 - val_acc: 0.9330\n",
      "Epoch 10/10\n",
      "6709/6709 [==============================] - 42s 6ms/step - loss: 0.0149 - acc: 0.9964 - val_loss: 0.2917 - val_acc: 0.9370\n",
      "Test\n",
      "829/829 [==============================] - 1s 1ms/step\n",
      "Loss = 0.6107\n",
      "Accuracy = 0.8830\n"
     ]
    }
   ],
   "source": [
    "model.fit(X_train_rnn, y_train_rnn, epochs=10, batch_size=64, callbacks=[checkpoint], validation_split=.1)\n",
    "\n",
    "print('Test')\n",
    "score = model.evaluate(X_test_rnn, y_test_rnn, batch_size=64)\n",
    "print('Loss = %.4f' % score[0])\n",
    "print('Accuracy = %.4f' % score[1])"
   ]
  },
  {
   "cell_type": "markdown",
   "metadata": {},
   "source": [
    "After quite a long time of training, we end up with performance that is not even as good as naive Bayes.  This is probably an artifact of the simplicity of the model.  Also we are not using very much training data here."
   ]
  },
  {
   "cell_type": "markdown",
   "metadata": {},
   "source": [
    "### Load more data"
   ]
  },
  {
   "cell_type": "markdown",
   "metadata": {},
   "source": [
    "In this section we load some more data (10X what we've been developing with) and see how that affects the results."
   ]
  },
  {
   "cell_type": "code",
   "execution_count": 3,
   "metadata": {},
   "outputs": [],
   "source": [
    "more_reviews = pd.read_csv('input/yelp_review.csv', nrows=100000)"
   ]
  },
  {
   "cell_type": "code",
   "execution_count": 6,
   "metadata": {},
   "outputs": [
    {
     "name": "stdout",
     "output_type": "stream",
     "text": [
      "Number of features from TFIDFVectorizer: 83781\n",
      "Wall time: 8.36 s\n"
     ]
    }
   ],
   "source": [
    "%%time\n",
    "more_reviews['positive'] = more_reviews.stars > 3\n",
    "\n",
    "np.random.seed(0)\n",
    "X_train_review2, X_test_review2, y_train_review2, y_test_review2 = \\\n",
    "    train_test_split(more_reviews.text.values, more_reviews.positive.values, test_size=.1)\n",
    "    \n",
    "tv = TfidfVectorizer(stop_words='english')\n",
    "dtm_train2 = tv.fit_transform(X_train_review2)\n",
    "dtm_test2 = tv.transform(X_test_review2)\n",
    "print('Number of features from TFIDFVectorizer: %d' % len(tv.get_feature_names()))"
   ]
  },
  {
   "cell_type": "code",
   "execution_count": 10,
   "metadata": {
    "scrolled": false
   },
   "outputs": [
    {
     "name": "stdout",
     "output_type": "stream",
     "text": [
      "             precision    recall  f1-score   support\n",
      "\n",
      "      False      0.858     0.787     0.821      3326\n",
      "       True      0.898     0.935     0.916      6674\n",
      "\n",
      "avg / total      0.885     0.886     0.884     10000\n",
      "\n",
      "Accuracy: 0.8858\n",
      "Wall time: 2.2 s\n"
     ]
    }
   ],
   "source": [
    "%%time\n",
    "\n",
    "lr = LogisticRegression(penalty='l1', C=2)\n",
    "lr.fit(dtm_train2, y_train_review2)\n",
    "\n",
    "print(metrics.classification_report(y_test_review2, lr.predict(dtm_test2), digits=3))\n",
    "print('Accuracy:', metrics.accuracy_score(y_test_review2, lr.predict(dtm_test2)))"
   ]
  },
  {
   "cell_type": "code",
   "execution_count": 13,
   "metadata": {},
   "outputs": [
    {
     "name": "stdout",
     "output_type": "stream",
     "text": [
      "Wall time: 17.6 s\n"
     ]
    }
   ],
   "source": [
    "%%time\n",
    "\n",
    "max_features = 26985 # use same number of features as previous TFIDF vectorizer\n",
    "maxlen = 200 # max words from each review to use\n",
    "\n",
    "t = Tokenizer(num_words=max_features)\n",
    "t.fit_on_texts(more_reviews['text'])\n",
    "texts = pad_sequences(t.texts_to_sequences(more_reviews['text']), maxlen = maxlen)\n",
    "\n",
    "model = Sequential()\n",
    "model.add(Embedding(max_features, 128))\n",
    "model.add(LSTM(128))\n",
    "model.add(Dropout(0.5))\n",
    "model.add(Dense(1, activation='sigmoid'))\n",
    "\n",
    "try: model.load_weights('rnn_weights.hdf5') # load weights if they exist\n",
    "except: pass\n",
    "\n",
    "model.compile(optimizer='rmsprop',\n",
    "              loss='binary_crossentropy',\n",
    "              metrics=['accuracy'])\n",
    "\n",
    "checkpoint = ModelCheckpoint(monitor='val_loss', save_best_only=True, filepath='rnn_weights.hdf5')\n",
    "\n",
    "X_train_rnn2, X_test_rnn2, y_train_rnn2, y_test_rnn2 = \\\n",
    "    train_test_split(texts, more_reviews.positive.values, test_size=.1)"
   ]
  },
  {
   "cell_type": "code",
   "execution_count": 18,
   "metadata": {},
   "outputs": [
    {
     "name": "stdout",
     "output_type": "stream",
     "text": [
      "Train on 81000 samples, validate on 9000 samples\n",
      "Epoch 1/10\n",
      "81000/81000 [==============================] - 522s 6ms/step - loss: 0.1605 - acc: 0.9400 - val_loss: 0.2632 - val_acc: 0.9067\n",
      "Epoch 2/10\n",
      "81000/81000 [==============================] - 521s 6ms/step - loss: 0.1452 - acc: 0.9469 - val_loss: 0.2437 - val_acc: 0.9031\n",
      "Epoch 3/10\n",
      "81000/81000 [==============================] - 522s 6ms/step - loss: 0.1301 - acc: 0.9528 - val_loss: 0.2712 - val_acc: 0.9057\n",
      "Epoch 4/10\n",
      "81000/81000 [==============================] - 521s 6ms/step - loss: 0.1153 - acc: 0.9592 - val_loss: 0.2719 - val_acc: 0.9014\n",
      "Epoch 5/10\n",
      "81000/81000 [==============================] - 521s 6ms/step - loss: 0.1004 - acc: 0.9651 - val_loss: 0.3434 - val_acc: 0.8953\n",
      "Epoch 6/10\n",
      "81000/81000 [==============================] - 521s 6ms/step - loss: 0.0866 - acc: 0.9708 - val_loss: 0.3498 - val_acc: 0.8913\n",
      "Epoch 7/10\n",
      "81000/81000 [==============================] - 522s 6ms/step - loss: 0.0765 - acc: 0.9740 - val_loss: 0.3470 - val_acc: 0.8883\n",
      "Epoch 8/10\n",
      "81000/81000 [==============================] - 522s 6ms/step - loss: 0.0648 - acc: 0.9779 - val_loss: 0.4026 - val_acc: 0.8970\n",
      "Epoch 9/10\n",
      "81000/81000 [==============================] - 522s 6ms/step - loss: 0.0551 - acc: 0.9820 - val_loss: 0.4386 - val_acc: 0.8911\n",
      "Epoch 10/10\n",
      "81000/81000 [==============================] - 523s 6ms/step - loss: 0.0444 - acc: 0.9855 - val_loss: 0.4992 - val_acc: 0.8839\n",
      "Test\n",
      "10000/10000 [==============================] - 10s 979us/step\n",
      "Loss = 0.5210\n",
      "Accuracy = 0.8826\n"
     ]
    }
   ],
   "source": [
    "model.fit(X_train_rnn2, y_train_rnn2, epochs=10, batch_size=64, callbacks=[checkpoint], validation_split=.1)\n",
    "\n",
    "print('Test')\n",
    "score = model.evaluate(X_test_rnn2, y_test_rnn2, batch_size=64)\n",
    "print('Loss = %.4f' % score[0])\n",
    "print('Accuracy = %.4f' % score[1])"
   ]
  },
  {
   "cell_type": "markdown",
   "metadata": {},
   "source": [
    "Unfortunately we did not improve the accuracy on the logistic regression or neural network model.  Some work needs to be done on the structure of the neural network."
   ]
  }
 ],
 "metadata": {
  "kernelspec": {
   "display_name": "Python [conda env:py3]",
   "language": "python",
   "name": "conda-env-py3-py"
  },
  "language_info": {
   "codemirror_mode": {
    "name": "ipython",
    "version": 3
   },
   "file_extension": ".py",
   "mimetype": "text/x-python",
   "name": "python",
   "nbconvert_exporter": "python",
   "pygments_lexer": "ipython3",
   "version": "3.6.3"
  }
 },
 "nbformat": 4,
 "nbformat_minor": 2
}
