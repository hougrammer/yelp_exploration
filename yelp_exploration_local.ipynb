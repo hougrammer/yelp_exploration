{
 "cells": [
  {
   "cell_type": "markdown",
   "metadata": {},
   "source": [
    "# Yelp Exploration"
   ]
  },
  {
   "cell_type": "code",
   "execution_count": 11,
   "metadata": {},
   "outputs": [],
   "source": [
    "%matplotlib inline\n",
    "\n",
    "import numpy as np\n",
    "import pandas as pd\n",
    "import matplotlib.pyplot as plt\n",
    "import seaborn as sns\n",
    "\n",
    "from sklearn.model_selection import train_test_split\n",
    "from sklearn.linear_model import LogisticRegression\n",
    "from sklearn.svm import LinearSVC\n",
    "from sklearn.neighbors import KNeighborsClassifier\n",
    "from sklearn.naive_bayes import BernoulliNB\n",
    "from sklearn.naive_bayes import MultinomialNB\n",
    "from sklearn.model_selection import GridSearchCV\n",
    "\n",
    "from sklearn.feature_extraction.text import *\n",
    "from sklearn import metrics"
   ]
  },
  {
   "cell_type": "code",
   "execution_count": 3,
   "metadata": {},
   "outputs": [],
   "source": [
    "reviews = pd.read_csv('input/yelp_review.csv', nrows=10000)"
   ]
  },
  {
   "cell_type": "code",
   "execution_count": 4,
   "metadata": {
    "scrolled": true
   },
   "outputs": [
    {
     "data": {
      "text/plain": [
       "<matplotlib.axes._subplots.AxesSubplot at 0x1a0e22e278>"
      ]
     },
     "execution_count": 4,
     "metadata": {},
     "output_type": "execute_result"
    },
    {
     "data": {
      "image/png": "[encoded data removed]",
      "text/plain": [
       "<matplotlib.figure.Figure at 0x1a0e0ff7f0>"
      ]
     },
     "metadata": {},
     "output_type": "display_data"
    }
   ],
   "source": [
    "sns.countplot('stars', data=reviews)"
   ]
  },
  {
   "cell_type": "code",
   "execution_count": 5,
   "metadata": {
    "collapsed": true
   },
   "outputs": [],
   "source": [
    "train_data, dev_data, train_labels, dev_labels = \\\n",
    "    train_test_split(reviews.text.values, reviews.stars.values, test_size=.1, random_state=0)"
   ]
  },
  {
   "cell_type": "markdown",
   "metadata": {},
   "source": [
    "## Count Vectorizer"
   ]
  },
  {
   "cell_type": "code",
   "execution_count": 6,
   "metadata": {},
   "outputs": [
    {
     "name": "stdout",
     "output_type": "stream",
     "text": [
      "             precision    recall  f1-score   support\n",
      "\n",
      "          1       0.69      0.63      0.66        94\n",
      "          2       0.38      0.30      0.33        87\n",
      "          3       0.38      0.30      0.34       175\n",
      "          4       0.46      0.51      0.49       300\n",
      "          5       0.61      0.66      0.64       344\n",
      "\n",
      "avg / total       0.51      0.52      0.51      1000\n",
      "\n"
     ]
    }
   ],
   "source": [
    "cv = CountVectorizer(stop_words='english')\n",
    "train_dtm = cv.fit_transform(train_data)\n",
    "dev_dtm = cv.transform(dev_data)\n",
    "\n",
    "lr = LogisticRegression()\n",
    "lr.fit(train_dtm, train_labels)\n",
    "\n",
    "print(metrics.classification_report(dev_labels, lr.predict(dev_dtm)))"
   ]
  },
  {
   "cell_type": "code",
   "execution_count": 7,
   "metadata": {},
   "outputs": [
    {
     "data": {
      "text/plain": [
       "30044"
      ]
     },
     "execution_count": 7,
     "metadata": {},
     "output_type": "execute_result"
    }
   ],
   "source": [
    "len(cv.get_feature_names())"
   ]
  },
  {
   "cell_type": "markdown",
   "metadata": {},
   "source": [
    "## TFIDF Vectorizer"
   ]
  },
  {
   "cell_type": "code",
   "execution_count": 8,
   "metadata": {},
   "outputs": [
    {
     "name": "stdout",
     "output_type": "stream",
     "text": [
      "             precision    recall  f1-score   support\n",
      "\n",
      "          1       0.77      0.54      0.64        94\n",
      "          2       0.47      0.09      0.15        87\n",
      "          3       0.47      0.29      0.36       175\n",
      "          4       0.48      0.57      0.52       300\n",
      "          5       0.59      0.78      0.68       344\n",
      "\n",
      "avg / total       0.54      0.55      0.52      1000\n",
      "\n"
     ]
    }
   ],
   "source": [
    "tv = TfidfVectorizer(stop_words='english')\n",
    "train_dtm2 = tv.fit_transform(train_data)\n",
    "dev_dtm2 = tv.transform(dev_data)\n",
    "\n",
    "lr2 = LogisticRegression()\n",
    "lr2.fit(train_dtm2, train_labels)\n",
    "\n",
    "print(metrics.classification_report(dev_labels, lr2.predict(dev_dtm2)))"
   ]
  },
  {
   "cell_type": "markdown",
   "metadata": {},
   "source": [
    "## SVM"
   ]
  },
  {
   "cell_type": "markdown",
   "metadata": {},
   "source": [
    "Interestingly, an SVM is horrible if we use the count vectorizer but on par with logistic regression if we use the tf-idf vectorizer.  Fitting is also much faster with tf-idf as well."
   ]
  },
  {
   "cell_type": "code",
   "execution_count": 9,
   "metadata": {},
   "outputs": [
    {
     "name": "stdout",
     "output_type": "stream",
     "text": [
      "             precision    recall  f1-score   support\n",
      "\n",
      "          1       0.68      0.55      0.61        94\n",
      "          2       0.33      0.32      0.32        87\n",
      "          3       0.35      0.32      0.34       175\n",
      "          4       0.42      0.45      0.43       300\n",
      "          5       0.59      0.62      0.60       344\n",
      "\n",
      "avg / total       0.48      0.48      0.48      1000\n",
      "\n"
     ]
    }
   ],
   "source": [
    "svc = LinearSVC()\n",
    "svc.fit(train_dtm, train_labels)\n",
    "print(metrics.classification_report(dev_labels, svc.predict(dev_dtm)))"
   ]
  },
  {
   "cell_type": "code",
   "execution_count": 10,
   "metadata": {
    "scrolled": true
   },
   "outputs": [
    {
     "name": "stdout",
     "output_type": "stream",
     "text": [
      "             precision    recall  f1-score   support\n",
      "\n",
      "          1       0.68      0.65      0.66        94\n",
      "          2       0.38      0.24      0.30        87\n",
      "          3       0.38      0.33      0.35       175\n",
      "          4       0.45      0.50      0.47       300\n",
      "          5       0.62      0.68      0.65       344\n",
      "\n",
      "avg / total       0.51      0.52      0.52      1000\n",
      "\n"
     ]
    }
   ],
   "source": [
    "svc2 = LinearSVC()\n",
    "svc2.fit(train_dtm2, train_labels)\n",
    "print(metrics.classification_report(dev_labels, svc2.predict(dev_dtm2)))"
   ]
  },
  {
   "cell_type": "markdown",
   "metadata": {},
   "source": [
    "## KNN"
   ]
  },
  {
   "cell_type": "code",
   "execution_count": 41,
   "metadata": {},
   "outputs": [
    {
     "name": "stdout",
     "output_type": "stream",
     "text": [
      "             precision    recall  f1-score   support\n",
      "\n",
      "          1       0.50      0.17      0.25        94\n",
      "          2       0.21      0.05      0.08        87\n",
      "          3       0.28      0.29      0.28       175\n",
      "          4       0.33      0.29      0.31       300\n",
      "          5       0.42      0.62      0.50       344\n",
      "\n",
      "avg / total       0.36      0.37      0.34      1000\n",
      "\n"
     ]
    }
   ],
   "source": [
    "knn = KNeighborsClassifier(n_neighbors=5)\n",
    "knn.fit(train_dtm, train_labels)\n",
    "print(metrics.classification_report(dev_labels, knn.predict(dev_dtm)))"
   ]
  },
  {
   "cell_type": "code",
   "execution_count": 149,
   "metadata": {},
   "outputs": [
    {
     "name": "stdout",
     "output_type": "stream",
     "text": [
      "Best value of k is  {'n_neighbors': 5}\n",
      "Best score is 0.347\n"
     ]
    }
   ],
   "source": [
    "# Use GridSearchCV to optimize K with respect to weighted average f1\n",
    "k = {'n_neighbors': [1, 3, 5, 7, 10, 20]}\n",
    "knn = GridSearchCV(KNeighborsClassifier(), k, scoring = 'f1_weighted')\n",
    "knn.fit(train_dtm, train_labels)\n",
    "print(\"Best value of k is \", knn.best_params_)\n",
    "print(\"Best score is\", round(knn.best_score_,3))"
   ]
  },
  {
   "cell_type": "code",
   "execution_count": 154,
   "metadata": {},
   "outputs": [
    {
     "data": {
      "text/html": [
       "<div>\n",
       "<style>\n",
       "    .dataframe thead tr:only-child th {\n",
       "        text-align: right;\n",
       "    }\n",
       "\n",
       "    .dataframe thead th {\n",
       "        text-align: left;\n",
       "    }\n",
       "\n",
       "    .dataframe tbody tr th {\n",
       "        vertical-align: top;\n",
       "    }\n",
       "</style>\n",
       "<table border=\"1\" class=\"dataframe\">\n",
       "  <thead>\n",
       "    <tr style=\"text-align: right;\">\n",
       "      <th></th>\n",
       "      <th>1</th>\n",
       "      <th>2</th>\n",
       "      <th>3</th>\n",
       "      <th>4</th>\n",
       "      <th>5</th>\n",
       "    </tr>\n",
       "    <tr>\n",
       "      <th>k</th>\n",
       "      <th></th>\n",
       "      <th></th>\n",
       "      <th></th>\n",
       "      <th></th>\n",
       "      <th></th>\n",
       "    </tr>\n",
       "  </thead>\n",
       "  <tbody>\n",
       "    <tr>\n",
       "      <th>1.0</th>\n",
       "      <td>0.201342</td>\n",
       "      <td>0.114754</td>\n",
       "      <td>0.256410</td>\n",
       "      <td>0.291115</td>\n",
       "      <td>0.482490</td>\n",
       "    </tr>\n",
       "    <tr>\n",
       "      <th>3.0</th>\n",
       "      <td>0.284264</td>\n",
       "      <td>0.139860</td>\n",
       "      <td>0.272941</td>\n",
       "      <td>0.251101</td>\n",
       "      <td>0.499360</td>\n",
       "    </tr>\n",
       "    <tr>\n",
       "      <th>5.0</th>\n",
       "      <td>0.253968</td>\n",
       "      <td>0.075472</td>\n",
       "      <td>0.283286</td>\n",
       "      <td>0.305506</td>\n",
       "      <td>0.502347</td>\n",
       "    </tr>\n",
       "    <tr>\n",
       "      <th>7.0</th>\n",
       "      <td>0.240000</td>\n",
       "      <td>0.056604</td>\n",
       "      <td>0.261818</td>\n",
       "      <td>0.319109</td>\n",
       "      <td>0.534031</td>\n",
       "    </tr>\n",
       "    <tr>\n",
       "      <th>10.0</th>\n",
       "      <td>0.165138</td>\n",
       "      <td>0.020833</td>\n",
       "      <td>0.208000</td>\n",
       "      <td>0.302583</td>\n",
       "      <td>0.536391</td>\n",
       "    </tr>\n",
       "    <tr>\n",
       "      <th>20.0</th>\n",
       "      <td>0.061224</td>\n",
       "      <td>0.064516</td>\n",
       "      <td>0.131313</td>\n",
       "      <td>0.305284</td>\n",
       "      <td>0.541818</td>\n",
       "    </tr>\n",
       "  </tbody>\n",
       "</table>\n",
       "</div>"
      ],
      "text/plain": [
       "             1         2         3         4         5\n",
       "k                                                     \n",
       "1.0   0.201342  0.114754  0.256410  0.291115  0.482490\n",
       "3.0   0.284264  0.139860  0.272941  0.251101  0.499360\n",
       "5.0   0.253968  0.075472  0.283286  0.305506  0.502347\n",
       "7.0   0.240000  0.056604  0.261818  0.319109  0.534031\n",
       "10.0  0.165138  0.020833  0.208000  0.302583  0.536391\n",
       "20.0  0.061224  0.064516  0.131313  0.305284  0.541818"
      ]
     },
     "execution_count": 154,
     "metadata": {},
     "output_type": "execute_result"
    }
   ],
   "source": [
    "# Check impact of tuning k on f1 score for individual star ratings\n",
    "\n",
    "k_test = [1,3,5,7,10,20]\n",
    "results = []\n",
    "for k in k_test:\n",
    "    knn = KNeighborsClassifier(n_neighbors=k)\n",
    "    knn.fit(train_dtm, train_labels)\n",
    "    scores = np.append(k, metrics.f1_score(dev_labels, knn.predict(dev_dtm), average = None))\n",
    "    results.append(scores)\n",
    "\n",
    "df = pd.DataFrame(results)\n",
    "df.columns = ['k','1','2','3','4','5']\n",
    "df.set_index('k')"
   ]
  },
  {
   "cell_type": "markdown",
   "metadata": {},
   "source": [
    "Increasing k generally reduces f1 score for low ratings (1 to 3 stars) while increasing it for 5 start reviews. Since there are more 5 star reviews than any other, this may indicate that with high k we start underfitting and predict 5's."
   ]
  },
  {
   "cell_type": "markdown",
   "metadata": {},
   "source": [
    "Try KNN using tf-idf vectorizer"
   ]
  },
  {
   "cell_type": "code",
   "execution_count": 39,
   "metadata": {},
   "outputs": [
    {
     "name": "stdout",
     "output_type": "stream",
     "text": [
      "             precision    recall  f1-score   support\n",
      "\n",
      "          1       0.49      0.39      0.44        94\n",
      "          2       0.25      0.13      0.17        87\n",
      "          3       0.25      0.34      0.29       175\n",
      "          4       0.36      0.39      0.37       300\n",
      "          5       0.53      0.51      0.52       344\n",
      "\n",
      "avg / total       0.40      0.40      0.40      1000\n",
      "\n"
     ]
    }
   ],
   "source": [
    "knn2 = KNeighborsClassifier(n_neighbors=5)\n",
    "knn2.fit(train_dtm2, train_labels)\n",
    "print(metrics.classification_report(dev_labels, knn2.predict(dev_dtm)))"
   ]
  },
  {
   "cell_type": "code",
   "execution_count": null,
   "metadata": {
    "collapsed": true
   },
   "outputs": [],
   "source": []
  }
 ],
 "metadata": {
  "kernelspec": {
   "display_name": "Python 3",
   "language": "python",
   "name": "python3"
  },
  "language_info": {
   "codemirror_mode": {
    "name": "ipython",
    "version": 3
   },
   "file_extension": ".py",
   "mimetype": "text/x-python",
   "name": "python",
   "nbconvert_exporter": "python",
   "pygments_lexer": "ipython3",
   "version": "3.6.3"
  }
 },
 "nbformat": 4,
 "nbformat_minor": 2
}
